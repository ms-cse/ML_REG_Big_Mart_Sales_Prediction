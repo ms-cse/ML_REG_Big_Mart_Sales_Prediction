{
 "cells": [
  {
   "cell_type": "markdown",
   "id": "38a4ff0d-93a7-4d10-8806-11e6eae345c2",
   "metadata": {},
   "source": [
    "# FEATURE ENGINEERING OBSERVATIONS - {\"BIGMART SALES\" DATASET}"
   ]
  },
  {
   "cell_type": "markdown",
   "id": "d55f8aac-c19b-4352-a3e6-94c06de87489",
   "metadata": {},
   "source": [
    "## A. Observations\n",
    "\n",
    "#### 1. Drop non relevant features from the dataset.\n",
    "#### 2. Outliers handling using IQR method and Capping.\n",
    "#### 3. Feature transformation checks.\n",
    "#### 4. Scaling for numerical float type features.\n",
    "#### 5. Categorical data encoding using Ordinal Encoding and One Hot Encoding Techniques.\n",
    "#### 6. Feature hasher for high cardinality categorical features to reduce dimensions.   (Not Used)\n",
    "#### 7. Feature selection to increase the performance of the model."
   ]
  },
  {
   "cell_type": "markdown",
   "id": "5b6fb0d0-ca24-4d2b-8e26-2f0b2d8af299",
   "metadata": {},
   "source": [
    "## B. Steps of Feature Engineering\n",
    "#### 1. Drop non relevant features from the observations.\n",
    "\n",
    "#### 2. Oultier Detection and Handling using Capping Technique\n",
    "\n",
    "##### - Detect and handle outliers in numerical features of Train dataset only.\n",
    "#### 3. Feature Transformation (to be applied in pipeline)\n",
    "\n",
    "#### Checking various features transformations: (Log), (Square), (Reciprocal), (Square Root), (Exponential), (Yeo-Johnson)\n",
    "##### - 'Yeo-Johnson' Transformation is performing better in comparison to other transformations.\n",
    "##### - Apply 'Yeo-Johnson' on numerical features of Train, Validation, and Test dataset.\n",
    "#### 4. Scaling (StandardScaler / MinMaxScaler) (to be applied in pipeline)\n",
    "\n",
    "##### - Apply 'StandardScaler' on numerical features of Train, Validation, and Test dataset to reduce the skew.\n",
    "#### 5. Categorical features encoding using Ordinal encoding and OneHot encoding techniques\n",
    "\n",
    "#### 6. Feature hasher (Not Used)\n",
    "\n",
    "#### 7. Feature Selection Techniques (to be applied in pipeline)\n",
    "##### - Apply SelectKBest with mutual_info_regression to select the top k features for Model Building using estimators.\n",
    "##### - Treat Train, Validation, and Test dataset with feature selection strategy."
   ]
  },
  {
   "cell_type": "markdown",
   "id": "3d938dff-c558-49f8-af0c-9ba544f66505",
   "metadata": {},
   "source": [
    "## C. Saving the feature engineered train and test datasets into CSV and PKL files\n",
    "#### - Train dataset is saved after outlier detection and handling step.\n",
    "##### - 'bms_FE_train_final.csv'\n",
    "##### - 'bms_FE_train_final.pkl'\n",
    "\n",
    "#### - Validation and Test data.\n",
    "##### - 'bms_FE_valid_final.csv'\n",
    "##### - 'bms_FE_valid_final.pkl'\n",
    "##### - 'bms_FE_test_final.csv'\n",
    "##### - 'bms_FE_test_final.pkl'"
   ]
  },
  {
   "cell_type": "code",
   "execution_count": null,
   "id": "b57f9751-2038-455a-adb3-2eec062888b1",
   "metadata": {},
   "outputs": [],
   "source": []
  }
 ],
 "metadata": {
  "kernelspec": {
   "display_name": "Python 3 (ipykernel)",
   "language": "python",
   "name": "python3"
  },
  "language_info": {
   "codemirror_mode": {
    "name": "ipython",
    "version": 3
   },
   "file_extension": ".py",
   "mimetype": "text/x-python",
   "name": "python",
   "nbconvert_exporter": "python",
   "pygments_lexer": "ipython3",
   "version": "3.10.10"
  }
 },
 "nbformat": 4,
 "nbformat_minor": 5
}
