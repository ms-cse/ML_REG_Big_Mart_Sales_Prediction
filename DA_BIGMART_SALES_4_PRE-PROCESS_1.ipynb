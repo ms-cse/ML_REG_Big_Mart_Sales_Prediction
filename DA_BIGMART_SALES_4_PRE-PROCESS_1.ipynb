{
 "cells": [
  {
   "cell_type": "markdown",
   "id": "4a3436fe-a8bd-44eb-8697-6f160839f0ff",
   "metadata": {},
   "source": [
    "# BASIC PRE-PROCESSING - {\"BIGMART SALES\" DATASET}"
   ]
  },
  {
   "cell_type": "markdown",
   "id": "bea2af72-cda7-4524-a75e-716950556796",
   "metadata": {},
   "source": [
    "## 1. Import Modules and Configuration Settings"
   ]
  },
  {
   "cell_type": "code",
   "execution_count": 1,
   "id": "451c3cef-ea2f-420d-8181-541cb2d2ff51",
   "metadata": {
    "tags": []
   },
   "outputs": [],
   "source": [
    "import warnings\n",
    "warnings.filterwarnings('ignore')\n",
    "\n",
    "import numpy as np\n",
    "import pandas as pd\n",
    "\n",
    "from sklearn.model_selection import train_test_split"
   ]
  },
  {
   "cell_type": "code",
   "execution_count": 2,
   "id": "48d395bd-1568-47a6-a0c6-ffaf64da18a7",
   "metadata": {
    "tags": []
   },
   "outputs": [],
   "source": [
    "# PD Options\n",
    "\n",
    "pd.set_option('display.min_rows', 5)\n",
    "pd.set_option('display.max_rows', 25)\n",
    "pd.set_option('display.precision', 4)"
   ]
  },
  {
   "cell_type": "markdown",
   "id": "c0e4ee4d-f713-4c3f-8fd5-3d35c19512f1",
   "metadata": {},
   "source": [
    "## 2. Import Dataset"
   ]
  },
  {
   "cell_type": "code",
   "execution_count": 3,
   "id": "34239b88-5294-4087-880b-5b4b94a34e06",
   "metadata": {
    "tags": []
   },
   "outputs": [],
   "source": [
    "data = pd.read_csv('bms_train.csv')\n",
    "df = data.copy()"
   ]
  },
  {
   "cell_type": "code",
   "execution_count": 4,
   "id": "2feab842-96b6-4a55-aa17-e8f541dbd76d",
   "metadata": {},
   "outputs": [
    {
     "name": "stdout",
     "output_type": "stream",
     "text": [
      "<class 'pandas.core.frame.DataFrame'>\n",
      "RangeIndex: 8523 entries, 0 to 8522\n",
      "Data columns (total 12 columns):\n",
      " #   Column                     Non-Null Count  Dtype  \n",
      "---  ------                     --------------  -----  \n",
      " 0   Item_Identifier            8523 non-null   object \n",
      " 1   Item_Weight                7060 non-null   float64\n",
      " 2   Item_Fat_Content           8523 non-null   object \n",
      " 3   Item_Visibility            8523 non-null   float64\n",
      " 4   Item_Type                  8523 non-null   object \n",
      " 5   Item_MRP                   8523 non-null   float64\n",
      " 6   Outlet_Identifier          8523 non-null   object \n",
      " 7   Outlet_Establishment_Year  8523 non-null   int64  \n",
      " 8   Outlet_Size                6113 non-null   object \n",
      " 9   Outlet_Location_Type       8523 non-null   object \n",
      " 10  Outlet_Type                8523 non-null   object \n",
      " 11  Item_Outlet_Sales          8523 non-null   float64\n",
      "dtypes: float64(4), int64(1), object(7)\n",
      "memory usage: 799.2+ KB\n"
     ]
    }
   ],
   "source": [
    "df.info()"
   ]
  },
  {
   "cell_type": "code",
   "execution_count": 5,
   "id": "de98e022-26bc-4e0c-a551-2e5e8ff8429b",
   "metadata": {
    "tags": []
   },
   "outputs": [
    {
     "data": {
      "text/html": [
       "<div>\n",
       "<style scoped>\n",
       "    .dataframe tbody tr th:only-of-type {\n",
       "        vertical-align: middle;\n",
       "    }\n",
       "\n",
       "    .dataframe tbody tr th {\n",
       "        vertical-align: top;\n",
       "    }\n",
       "\n",
       "    .dataframe thead th {\n",
       "        text-align: right;\n",
       "    }\n",
       "</style>\n",
       "<table border=\"1\" class=\"dataframe\">\n",
       "  <thead>\n",
       "    <tr style=\"text-align: right;\">\n",
       "      <th></th>\n",
       "      <th>Item_Identifier</th>\n",
       "      <th>Item_Weight</th>\n",
       "      <th>Item_Fat_Content</th>\n",
       "      <th>Item_Visibility</th>\n",
       "      <th>Item_Type</th>\n",
       "      <th>Item_MRP</th>\n",
       "      <th>Outlet_Identifier</th>\n",
       "      <th>Outlet_Establishment_Year</th>\n",
       "      <th>Outlet_Size</th>\n",
       "      <th>Outlet_Location_Type</th>\n",
       "      <th>Outlet_Type</th>\n",
       "      <th>Item_Outlet_Sales</th>\n",
       "    </tr>\n",
       "  </thead>\n",
       "  <tbody>\n",
       "    <tr>\n",
       "      <th>0</th>\n",
       "      <td>FDA15</td>\n",
       "      <td>9.30</td>\n",
       "      <td>Low Fat</td>\n",
       "      <td>0.0160</td>\n",
       "      <td>Dairy</td>\n",
       "      <td>249.8092</td>\n",
       "      <td>OUT049</td>\n",
       "      <td>1999</td>\n",
       "      <td>Medium</td>\n",
       "      <td>Tier 1</td>\n",
       "      <td>Supermarket Type1</td>\n",
       "      <td>3735.1380</td>\n",
       "    </tr>\n",
       "    <tr>\n",
       "      <th>1</th>\n",
       "      <td>DRC01</td>\n",
       "      <td>5.92</td>\n",
       "      <td>Regular</td>\n",
       "      <td>0.0193</td>\n",
       "      <td>Soft Drinks</td>\n",
       "      <td>48.2692</td>\n",
       "      <td>OUT018</td>\n",
       "      <td>2009</td>\n",
       "      <td>Medium</td>\n",
       "      <td>Tier 3</td>\n",
       "      <td>Supermarket Type2</td>\n",
       "      <td>443.4228</td>\n",
       "    </tr>\n",
       "    <tr>\n",
       "      <th>2</th>\n",
       "      <td>FDN15</td>\n",
       "      <td>17.50</td>\n",
       "      <td>Low Fat</td>\n",
       "      <td>0.0168</td>\n",
       "      <td>Meat</td>\n",
       "      <td>141.6180</td>\n",
       "      <td>OUT049</td>\n",
       "      <td>1999</td>\n",
       "      <td>Medium</td>\n",
       "      <td>Tier 1</td>\n",
       "      <td>Supermarket Type1</td>\n",
       "      <td>2097.2700</td>\n",
       "    </tr>\n",
       "    <tr>\n",
       "      <th>3</th>\n",
       "      <td>FDX07</td>\n",
       "      <td>19.20</td>\n",
       "      <td>Regular</td>\n",
       "      <td>0.0000</td>\n",
       "      <td>Fruits and Vegetables</td>\n",
       "      <td>182.0950</td>\n",
       "      <td>OUT010</td>\n",
       "      <td>1998</td>\n",
       "      <td>NaN</td>\n",
       "      <td>Tier 3</td>\n",
       "      <td>Grocery Store</td>\n",
       "      <td>732.3800</td>\n",
       "    </tr>\n",
       "    <tr>\n",
       "      <th>4</th>\n",
       "      <td>NCD19</td>\n",
       "      <td>8.93</td>\n",
       "      <td>Low Fat</td>\n",
       "      <td>0.0000</td>\n",
       "      <td>Household</td>\n",
       "      <td>53.8614</td>\n",
       "      <td>OUT013</td>\n",
       "      <td>1987</td>\n",
       "      <td>High</td>\n",
       "      <td>Tier 3</td>\n",
       "      <td>Supermarket Type1</td>\n",
       "      <td>994.7052</td>\n",
       "    </tr>\n",
       "  </tbody>\n",
       "</table>\n",
       "</div>"
      ],
      "text/plain": [
       "  Item_Identifier  Item_Weight Item_Fat_Content  Item_Visibility  \\\n",
       "0           FDA15         9.30          Low Fat           0.0160   \n",
       "1           DRC01         5.92          Regular           0.0193   \n",
       "2           FDN15        17.50          Low Fat           0.0168   \n",
       "3           FDX07        19.20          Regular           0.0000   \n",
       "4           NCD19         8.93          Low Fat           0.0000   \n",
       "\n",
       "               Item_Type  Item_MRP Outlet_Identifier  \\\n",
       "0                  Dairy  249.8092            OUT049   \n",
       "1            Soft Drinks   48.2692            OUT018   \n",
       "2                   Meat  141.6180            OUT049   \n",
       "3  Fruits and Vegetables  182.0950            OUT010   \n",
       "4              Household   53.8614            OUT013   \n",
       "\n",
       "   Outlet_Establishment_Year Outlet_Size Outlet_Location_Type  \\\n",
       "0                       1999      Medium               Tier 1   \n",
       "1                       2009      Medium               Tier 3   \n",
       "2                       1999      Medium               Tier 1   \n",
       "3                       1998         NaN               Tier 3   \n",
       "4                       1987        High               Tier 3   \n",
       "\n",
       "         Outlet_Type  Item_Outlet_Sales  \n",
       "0  Supermarket Type1          3735.1380  \n",
       "1  Supermarket Type2           443.4228  \n",
       "2  Supermarket Type1          2097.2700  \n",
       "3      Grocery Store           732.3800  \n",
       "4  Supermarket Type1           994.7052  "
      ]
     },
     "execution_count": 5,
     "metadata": {},
     "output_type": "execute_result"
    }
   ],
   "source": [
    "df.head()"
   ]
  },
  {
   "cell_type": "markdown",
   "id": "8321c39a-d7a8-4b5c-a9bc-1e066a8751b6",
   "metadata": {},
   "source": [
    "## 3. Pre-Processing Level - I, After Data Assessment Process"
   ]
  },
  {
   "cell_type": "markdown",
   "id": "510e7aa5-1bdb-4bc2-9602-e7e87e04738c",
   "metadata": {},
   "source": [
    "##### Note: Nothing to pre-process here.\n",
    "##### Perform train, validation, test splits on original dataset"
   ]
  },
  {
   "cell_type": "markdown",
   "id": "5a3591d4-6da6-4a06-a29b-373525d0cd5e",
   "metadata": {},
   "source": [
    "### 3.1 Performing Train, Validation, and Test Split on Dataset"
   ]
  },
  {
   "cell_type": "code",
   "execution_count": 6,
   "id": "101750f8-5fda-40dd-9c52-50169f5b1465",
   "metadata": {},
   "outputs": [],
   "source": [
    "def train_valid_test_split_REG(fdf, target, vs, ts):\n",
    "    \n",
    "    print(f'Separating X and y from dataframe ----------------------------------------------------------------------------- \\n')\n",
    "    X = fdf.drop(columns=[target])\n",
    "    y = fdf[target]\n",
    " \n",
    "    \n",
    "    print(f'Creating Main[Train + Validation] and Test datasets ----------------------------------------------------------- \\n') \n",
    "    Xmain, Xtest, ymain, ytest = train_test_split(X, y, test_size=ts, random_state=46)   # test size in number of samples\n",
    "        \n",
    "    \n",
    "    print(f'Creating Train and Validation datasets ------------------------------------------------------------------------ \\n') \n",
    "    Xtrain, Xval, ytrain, yval = train_test_split(Xmain, ymain, test_size=vs, random_state=46) # validation size in number of samples\n",
    "        \n",
    "    \n",
    "    print(f'Creating Train, Validation, and Test dataframes as outputs --------------------------------------------------- \\n')\n",
    "    df_train = pd.concat([Xtrain, ytrain], axis=1)\n",
    "    \n",
    "    df_valid = pd.concat([Xval, yval], axis=1)\n",
    "   \n",
    "    df_test = pd.concat([Xtest, ytest], axis=1)\n",
    "    \n",
    "    print(f'Data Splitting Done ... --------------------------------------------------------------------------------------- \\n')\n",
    "        \n",
    "    return df_train, df_valid, df_test"
   ]
  },
  {
   "cell_type": "code",
   "execution_count": 7,
   "id": "b7929817-bc57-4aaa-976a-bdb94fd1f3b9",
   "metadata": {},
   "outputs": [
    {
     "name": "stdout",
     "output_type": "stream",
     "text": [
      "Separating X and y from dataframe ----------------------------------------------------------------------------- \n",
      "\n",
      "Creating Main[Train + Validation] and Test datasets ----------------------------------------------------------- \n",
      "\n",
      "Creating Train and Validation datasets ------------------------------------------------------------------------ \n",
      "\n",
      "Creating Train, Validation, and Test dataframes as outputs --------------------------------------------------- \n",
      "\n",
      "Data Splitting Done ... --------------------------------------------------------------------------------------- \n",
      "\n"
     ]
    }
   ],
   "source": [
    "train, valid, test = train_valid_test_split_REG(df, 'Item_Outlet_Sales', 100, 100)"
   ]
  },
  {
   "cell_type": "markdown",
   "id": "0ff746e1-29c1-4f1a-bc25-bcee747ecb49",
   "metadata": {},
   "source": [
    "### 3.2 Saving the Spilt Data into CSV and PKL Files"
   ]
  },
  {
   "cell_type": "code",
   "execution_count": 8,
   "id": "c4cbe36b-e853-4af8-91e7-b1eaede8dda2",
   "metadata": {},
   "outputs": [],
   "source": [
    "def train_valid_test_save_CSV_PKL(tr, va, te):\n",
    "    tr.to_csv('bms_train_init.csv', index=False)\n",
    "    tr.to_pickle('bms_train_init.pkl')\n",
    "    \n",
    "    va.to_csv('bms_valid_init.csv', index=False)\n",
    "    va.to_pickle('bms_valid_init.pkl')\n",
    "    \n",
    "    te.to_csv('bms_test_init.csv', index=False)\n",
    "    te.to_pickle('bms_test_init.pkl')\n",
    "    \n",
    "    print(f'Train, Validation, and Test files created successfully ...')"
   ]
  },
  {
   "cell_type": "code",
   "execution_count": 9,
   "id": "a3cf1460-48b9-4998-8839-02c115bc8573",
   "metadata": {},
   "outputs": [
    {
     "name": "stdout",
     "output_type": "stream",
     "text": [
      "Train, Validation, and Test files created successfully ...\n"
     ]
    }
   ],
   "source": [
    "train_valid_test_save_CSV_PKL(train, valid, test)"
   ]
  },
  {
   "cell_type": "code",
   "execution_count": null,
   "id": "81e1701f-caaf-4d5a-bfd0-42f8a9b72cc4",
   "metadata": {},
   "outputs": [],
   "source": []
  }
 ],
 "metadata": {
  "kernelspec": {
   "display_name": "Python 3 (ipykernel)",
   "language": "python",
   "name": "python3"
  },
  "language_info": {
   "codemirror_mode": {
    "name": "ipython",
    "version": 3
   },
   "file_extension": ".py",
   "mimetype": "text/x-python",
   "name": "python",
   "nbconvert_exporter": "python",
   "pygments_lexer": "ipython3",
   "version": "3.10.10"
  }
 },
 "nbformat": 4,
 "nbformat_minor": 5
}
