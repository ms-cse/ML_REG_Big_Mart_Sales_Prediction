{
 "cells": [
  {
   "cell_type": "markdown",
   "id": "b9ffc44e-73aa-4e4c-af67-4ea5d984b17b",
   "metadata": {},
   "source": [
    "# FEATURE ENGINEERING OPERATIONS - {\"BIGMART SALES\" DATASET}"
   ]
  },
  {
   "cell_type": "markdown",
   "id": "98890933-c37a-4aec-9399-f3c4c1b9c430",
   "metadata": {},
   "source": [
    "## 1. Importing Modules"
   ]
  },
  {
   "cell_type": "code",
   "execution_count": 1,
   "id": "4cc6975f-c6ab-4f12-a8af-57a65fbdb156",
   "metadata": {
    "tags": []
   },
   "outputs": [],
   "source": [
    "import numpy as np\n",
    "import pandas as pd\n",
    "\n",
    "import matplotlib.pyplot as plt\n",
    "import seaborn as sb\n",
    "\n",
    "from sklearn.compose import ColumnTransformer\n",
    "\n",
    "from sklearn.preprocessing import PowerTransformer, FunctionTransformer\n",
    "from sklearn.preprocessing import StandardScaler\n",
    "\n",
    "from sklearn.preprocessing import OrdinalEncoder\n",
    "from sklearn.preprocessing import OneHotEncoder\n",
    "\n",
    "from sklearn.feature_selection import SelectKBest, mutual_info_regression\n",
    "\n",
    "from sklearn.pipeline import Pipeline"
   ]
  },
  {
   "cell_type": "code",
   "execution_count": 2,
   "id": "c7a4dfaa-ad66-425c-b73a-f54106f123d5",
   "metadata": {
    "tags": []
   },
   "outputs": [],
   "source": [
    "# PD Options\n",
    "\n",
    "pd.set_option('display.min_rows', 5)\n",
    "pd.set_option('display.max_rows', 25)\n",
    "pd.set_option('display.precision', 4)"
   ]
  },
  {
   "cell_type": "code",
   "execution_count": 3,
   "id": "4acb7ea2-88bc-4518-94ec-db90ffe45efd",
   "metadata": {
    "tags": []
   },
   "outputs": [],
   "source": [
    "# SB Options\n",
    "\n",
    "sb.set_theme(context='notebook', style='whitegrid', palette='pastel', font='times new roman', font_scale=1.25)"
   ]
  },
  {
   "cell_type": "code",
   "execution_count": 4,
   "id": "d8be014c-1b51-4768-9aff-df0e5ba5e612",
   "metadata": {
    "tags": []
   },
   "outputs": [],
   "source": [
    "from sklearn import set_config\n",
    "set_config(display='diagram')"
   ]
  },
  {
   "cell_type": "markdown",
   "id": "8dca498c-4d30-4453-9172-cc6e6a11a6ea",
   "metadata": {},
   "source": [
    "## 2. Importing Dataset"
   ]
  },
  {
   "cell_type": "markdown",
   "id": "601a5062-57bd-4821-83c9-bc2eee0af7bd",
   "metadata": {
    "tags": []
   },
   "source": [
    "### 2.1 Production Dataset"
   ]
  },
  {
   "cell_type": "code",
   "execution_count": 5,
   "id": "a68abcc6-9749-4ef1-958d-1440055e6eca",
   "metadata": {
    "tags": []
   },
   "outputs": [
    {
     "name": "stdout",
     "output_type": "stream",
     "text": [
      "Shape of the train dataset : (8423, 14)\n"
     ]
    },
    {
     "data": {
      "text/html": [
       "<div>\n",
       "<style scoped>\n",
       "    .dataframe tbody tr th:only-of-type {\n",
       "        vertical-align: middle;\n",
       "    }\n",
       "\n",
       "    .dataframe tbody tr th {\n",
       "        vertical-align: top;\n",
       "    }\n",
       "\n",
       "    .dataframe thead th {\n",
       "        text-align: right;\n",
       "    }\n",
       "</style>\n",
       "<table border=\"1\" class=\"dataframe\">\n",
       "  <thead>\n",
       "    <tr style=\"text-align: right;\">\n",
       "      <th></th>\n",
       "      <th>Item_Identifier</th>\n",
       "      <th>Item_Weight</th>\n",
       "      <th>Item_Fat_Content</th>\n",
       "      <th>Item_Visibility</th>\n",
       "      <th>Item_Type</th>\n",
       "      <th>Item_MRP</th>\n",
       "      <th>Outlet_Identifier</th>\n",
       "      <th>Outlet_Establishment_Year</th>\n",
       "      <th>Outlet_Size</th>\n",
       "      <th>Outlet_Location_Type</th>\n",
       "      <th>Outlet_Type</th>\n",
       "      <th>Item_Outlet_Sales</th>\n",
       "      <th>Item_Category</th>\n",
       "      <th>Outlet_Age</th>\n",
       "    </tr>\n",
       "  </thead>\n",
       "  <tbody>\n",
       "    <tr>\n",
       "      <th>2171</th>\n",
       "      <td>FDP28</td>\n",
       "      <td>13.65</td>\n",
       "      <td>Regular</td>\n",
       "      <td>0.0808</td>\n",
       "      <td>Frozen Foods</td>\n",
       "      <td>262.8936</td>\n",
       "      <td>OUT049</td>\n",
       "      <td>1999</td>\n",
       "      <td>Medium</td>\n",
       "      <td>Tier 1</td>\n",
       "      <td>Supermarket Type1</td>\n",
       "      <td>4958.8784</td>\n",
       "      <td>Foods</td>\n",
       "      <td>14</td>\n",
       "    </tr>\n",
       "    <tr>\n",
       "      <th>5657</th>\n",
       "      <td>FDK14</td>\n",
       "      <td>6.98</td>\n",
       "      <td>Low Fat</td>\n",
       "      <td>0.0412</td>\n",
       "      <td>Canned</td>\n",
       "      <td>82.8934</td>\n",
       "      <td>OUT045</td>\n",
       "      <td>2002</td>\n",
       "      <td>Small</td>\n",
       "      <td>Tier 2</td>\n",
       "      <td>Supermarket Type1</td>\n",
       "      <td>818.9340</td>\n",
       "      <td>Foods</td>\n",
       "      <td>11</td>\n",
       "    </tr>\n",
       "    <tr>\n",
       "      <th>2156</th>\n",
       "      <td>FDX50</td>\n",
       "      <td>20.10</td>\n",
       "      <td>Low Fat</td>\n",
       "      <td>0.0746</td>\n",
       "      <td>Dairy Foods</td>\n",
       "      <td>110.3228</td>\n",
       "      <td>OUT046</td>\n",
       "      <td>1997</td>\n",
       "      <td>Small</td>\n",
       "      <td>Tier 1</td>\n",
       "      <td>Supermarket Type1</td>\n",
       "      <td>1768.3648</td>\n",
       "      <td>Foods</td>\n",
       "      <td>16</td>\n",
       "    </tr>\n",
       "    <tr>\n",
       "      <th>110</th>\n",
       "      <td>FDD03</td>\n",
       "      <td>13.30</td>\n",
       "      <td>Low Fat</td>\n",
       "      <td>0.0798</td>\n",
       "      <td>Dairy Foods</td>\n",
       "      <td>232.5300</td>\n",
       "      <td>OUT046</td>\n",
       "      <td>1997</td>\n",
       "      <td>Small</td>\n",
       "      <td>Tier 1</td>\n",
       "      <td>Supermarket Type1</td>\n",
       "      <td>699.0900</td>\n",
       "      <td>Foods</td>\n",
       "      <td>16</td>\n",
       "    </tr>\n",
       "    <tr>\n",
       "      <th>6709</th>\n",
       "      <td>NCV05</td>\n",
       "      <td>10.10</td>\n",
       "      <td>Non Edible</td>\n",
       "      <td>0.0301</td>\n",
       "      <td>Health and Hygiene</td>\n",
       "      <td>154.3656</td>\n",
       "      <td>OUT027</td>\n",
       "      <td>1985</td>\n",
       "      <td>Medium</td>\n",
       "      <td>Tier 3</td>\n",
       "      <td>Supermarket Type3</td>\n",
       "      <td>2471.4496</td>\n",
       "      <td>Non Consumables</td>\n",
       "      <td>28</td>\n",
       "    </tr>\n",
       "  </tbody>\n",
       "</table>\n",
       "</div>"
      ],
      "text/plain": [
       "     Item_Identifier  Item_Weight Item_Fat_Content  Item_Visibility  \\\n",
       "2171           FDP28        13.65          Regular           0.0808   \n",
       "5657           FDK14         6.98          Low Fat           0.0412   \n",
       "2156           FDX50        20.10          Low Fat           0.0746   \n",
       "110            FDD03        13.30          Low Fat           0.0798   \n",
       "6709           NCV05        10.10       Non Edible           0.0301   \n",
       "\n",
       "               Item_Type  Item_MRP Outlet_Identifier  \\\n",
       "2171        Frozen Foods  262.8936            OUT049   \n",
       "5657              Canned   82.8934            OUT045   \n",
       "2156         Dairy Foods  110.3228            OUT046   \n",
       "110          Dairy Foods  232.5300            OUT046   \n",
       "6709  Health and Hygiene  154.3656            OUT027   \n",
       "\n",
       "      Outlet_Establishment_Year Outlet_Size Outlet_Location_Type  \\\n",
       "2171                       1999      Medium               Tier 1   \n",
       "5657                       2002       Small               Tier 2   \n",
       "2156                       1997       Small               Tier 1   \n",
       "110                        1997       Small               Tier 1   \n",
       "6709                       1985      Medium               Tier 3   \n",
       "\n",
       "            Outlet_Type  Item_Outlet_Sales    Item_Category  Outlet_Age  \n",
       "2171  Supermarket Type1          4958.8784            Foods          14  \n",
       "5657  Supermarket Type1           818.9340            Foods          11  \n",
       "2156  Supermarket Type1          1768.3648            Foods          16  \n",
       "110   Supermarket Type1           699.0900            Foods          16  \n",
       "6709  Supermarket Type3          2471.4496  Non Consumables          28  "
      ]
     },
     "execution_count": 5,
     "metadata": {},
     "output_type": "execute_result"
    }
   ],
   "source": [
    "tr = pd.read_pickle('bms_prod_pp.pkl')\n",
    "\n",
    "print(f'Shape of the train dataset : {tr.shape}')\n",
    "tr.head(5)"
   ]
  },
  {
   "cell_type": "code",
   "execution_count": 6,
   "id": "75a4bdf5-1891-484e-aea4-14e749d2f173",
   "metadata": {
    "tags": []
   },
   "outputs": [
    {
     "data": {
      "text/html": [
       "<div>\n",
       "<style scoped>\n",
       "    .dataframe tbody tr th:only-of-type {\n",
       "        vertical-align: middle;\n",
       "    }\n",
       "\n",
       "    .dataframe tbody tr th {\n",
       "        vertical-align: top;\n",
       "    }\n",
       "\n",
       "    .dataframe thead th {\n",
       "        text-align: right;\n",
       "    }\n",
       "</style>\n",
       "<table border=\"1\" class=\"dataframe\">\n",
       "  <thead>\n",
       "    <tr style=\"text-align: right;\">\n",
       "      <th></th>\n",
       "      <th>Item_Weight</th>\n",
       "      <th>Item_Fat_Content</th>\n",
       "      <th>Item_Visibility</th>\n",
       "      <th>Item_Type</th>\n",
       "      <th>Item_MRP</th>\n",
       "      <th>Outlet_Size</th>\n",
       "      <th>Outlet_Location_Type</th>\n",
       "      <th>Outlet_Type</th>\n",
       "      <th>Item_Outlet_Sales</th>\n",
       "      <th>Item_Category</th>\n",
       "      <th>Outlet_Age</th>\n",
       "    </tr>\n",
       "  </thead>\n",
       "  <tbody>\n",
       "    <tr>\n",
       "      <th>2171</th>\n",
       "      <td>13.65</td>\n",
       "      <td>Regular</td>\n",
       "      <td>0.0808</td>\n",
       "      <td>Frozen Foods</td>\n",
       "      <td>262.8936</td>\n",
       "      <td>Medium</td>\n",
       "      <td>Tier 1</td>\n",
       "      <td>Supermarket Type1</td>\n",
       "      <td>4958.8784</td>\n",
       "      <td>Foods</td>\n",
       "      <td>14</td>\n",
       "    </tr>\n",
       "    <tr>\n",
       "      <th>5657</th>\n",
       "      <td>6.98</td>\n",
       "      <td>Low Fat</td>\n",
       "      <td>0.0412</td>\n",
       "      <td>Canned</td>\n",
       "      <td>82.8934</td>\n",
       "      <td>Small</td>\n",
       "      <td>Tier 2</td>\n",
       "      <td>Supermarket Type1</td>\n",
       "      <td>818.9340</td>\n",
       "      <td>Foods</td>\n",
       "      <td>11</td>\n",
       "    </tr>\n",
       "    <tr>\n",
       "      <th>2156</th>\n",
       "      <td>20.10</td>\n",
       "      <td>Low Fat</td>\n",
       "      <td>0.0746</td>\n",
       "      <td>Dairy Foods</td>\n",
       "      <td>110.3228</td>\n",
       "      <td>Small</td>\n",
       "      <td>Tier 1</td>\n",
       "      <td>Supermarket Type1</td>\n",
       "      <td>1768.3648</td>\n",
       "      <td>Foods</td>\n",
       "      <td>16</td>\n",
       "    </tr>\n",
       "    <tr>\n",
       "      <th>110</th>\n",
       "      <td>13.30</td>\n",
       "      <td>Low Fat</td>\n",
       "      <td>0.0798</td>\n",
       "      <td>Dairy Foods</td>\n",
       "      <td>232.5300</td>\n",
       "      <td>Small</td>\n",
       "      <td>Tier 1</td>\n",
       "      <td>Supermarket Type1</td>\n",
       "      <td>699.0900</td>\n",
       "      <td>Foods</td>\n",
       "      <td>16</td>\n",
       "    </tr>\n",
       "    <tr>\n",
       "      <th>6709</th>\n",
       "      <td>10.10</td>\n",
       "      <td>Non Edible</td>\n",
       "      <td>0.0301</td>\n",
       "      <td>Health and Hygiene</td>\n",
       "      <td>154.3656</td>\n",
       "      <td>Medium</td>\n",
       "      <td>Tier 3</td>\n",
       "      <td>Supermarket Type3</td>\n",
       "      <td>2471.4496</td>\n",
       "      <td>Non Consumables</td>\n",
       "      <td>28</td>\n",
       "    </tr>\n",
       "  </tbody>\n",
       "</table>\n",
       "</div>"
      ],
      "text/plain": [
       "      Item_Weight Item_Fat_Content  Item_Visibility           Item_Type  \\\n",
       "2171        13.65          Regular           0.0808        Frozen Foods   \n",
       "5657         6.98          Low Fat           0.0412              Canned   \n",
       "2156        20.10          Low Fat           0.0746         Dairy Foods   \n",
       "110         13.30          Low Fat           0.0798         Dairy Foods   \n",
       "6709        10.10       Non Edible           0.0301  Health and Hygiene   \n",
       "\n",
       "      Item_MRP Outlet_Size Outlet_Location_Type        Outlet_Type  \\\n",
       "2171  262.8936      Medium               Tier 1  Supermarket Type1   \n",
       "5657   82.8934       Small               Tier 2  Supermarket Type1   \n",
       "2156  110.3228       Small               Tier 1  Supermarket Type1   \n",
       "110   232.5300       Small               Tier 1  Supermarket Type1   \n",
       "6709  154.3656      Medium               Tier 3  Supermarket Type3   \n",
       "\n",
       "      Item_Outlet_Sales    Item_Category  Outlet_Age  \n",
       "2171          4958.8784            Foods          14  \n",
       "5657           818.9340            Foods          11  \n",
       "2156          1768.3648            Foods          16  \n",
       "110            699.0900            Foods          16  \n",
       "6709          2471.4496  Non Consumables          28  "
      ]
     },
     "execution_count": 6,
     "metadata": {},
     "output_type": "execute_result"
    }
   ],
   "source": [
    "tr = tr.drop(columns=['Item_Identifier','Outlet_Identifier','Outlet_Establishment_Year'])\n",
    "tr.head()"
   ]
  },
  {
   "cell_type": "code",
   "execution_count": 7,
   "id": "5dd64afe-c911-445e-b370-8e303220ffee",
   "metadata": {
    "tags": []
   },
   "outputs": [],
   "source": [
    "Xtr = tr.drop(columns='Item_Outlet_Sales')\n",
    "ytr = tr['Item_Outlet_Sales']"
   ]
  },
  {
   "cell_type": "markdown",
   "id": "12b022a1-faaf-4596-8f3e-a11c174848bc",
   "metadata": {
    "tags": []
   },
   "source": [
    "### 2.2 Test Dataset"
   ]
  },
  {
   "cell_type": "code",
   "execution_count": 8,
   "id": "e34f7014-edac-4c64-9c7e-0503d8ff567f",
   "metadata": {
    "tags": []
   },
   "outputs": [
    {
     "name": "stdout",
     "output_type": "stream",
     "text": [
      "Shape of the Test dataset : (100, 14)\n"
     ]
    },
    {
     "data": {
      "text/html": [
       "<div>\n",
       "<style scoped>\n",
       "    .dataframe tbody tr th:only-of-type {\n",
       "        vertical-align: middle;\n",
       "    }\n",
       "\n",
       "    .dataframe tbody tr th {\n",
       "        vertical-align: top;\n",
       "    }\n",
       "\n",
       "    .dataframe thead th {\n",
       "        text-align: right;\n",
       "    }\n",
       "</style>\n",
       "<table border=\"1\" class=\"dataframe\">\n",
       "  <thead>\n",
       "    <tr style=\"text-align: right;\">\n",
       "      <th></th>\n",
       "      <th>Item_Identifier</th>\n",
       "      <th>Item_Weight</th>\n",
       "      <th>Item_Fat_Content</th>\n",
       "      <th>Item_Visibility</th>\n",
       "      <th>Item_Type</th>\n",
       "      <th>Item_MRP</th>\n",
       "      <th>Outlet_Identifier</th>\n",
       "      <th>Outlet_Establishment_Year</th>\n",
       "      <th>Outlet_Size</th>\n",
       "      <th>Outlet_Location_Type</th>\n",
       "      <th>Outlet_Type</th>\n",
       "      <th>Item_Outlet_Sales</th>\n",
       "      <th>Item_Category</th>\n",
       "      <th>Outlet_Age</th>\n",
       "    </tr>\n",
       "  </thead>\n",
       "  <tbody>\n",
       "    <tr>\n",
       "      <th>2412</th>\n",
       "      <td>NCQ06</td>\n",
       "      <td>13.000</td>\n",
       "      <td>Non Edible</td>\n",
       "      <td>0.0418</td>\n",
       "      <td>Household</td>\n",
       "      <td>254.5014</td>\n",
       "      <td>OUT035</td>\n",
       "      <td>2004</td>\n",
       "      <td>Small</td>\n",
       "      <td>Tier 2</td>\n",
       "      <td>Supermarket Type1</td>\n",
       "      <td>4845.0266</td>\n",
       "      <td>Non Consumables</td>\n",
       "      <td>9</td>\n",
       "    </tr>\n",
       "    <tr>\n",
       "      <th>4984</th>\n",
       "      <td>FDC26</td>\n",
       "      <td>10.195</td>\n",
       "      <td>Low Fat</td>\n",
       "      <td>0.1264</td>\n",
       "      <td>Canned</td>\n",
       "      <td>112.1886</td>\n",
       "      <td>OUT046</td>\n",
       "      <td>1997</td>\n",
       "      <td>Small</td>\n",
       "      <td>Tier 1</td>\n",
       "      <td>Supermarket Type1</td>\n",
       "      <td>667.1316</td>\n",
       "      <td>Foods</td>\n",
       "      <td>16</td>\n",
       "    </tr>\n",
       "    <tr>\n",
       "      <th>953</th>\n",
       "      <td>FDZ23</td>\n",
       "      <td>17.750</td>\n",
       "      <td>Regular</td>\n",
       "      <td>0.1130</td>\n",
       "      <td>Baking Goods</td>\n",
       "      <td>185.4240</td>\n",
       "      <td>OUT010</td>\n",
       "      <td>1998</td>\n",
       "      <td>Small</td>\n",
       "      <td>Tier 3</td>\n",
       "      <td>Grocery Store</td>\n",
       "      <td>745.6960</td>\n",
       "      <td>Foods</td>\n",
       "      <td>15</td>\n",
       "    </tr>\n",
       "    <tr>\n",
       "      <th>5100</th>\n",
       "      <td>NCE19</td>\n",
       "      <td>8.970</td>\n",
       "      <td>Non Edible</td>\n",
       "      <td>0.0932</td>\n",
       "      <td>Household</td>\n",
       "      <td>55.7956</td>\n",
       "      <td>OUT049</td>\n",
       "      <td>1999</td>\n",
       "      <td>Medium</td>\n",
       "      <td>Tier 1</td>\n",
       "      <td>Supermarket Type1</td>\n",
       "      <td>1037.3164</td>\n",
       "      <td>Non Consumables</td>\n",
       "      <td>14</td>\n",
       "    </tr>\n",
       "    <tr>\n",
       "      <th>4297</th>\n",
       "      <td>FDC14</td>\n",
       "      <td>14.500</td>\n",
       "      <td>Regular</td>\n",
       "      <td>0.0690</td>\n",
       "      <td>Canned</td>\n",
       "      <td>41.4454</td>\n",
       "      <td>OUT010</td>\n",
       "      <td>1998</td>\n",
       "      <td>Small</td>\n",
       "      <td>Tier 3</td>\n",
       "      <td>Grocery Store</td>\n",
       "      <td>41.9454</td>\n",
       "      <td>Foods</td>\n",
       "      <td>15</td>\n",
       "    </tr>\n",
       "  </tbody>\n",
       "</table>\n",
       "</div>"
      ],
      "text/plain": [
       "     Item_Identifier  Item_Weight Item_Fat_Content  Item_Visibility  \\\n",
       "2412           NCQ06       13.000       Non Edible           0.0418   \n",
       "4984           FDC26       10.195          Low Fat           0.1264   \n",
       "953            FDZ23       17.750          Regular           0.1130   \n",
       "5100           NCE19        8.970       Non Edible           0.0932   \n",
       "4297           FDC14       14.500          Regular           0.0690   \n",
       "\n",
       "         Item_Type  Item_MRP Outlet_Identifier  Outlet_Establishment_Year  \\\n",
       "2412     Household  254.5014            OUT035                       2004   \n",
       "4984        Canned  112.1886            OUT046                       1997   \n",
       "953   Baking Goods  185.4240            OUT010                       1998   \n",
       "5100     Household   55.7956            OUT049                       1999   \n",
       "4297        Canned   41.4454            OUT010                       1998   \n",
       "\n",
       "     Outlet_Size Outlet_Location_Type        Outlet_Type  Item_Outlet_Sales  \\\n",
       "2412       Small               Tier 2  Supermarket Type1          4845.0266   \n",
       "4984       Small               Tier 1  Supermarket Type1           667.1316   \n",
       "953        Small               Tier 3      Grocery Store           745.6960   \n",
       "5100      Medium               Tier 1  Supermarket Type1          1037.3164   \n",
       "4297       Small               Tier 3      Grocery Store            41.9454   \n",
       "\n",
       "        Item_Category  Outlet_Age  \n",
       "2412  Non Consumables           9  \n",
       "4984            Foods          16  \n",
       "953             Foods          15  \n",
       "5100  Non Consumables          14  \n",
       "4297            Foods          15  "
      ]
     },
     "execution_count": 8,
     "metadata": {},
     "output_type": "execute_result"
    }
   ],
   "source": [
    "te = pd.read_pickle('bms_test_pp.pkl')\n",
    "\n",
    "print(f'Shape of the Test dataset : {te.shape}')\n",
    "te.head(5)"
   ]
  },
  {
   "cell_type": "code",
   "execution_count": 9,
   "id": "f31be19b-dcf2-46fa-93aa-fbf1147e29f8",
   "metadata": {
    "tags": []
   },
   "outputs": [
    {
     "data": {
      "text/html": [
       "<div>\n",
       "<style scoped>\n",
       "    .dataframe tbody tr th:only-of-type {\n",
       "        vertical-align: middle;\n",
       "    }\n",
       "\n",
       "    .dataframe tbody tr th {\n",
       "        vertical-align: top;\n",
       "    }\n",
       "\n",
       "    .dataframe thead th {\n",
       "        text-align: right;\n",
       "    }\n",
       "</style>\n",
       "<table border=\"1\" class=\"dataframe\">\n",
       "  <thead>\n",
       "    <tr style=\"text-align: right;\">\n",
       "      <th></th>\n",
       "      <th>Item_Weight</th>\n",
       "      <th>Item_Fat_Content</th>\n",
       "      <th>Item_Visibility</th>\n",
       "      <th>Item_Type</th>\n",
       "      <th>Item_MRP</th>\n",
       "      <th>Outlet_Size</th>\n",
       "      <th>Outlet_Location_Type</th>\n",
       "      <th>Outlet_Type</th>\n",
       "      <th>Item_Outlet_Sales</th>\n",
       "      <th>Item_Category</th>\n",
       "      <th>Outlet_Age</th>\n",
       "    </tr>\n",
       "  </thead>\n",
       "  <tbody>\n",
       "    <tr>\n",
       "      <th>2412</th>\n",
       "      <td>13.000</td>\n",
       "      <td>Non Edible</td>\n",
       "      <td>0.0418</td>\n",
       "      <td>Household</td>\n",
       "      <td>254.5014</td>\n",
       "      <td>Small</td>\n",
       "      <td>Tier 2</td>\n",
       "      <td>Supermarket Type1</td>\n",
       "      <td>4845.0266</td>\n",
       "      <td>Non Consumables</td>\n",
       "      <td>9</td>\n",
       "    </tr>\n",
       "    <tr>\n",
       "      <th>4984</th>\n",
       "      <td>10.195</td>\n",
       "      <td>Low Fat</td>\n",
       "      <td>0.1264</td>\n",
       "      <td>Canned</td>\n",
       "      <td>112.1886</td>\n",
       "      <td>Small</td>\n",
       "      <td>Tier 1</td>\n",
       "      <td>Supermarket Type1</td>\n",
       "      <td>667.1316</td>\n",
       "      <td>Foods</td>\n",
       "      <td>16</td>\n",
       "    </tr>\n",
       "    <tr>\n",
       "      <th>953</th>\n",
       "      <td>17.750</td>\n",
       "      <td>Regular</td>\n",
       "      <td>0.1130</td>\n",
       "      <td>Baking Goods</td>\n",
       "      <td>185.4240</td>\n",
       "      <td>Small</td>\n",
       "      <td>Tier 3</td>\n",
       "      <td>Grocery Store</td>\n",
       "      <td>745.6960</td>\n",
       "      <td>Foods</td>\n",
       "      <td>15</td>\n",
       "    </tr>\n",
       "    <tr>\n",
       "      <th>5100</th>\n",
       "      <td>8.970</td>\n",
       "      <td>Non Edible</td>\n",
       "      <td>0.0932</td>\n",
       "      <td>Household</td>\n",
       "      <td>55.7956</td>\n",
       "      <td>Medium</td>\n",
       "      <td>Tier 1</td>\n",
       "      <td>Supermarket Type1</td>\n",
       "      <td>1037.3164</td>\n",
       "      <td>Non Consumables</td>\n",
       "      <td>14</td>\n",
       "    </tr>\n",
       "    <tr>\n",
       "      <th>4297</th>\n",
       "      <td>14.500</td>\n",
       "      <td>Regular</td>\n",
       "      <td>0.0690</td>\n",
       "      <td>Canned</td>\n",
       "      <td>41.4454</td>\n",
       "      <td>Small</td>\n",
       "      <td>Tier 3</td>\n",
       "      <td>Grocery Store</td>\n",
       "      <td>41.9454</td>\n",
       "      <td>Foods</td>\n",
       "      <td>15</td>\n",
       "    </tr>\n",
       "  </tbody>\n",
       "</table>\n",
       "</div>"
      ],
      "text/plain": [
       "      Item_Weight Item_Fat_Content  Item_Visibility     Item_Type  Item_MRP  \\\n",
       "2412       13.000       Non Edible           0.0418     Household  254.5014   \n",
       "4984       10.195          Low Fat           0.1264        Canned  112.1886   \n",
       "953        17.750          Regular           0.1130  Baking Goods  185.4240   \n",
       "5100        8.970       Non Edible           0.0932     Household   55.7956   \n",
       "4297       14.500          Regular           0.0690        Canned   41.4454   \n",
       "\n",
       "     Outlet_Size Outlet_Location_Type        Outlet_Type  Item_Outlet_Sales  \\\n",
       "2412       Small               Tier 2  Supermarket Type1          4845.0266   \n",
       "4984       Small               Tier 1  Supermarket Type1           667.1316   \n",
       "953        Small               Tier 3      Grocery Store           745.6960   \n",
       "5100      Medium               Tier 1  Supermarket Type1          1037.3164   \n",
       "4297       Small               Tier 3      Grocery Store            41.9454   \n",
       "\n",
       "        Item_Category  Outlet_Age  \n",
       "2412  Non Consumables           9  \n",
       "4984            Foods          16  \n",
       "953             Foods          15  \n",
       "5100  Non Consumables          14  \n",
       "4297            Foods          15  "
      ]
     },
     "execution_count": 9,
     "metadata": {},
     "output_type": "execute_result"
    }
   ],
   "source": [
    "te = te.drop(columns=['Item_Identifier','Outlet_Identifier','Outlet_Establishment_Year'])\n",
    "te.head()"
   ]
  },
  {
   "cell_type": "code",
   "execution_count": 10,
   "id": "cf3e51e8-b8fa-414c-a2b2-1a976be71165",
   "metadata": {
    "tags": []
   },
   "outputs": [
    {
     "name": "stdout",
     "output_type": "stream",
     "text": [
      "Writing the dataframes after dropping features to CSV and PKL files ... \n",
      "\n",
      "Validation File Saved Successfully ...\n"
     ]
    }
   ],
   "source": [
    "print('Writing the dataframes after dropping features to CSV and PKL files ... \\n')\n",
    "\n",
    "te.to_csv('bms_FE_test_final.csv', index=False)\n",
    "te.to_pickle('bms_FE_test_final.pkl')\n",
    "\n",
    "print('Test File Saved Successfully ...')"
   ]
  },
  {
   "cell_type": "markdown",
   "id": "80837ab7-022f-4d04-a229-6975a1375a7d",
   "metadata": {},
   "source": [
    "## 3. Feature Engineering Pipeline"
   ]
  },
  {
   "cell_type": "markdown",
   "id": "c0f00f3d-c2db-4b4b-9225-7ac81888a8d4",
   "metadata": {},
   "source": [
    "### 3.1 Outliers Detection (IQR) and Handling (Capping)\n",
    "##### - Outlier detection and handling is applied only on training data.\n",
    "##### - Operation is not applied on the test data, to avoid the changes in the data. Considering that the prediction is applied on individual basis, one at a time. So, no point of finding IQR and applying capping. "
   ]
  },
  {
   "cell_type": "code",
   "execution_count": 11,
   "id": "7be1a340-5ff8-4f36-bf86-5a1a317a019c",
   "metadata": {
    "tags": []
   },
   "outputs": [],
   "source": [
    "def outliers_detect_handle(df):\n",
    "     \n",
    "    fea_flo = df.select_dtypes(include='float').columns.values.tolist()\n",
    "    fea_int = df.select_dtypes(include='int').columns.values.tolist()\n",
    "\n",
    "    fea_num = fea_flo + fea_int\n",
    "    fea_num\n",
    "    \n",
    "    # OUTLIER DETECTION CODE ----------------------------------------------------------------------------------------------\n",
    "    \n",
    "    for fea in fea_num:\n",
    "      \n",
    "        print(f'Outlier Detection for Feature : {fea} \\n')\n",
    "        \n",
    "        print('Outliers Summary ........................................................... \\n')\n",
    "        mn = df[fea].min()\n",
    "        mx = df[fea].max()\n",
    "        print(f'Minimum Value : {mn} and Maximum Value : {mx} \\n')\n",
    "\n",
    "        q1,q3 = df[fea].quantile([0.25,0.75])         #  for 1st and 3rd quartile\n",
    "        print(f'1st Quartile : {q1} and 3rd Quartile : {q3} \\n')\n",
    "\n",
    "        lb = round(q1 - (q3-q1)*1.5,4)\n",
    "        ub = round(q3 + (q3-q1)*1.5,4)\n",
    "        print(f'Lower Bound : {lb} and Higher Bound : {ub} \\n')\n",
    "\n",
    "        filtl = df[fea] < lb\n",
    "        out_low = df[filtl]\n",
    "        print(f'No. of Outliers below Lower Bound ({lb}) are : {out_low.shape[0]}')\n",
    "\n",
    "        filtu = df[fea] > ub\n",
    "        out_high = df[filtu]\n",
    "        print(f'No. of Outliers above Upper Bound ({ub}) are : {out_high.shape[0]}')\n",
    "\n",
    "        out_df = df[(filtl | filtu)]\n",
    "        print(f'Total No. of Outliers are : {out_df.shape[0]} \\n')\n",
    "\n",
    "        per = (out_df.shape[0]/df[fea].shape[0])*100\n",
    "        print(f'Percentage of Outliers Records are : {round(per,4)} % \\n')\n",
    "\n",
    "        plt.figure(figsize=(15,5))\n",
    "        plt.subplot(2,2,1)\n",
    "        plt.title('KDE Plot Before')\n",
    "        sb.kdeplot(data=df, x=fea)\n",
    "\n",
    "        plt.subplot(2,2,2)\n",
    "        plt.title('BOX Plot Before')\n",
    "        sb.boxplot(data=df, x=fea)\n",
    "        \n",
    "        print('Outliers after Detection and Handling ....................................... \\n')\n",
    "        # OUTLIER HANDLING USING CAPPING TECHNIQUE -----------------------------------------------------------------------------\n",
    "        df.loc[filtl,fea] = lb                        \n",
    "        df.loc[filtu,fea] = ub\n",
    "\n",
    "        # OUTLIER DETECTION CODE -----------------------------------------------------------------------------------------------\n",
    "        filtl = df[fea] < lb\n",
    "        out_low = df[filtl]\n",
    "        print(f'No. of Outliers below Lower Bound ({lb}) are : {out_low.shape[0]}')\n",
    "\n",
    "        filtu = df[fea] > ub\n",
    "        out_high = df[filtu]\n",
    "        print(f'No. of Outliers above Upper Bound ({ub}) are : {out_high.shape[0]}')\n",
    "\n",
    "        out_df = df[(filtl | filtu)]\n",
    "        print(f'Total No. of Outliers are : {out_df.shape[0]} \\n')\n",
    "\n",
    "        per = (out_df.shape[0]/df[fea].shape[0])*100\n",
    "        print(f'Percentage of Outliers Records are : {round(per,4)} %')\n",
    "\n",
    "        plt.subplot(2,2,3)\n",
    "        plt.title('KDE Plot After')\n",
    "        sb.kdeplot(data=df, x=fea)\n",
    "\n",
    "        plt.subplot(2,2,4)\n",
    "        plt.title('BOX Plot After')\n",
    "        sb.boxplot(data=df, x=fea)\n",
    "\n",
    "        plt.subplots_adjust(left=0.1, bottom=0.1, right=0.9, top=0.9, wspace=0.1, hspace=0.8)\n",
    "        plt.show()\n",
    "\n",
    "        print('\\n\\n\\n\\n')\n",
    "    \n",
    "    return df"
   ]
  },
  {
   "cell_type": "code",
   "execution_count": 12,
   "id": "84f37060-1c00-4d98-97cd-ad0e976d2a23",
   "metadata": {
    "tags": []
   },
   "outputs": [
    {
     "data": {
      "text/html": [
       "<div>\n",
       "<style scoped>\n",
       "    .dataframe tbody tr th:only-of-type {\n",
       "        vertical-align: middle;\n",
       "    }\n",
       "\n",
       "    .dataframe tbody tr th {\n",
       "        vertical-align: top;\n",
       "    }\n",
       "\n",
       "    .dataframe thead th {\n",
       "        text-align: right;\n",
       "    }\n",
       "</style>\n",
       "<table border=\"1\" class=\"dataframe\">\n",
       "  <thead>\n",
       "    <tr style=\"text-align: right;\">\n",
       "      <th></th>\n",
       "      <th>Item_Weight</th>\n",
       "      <th>Item_Visibility</th>\n",
       "      <th>Item_MRP</th>\n",
       "      <th>Outlet_Age</th>\n",
       "    </tr>\n",
       "  </thead>\n",
       "  <tbody>\n",
       "    <tr>\n",
       "      <th>count</th>\n",
       "      <td>8423.0000</td>\n",
       "      <td>8423.0000</td>\n",
       "      <td>8423.0000</td>\n",
       "      <td>8423.0000</td>\n",
       "    </tr>\n",
       "    <tr>\n",
       "      <th>mean</th>\n",
       "      <td>12.8794</td>\n",
       "      <td>0.0702</td>\n",
       "      <td>140.9702</td>\n",
       "      <td>15.1664</td>\n",
       "    </tr>\n",
       "    <tr>\n",
       "      <th>std</th>\n",
       "      <td>4.6472</td>\n",
       "      <td>0.0488</td>\n",
       "      <td>62.2925</td>\n",
       "      <td>8.3721</td>\n",
       "    </tr>\n",
       "    <tr>\n",
       "      <th>min</th>\n",
       "      <td>4.5550</td>\n",
       "      <td>0.0036</td>\n",
       "      <td>31.2900</td>\n",
       "      <td>4.0000</td>\n",
       "    </tr>\n",
       "    <tr>\n",
       "      <th>25%</th>\n",
       "      <td>8.7850</td>\n",
       "      <td>0.0331</td>\n",
       "      <td>93.7278</td>\n",
       "      <td>9.0000</td>\n",
       "    </tr>\n",
       "    <tr>\n",
       "      <th>50%</th>\n",
       "      <td>12.6500</td>\n",
       "      <td>0.0625</td>\n",
       "      <td>142.9470</td>\n",
       "      <td>14.0000</td>\n",
       "    </tr>\n",
       "    <tr>\n",
       "      <th>75%</th>\n",
       "      <td>16.8500</td>\n",
       "      <td>0.0945</td>\n",
       "      <td>185.7240</td>\n",
       "      <td>26.0000</td>\n",
       "    </tr>\n",
       "    <tr>\n",
       "      <th>max</th>\n",
       "      <td>21.3500</td>\n",
       "      <td>0.3284</td>\n",
       "      <td>266.8884</td>\n",
       "      <td>28.0000</td>\n",
       "    </tr>\n",
       "  </tbody>\n",
       "</table>\n",
       "</div>"
      ],
      "text/plain": [
       "       Item_Weight  Item_Visibility   Item_MRP  Outlet_Age\n",
       "count    8423.0000        8423.0000  8423.0000   8423.0000\n",
       "mean       12.8794           0.0702   140.9702     15.1664\n",
       "std         4.6472           0.0488    62.2925      8.3721\n",
       "min         4.5550           0.0036    31.2900      4.0000\n",
       "25%         8.7850           0.0331    93.7278      9.0000\n",
       "50%        12.6500           0.0625   142.9470     14.0000\n",
       "75%        16.8500           0.0945   185.7240     26.0000\n",
       "max        21.3500           0.3284   266.8884     28.0000"
      ]
     },
     "execution_count": 12,
     "metadata": {},
     "output_type": "execute_result"
    }
   ],
   "source": [
    "Xtr.describe()"
   ]
  },
  {
   "cell_type": "code",
   "execution_count": 13,
   "id": "41b2dc0f-87b9-4ee0-95a3-7507a2ca00c4",
   "metadata": {
    "tags": []
   },
   "outputs": [],
   "source": [
    "Xtr_out = Xtr.copy()"
   ]
  },
  {
   "cell_type": "code",
   "execution_count": 14,
   "id": "0d4d1202-64ad-4240-a71f-52c3ee7a98d6",
   "metadata": {
    "tags": []
   },
   "outputs": [
    {
     "name": "stdout",
     "output_type": "stream",
     "text": [
      "Outlier Detection for Feature : Item_Weight \n",
      "\n",
      "Outliers Summary ........................................................... \n",
      "\n",
      "Minimum Value : 4.555 and Maximum Value : 21.35 \n",
      "\n",
      "1st Quartile : 8.785 and 3rd Quartile : 16.85 \n",
      "\n",
      "Lower Bound : -3.3125 and Higher Bound : 28.9475 \n",
      "\n",
      "No. of Outliers below Lower Bound (-3.3125) are : 0\n",
      "No. of Outliers above Upper Bound (28.9475) are : 0\n",
      "Total No. of Outliers are : 0 \n",
      "\n",
      "Percentage of Outliers Records are : 0.0 % \n",
      "\n",
      "Outliers after Detection and Handling ....................................... \n",
      "\n",
      "No. of Outliers below Lower Bound (-3.3125) are : 0\n",
      "No. of Outliers above Upper Bound (28.9475) are : 0\n",
      "Total No. of Outliers are : 0 \n",
      "\n",
      "Percentage of Outliers Records are : 0.0 %\n"
     ]
    },
    {
     "data": {
      "image/png": "[encoded data removed]",
      "text/plain": [
       "<Figure size 1500x500 with 4 Axes>"
      ]
     },
     "metadata": {},
     "output_type": "display_data"
    },
    {
     "name": "stdout",
     "output_type": "stream",
     "text": [
      "\n",
      "\n",
      "\n",
      "\n",
      "\n",
      "Outlier Detection for Feature : Item_Visibility \n",
      "\n",
      "Outliers Summary ........................................................... \n",
      "\n",
      "Minimum Value : 0.003574698 and Maximum Value : 0.328390948 \n",
      "\n",
      "1st Quartile : 0.0330853435 and 3rd Quartile : 0.094547268 \n",
      "\n",
      "Lower Bound : -0.0591 and Higher Bound : 0.1867 \n",
      "\n",
      "No. of Outliers below Lower Bound (-0.0591) are : 0\n",
      "No. of Outliers above Upper Bound (0.1867) are : 173\n",
      "Total No. of Outliers are : 173 \n",
      "\n",
      "Percentage of Outliers Records are : 2.0539 % \n",
      "\n",
      "Outliers after Detection and Handling ....................................... \n",
      "\n",
      "No. of Outliers below Lower Bound (-0.0591) are : 0\n",
      "No. of Outliers above Upper Bound (0.1867) are : 0\n",
      "Total No. of Outliers are : 0 \n",
      "\n",
      "Percentage of Outliers Records are : 0.0 %\n"
     ]
    },
    {
     "data": {
      "image/png": "[encoded data removed]",
      "text/plain": [
       "<Figure size 1500x500 with 4 Axes>"
      ]
     },
     "metadata": {},
     "output_type": "display_data"
    },
    {
     "name": "stdout",
     "output_type": "stream",
     "text": [
      "\n",
      "\n",
      "\n",
      "\n",
      "\n",
      "Outlier Detection for Feature : Item_MRP \n",
      "\n",
      "Outliers Summary ........................................................... \n",
      "\n",
      "Minimum Value : 31.29 and Maximum Value : 266.8884 \n",
      "\n",
      "1st Quartile : 93.7278 and 3rd Quartile : 185.724 \n",
      "\n",
      "Lower Bound : -44.2665 and Higher Bound : 323.7183 \n",
      "\n",
      "No. of Outliers below Lower Bound (-44.2665) are : 0\n",
      "No. of Outliers above Upper Bound (323.7183) are : 0\n",
      "Total No. of Outliers are : 0 \n",
      "\n",
      "Percentage of Outliers Records are : 0.0 % \n",
      "\n",
      "Outliers after Detection and Handling ....................................... \n",
      "\n",
      "No. of Outliers below Lower Bound (-44.2665) are : 0\n",
      "No. of Outliers above Upper Bound (323.7183) are : 0\n",
      "Total No. of Outliers are : 0 \n",
      "\n",
      "Percentage of Outliers Records are : 0.0 %\n"
     ]
    },
    {
     "data": {
      "image/png": "[encoded data removed]",
      "text/plain": [
       "<Figure size 1500x500 with 4 Axes>"
      ]
     },
     "metadata": {},
     "output_type": "display_data"
    },
    {
     "name": "stdout",
     "output_type": "stream",
     "text": [
      "\n",
      "\n",
      "\n",
      "\n",
      "\n",
      "Outlier Detection for Feature : Outlet_Age \n",
      "\n",
      "Outliers Summary ........................................................... \n",
      "\n",
      "Minimum Value : 4 and Maximum Value : 28 \n",
      "\n",
      "1st Quartile : 9.0 and 3rd Quartile : 26.0 \n",
      "\n",
      "Lower Bound : -16.5 and Higher Bound : 51.5 \n",
      "\n",
      "No. of Outliers below Lower Bound (-16.5) are : 0\n",
      "No. of Outliers above Upper Bound (51.5) are : 0\n",
      "Total No. of Outliers are : 0 \n",
      "\n",
      "Percentage of Outliers Records are : 0.0 % \n",
      "\n",
      "Outliers after Detection and Handling ....................................... \n",
      "\n",
      "No. of Outliers below Lower Bound (-16.5) are : 0\n",
      "No. of Outliers above Upper Bound (51.5) are : 0\n",
      "Total No. of Outliers are : 0 \n",
      "\n",
      "Percentage of Outliers Records are : 0.0 %\n"
     ]
    },
    {
     "data": {
      "image/png": "[encoded data removed]",
      "text/plain": [
       "<Figure size 1500x500 with 4 Axes>"
      ]
     },
     "metadata": {},
     "output_type": "display_data"
    },
    {
     "name": "stdout",
     "output_type": "stream",
     "text": [
      "\n",
      "\n",
      "\n",
      "\n",
      "\n"
     ]
    }
   ],
   "source": [
    "Xtr_out = outliers_detect_handle(Xtr_out)"
   ]
  },
  {
   "cell_type": "code",
   "execution_count": 15,
   "id": "1a20bc37-1bb0-457d-aa4a-3310fc26d55c",
   "metadata": {
    "tags": []
   },
   "outputs": [
    {
     "data": {
      "text/html": [
       "<div>\n",
       "<style scoped>\n",
       "    .dataframe tbody tr th:only-of-type {\n",
       "        vertical-align: middle;\n",
       "    }\n",
       "\n",
       "    .dataframe tbody tr th {\n",
       "        vertical-align: top;\n",
       "    }\n",
       "\n",
       "    .dataframe thead th {\n",
       "        text-align: right;\n",
       "    }\n",
       "</style>\n",
       "<table border=\"1\" class=\"dataframe\">\n",
       "  <thead>\n",
       "    <tr style=\"text-align: right;\">\n",
       "      <th></th>\n",
       "      <th>Item_Weight</th>\n",
       "      <th>Item_Visibility</th>\n",
       "      <th>Item_MRP</th>\n",
       "      <th>Outlet_Age</th>\n",
       "    </tr>\n",
       "  </thead>\n",
       "  <tbody>\n",
       "    <tr>\n",
       "      <th>count</th>\n",
       "      <td>8423.0000</td>\n",
       "      <td>8423.0000</td>\n",
       "      <td>8423.0000</td>\n",
       "      <td>8423.0000</td>\n",
       "    </tr>\n",
       "    <tr>\n",
       "      <th>mean</th>\n",
       "      <td>12.8794</td>\n",
       "      <td>0.0692</td>\n",
       "      <td>140.9702</td>\n",
       "      <td>15.1664</td>\n",
       "    </tr>\n",
       "    <tr>\n",
       "      <th>std</th>\n",
       "      <td>4.6472</td>\n",
       "      <td>0.0454</td>\n",
       "      <td>62.2925</td>\n",
       "      <td>8.3721</td>\n",
       "    </tr>\n",
       "    <tr>\n",
       "      <th>min</th>\n",
       "      <td>4.5550</td>\n",
       "      <td>0.0036</td>\n",
       "      <td>31.2900</td>\n",
       "      <td>4.0000</td>\n",
       "    </tr>\n",
       "    <tr>\n",
       "      <th>25%</th>\n",
       "      <td>8.7850</td>\n",
       "      <td>0.0331</td>\n",
       "      <td>93.7278</td>\n",
       "      <td>9.0000</td>\n",
       "    </tr>\n",
       "    <tr>\n",
       "      <th>50%</th>\n",
       "      <td>12.6500</td>\n",
       "      <td>0.0625</td>\n",
       "      <td>142.9470</td>\n",
       "      <td>14.0000</td>\n",
       "    </tr>\n",
       "    <tr>\n",
       "      <th>75%</th>\n",
       "      <td>16.8500</td>\n",
       "      <td>0.0945</td>\n",
       "      <td>185.7240</td>\n",
       "      <td>26.0000</td>\n",
       "    </tr>\n",
       "    <tr>\n",
       "      <th>max</th>\n",
       "      <td>21.3500</td>\n",
       "      <td>0.1867</td>\n",
       "      <td>266.8884</td>\n",
       "      <td>28.0000</td>\n",
       "    </tr>\n",
       "  </tbody>\n",
       "</table>\n",
       "</div>"
      ],
      "text/plain": [
       "       Item_Weight  Item_Visibility   Item_MRP  Outlet_Age\n",
       "count    8423.0000        8423.0000  8423.0000   8423.0000\n",
       "mean       12.8794           0.0692   140.9702     15.1664\n",
       "std         4.6472           0.0454    62.2925      8.3721\n",
       "min         4.5550           0.0036    31.2900      4.0000\n",
       "25%         8.7850           0.0331    93.7278      9.0000\n",
       "50%        12.6500           0.0625   142.9470     14.0000\n",
       "75%        16.8500           0.0945   185.7240     26.0000\n",
       "max        21.3500           0.1867   266.8884     28.0000"
      ]
     },
     "execution_count": 15,
     "metadata": {},
     "output_type": "execute_result"
    }
   ],
   "source": [
    "Xtr_out.describe()"
   ]
  },
  {
   "cell_type": "code",
   "execution_count": 16,
   "id": "9cf88e72-fc2b-478b-a8bd-a94057e87e63",
   "metadata": {
    "tags": []
   },
   "outputs": [
    {
     "data": {
      "text/html": [
       "<div>\n",
       "<style scoped>\n",
       "    .dataframe tbody tr th:only-of-type {\n",
       "        vertical-align: middle;\n",
       "    }\n",
       "\n",
       "    .dataframe tbody tr th {\n",
       "        vertical-align: top;\n",
       "    }\n",
       "\n",
       "    .dataframe thead th {\n",
       "        text-align: right;\n",
       "    }\n",
       "</style>\n",
       "<table border=\"1\" class=\"dataframe\">\n",
       "  <thead>\n",
       "    <tr style=\"text-align: right;\">\n",
       "      <th></th>\n",
       "      <th>Item_Weight</th>\n",
       "      <th>Item_Fat_Content</th>\n",
       "      <th>Item_Visibility</th>\n",
       "      <th>Item_Type</th>\n",
       "      <th>Item_MRP</th>\n",
       "      <th>Outlet_Size</th>\n",
       "      <th>Outlet_Location_Type</th>\n",
       "      <th>Outlet_Type</th>\n",
       "      <th>Item_Category</th>\n",
       "      <th>Outlet_Age</th>\n",
       "      <th>Item_Outlet_Sales</th>\n",
       "    </tr>\n",
       "  </thead>\n",
       "  <tbody>\n",
       "    <tr>\n",
       "      <th>2171</th>\n",
       "      <td>13.65</td>\n",
       "      <td>Regular</td>\n",
       "      <td>0.0808</td>\n",
       "      <td>Frozen Foods</td>\n",
       "      <td>262.8936</td>\n",
       "      <td>Medium</td>\n",
       "      <td>Tier 1</td>\n",
       "      <td>Supermarket Type1</td>\n",
       "      <td>Foods</td>\n",
       "      <td>14.0</td>\n",
       "      <td>4958.8784</td>\n",
       "    </tr>\n",
       "    <tr>\n",
       "      <th>5657</th>\n",
       "      <td>6.98</td>\n",
       "      <td>Low Fat</td>\n",
       "      <td>0.0412</td>\n",
       "      <td>Canned</td>\n",
       "      <td>82.8934</td>\n",
       "      <td>Small</td>\n",
       "      <td>Tier 2</td>\n",
       "      <td>Supermarket Type1</td>\n",
       "      <td>Foods</td>\n",
       "      <td>11.0</td>\n",
       "      <td>818.9340</td>\n",
       "    </tr>\n",
       "    <tr>\n",
       "      <th>2156</th>\n",
       "      <td>20.10</td>\n",
       "      <td>Low Fat</td>\n",
       "      <td>0.0746</td>\n",
       "      <td>Dairy Foods</td>\n",
       "      <td>110.3228</td>\n",
       "      <td>Small</td>\n",
       "      <td>Tier 1</td>\n",
       "      <td>Supermarket Type1</td>\n",
       "      <td>Foods</td>\n",
       "      <td>16.0</td>\n",
       "      <td>1768.3648</td>\n",
       "    </tr>\n",
       "    <tr>\n",
       "      <th>110</th>\n",
       "      <td>13.30</td>\n",
       "      <td>Low Fat</td>\n",
       "      <td>0.0798</td>\n",
       "      <td>Dairy Foods</td>\n",
       "      <td>232.5300</td>\n",
       "      <td>Small</td>\n",
       "      <td>Tier 1</td>\n",
       "      <td>Supermarket Type1</td>\n",
       "      <td>Foods</td>\n",
       "      <td>16.0</td>\n",
       "      <td>699.0900</td>\n",
       "    </tr>\n",
       "    <tr>\n",
       "      <th>6709</th>\n",
       "      <td>10.10</td>\n",
       "      <td>Non Edible</td>\n",
       "      <td>0.0301</td>\n",
       "      <td>Health and Hygiene</td>\n",
       "      <td>154.3656</td>\n",
       "      <td>Medium</td>\n",
       "      <td>Tier 3</td>\n",
       "      <td>Supermarket Type3</td>\n",
       "      <td>Non Consumables</td>\n",
       "      <td>28.0</td>\n",
       "      <td>2471.4496</td>\n",
       "    </tr>\n",
       "  </tbody>\n",
       "</table>\n",
       "</div>"
      ],
      "text/plain": [
       "      Item_Weight Item_Fat_Content  Item_Visibility           Item_Type  \\\n",
       "2171        13.65          Regular           0.0808        Frozen Foods   \n",
       "5657         6.98          Low Fat           0.0412              Canned   \n",
       "2156        20.10          Low Fat           0.0746         Dairy Foods   \n",
       "110         13.30          Low Fat           0.0798         Dairy Foods   \n",
       "6709        10.10       Non Edible           0.0301  Health and Hygiene   \n",
       "\n",
       "      Item_MRP Outlet_Size Outlet_Location_Type        Outlet_Type  \\\n",
       "2171  262.8936      Medium               Tier 1  Supermarket Type1   \n",
       "5657   82.8934       Small               Tier 2  Supermarket Type1   \n",
       "2156  110.3228       Small               Tier 1  Supermarket Type1   \n",
       "110   232.5300       Small               Tier 1  Supermarket Type1   \n",
       "6709  154.3656      Medium               Tier 3  Supermarket Type3   \n",
       "\n",
       "        Item_Category  Outlet_Age  Item_Outlet_Sales  \n",
       "2171            Foods        14.0          4958.8784  \n",
       "5657            Foods        11.0           818.9340  \n",
       "2156            Foods        16.0          1768.3648  \n",
       "110             Foods        16.0           699.0900  \n",
       "6709  Non Consumables        28.0          2471.4496  "
      ]
     },
     "execution_count": 16,
     "metadata": {},
     "output_type": "execute_result"
    }
   ],
   "source": [
    "### Train dataframe after outlier detection and handling operation, using Xtr_out and ytrain (after balancing)\n",
    "\n",
    "dftr = pd.concat([Xtr_out,ytr], axis=1)\n",
    "dftr.head()"
   ]
  },
  {
   "cell_type": "markdown",
   "id": "b12dc968-97e8-4201-871d-9e5b0d5d1b8f",
   "metadata": {
    "tags": []
   },
   "source": [
    "##### Saving Final Train CSV File and Pickle Files, after outlier detection and handling step."
   ]
  },
  {
   "cell_type": "code",
   "execution_count": 17,
   "id": "b6f75d36-792a-4b5c-852f-00124a4d6f23",
   "metadata": {},
   "outputs": [
    {
     "name": "stdout",
     "output_type": "stream",
     "text": [
      "Writing the dataframes after outlier detection and handling to CSV and PKL files ... \n",
      "\n",
      "Train File Saved Successfully ...\n"
     ]
    }
   ],
   "source": [
    "print('Writing the dataframes after outlier detection and handling to CSV and PKL files ... \\n')\n",
    "\n",
    "dftr.to_csv('bms_FE_prod_final.csv', index=False)\n",
    "dftr.to_pickle('bms_FE_prod_final.pkl')\n",
    "\n",
    "print('Train File Saved Successfully ...')"
   ]
  },
  {
   "cell_type": "code",
   "execution_count": 18,
   "id": "a41c6e76-10c7-4767-a0f4-d4d058892a17",
   "metadata": {
    "tags": []
   },
   "outputs": [],
   "source": [
    "xdf = Xtr_out.copy()"
   ]
  },
  {
   "cell_type": "markdown",
   "id": "c0e79901-ee20-457e-a096-b0f818ac30aa",
   "metadata": {},
   "source": [
    "## 4. Feature Engineering Pipeline"
   ]
  },
  {
   "cell_type": "markdown",
   "id": "8708b1e4-becb-40a7-97f2-59acb631564e",
   "metadata": {
    "tags": []
   },
   "source": [
    "### 4.1 Numerical Feature Transformation"
   ]
  },
  {
   "cell_type": "code",
   "execution_count": 19,
   "id": "f82646d2-a703-4c89-bbd5-ed9d107fdfff",
   "metadata": {
    "tags": []
   },
   "outputs": [],
   "source": [
    "def ft_exp(x):\n",
    "    y = x**(1/1.2)\n",
    "    return y\n",
    "\n",
    "\n",
    "def ft_sqrt(x):\n",
    "    y = x**(1/2)  \n",
    "    return y\n",
    "\n",
    "ft_mrp_exp = FunctionTransformer(func=ft_exp)\n",
    "ft_age_sqrt = FunctionTransformer(func=ft_sqrt)\n",
    "\n",
    "pre_proc_num = ColumnTransformer(transformers=[\n",
    "                ('pt_it_vis',PowerTransformer(method='yeo-johnson', standardize=False),[2]),\n",
    "                ('ft_it_mrp',ft_mrp_exp,[4]),\n",
    "                ('ft_ol_age',ft_age_sqrt,[9])\n",
    "                ],\n",
    "                remainder='passthrough')"
   ]
  },
  {
   "cell_type": "markdown",
   "id": "4b040658-3d2c-42ce-a9b3-25a389e9e4c5",
   "metadata": {},
   "source": [
    "### 4.2 Numerical Feature Scaling"
   ]
  },
  {
   "cell_type": "code",
   "execution_count": 20,
   "id": "b9c19151-553e-4046-850f-79f5e68f2496",
   "metadata": {
    "tags": []
   },
   "outputs": [],
   "source": [
    "pre_proc_ss = ColumnTransformer(transformers=[\n",
    "                ('ss',StandardScaler(),[0,1,2,3])\n",
    "                ],\n",
    "                remainder='passthrough')"
   ]
  },
  {
   "cell_type": "markdown",
   "id": "4e4a530f-defc-432e-981a-ea3a5254c4d5",
   "metadata": {},
   "source": [
    "### 4.3 Categorical Data Encoding (Ordinal and OneHot Encoding)"
   ]
  },
  {
   "cell_type": "code",
   "execution_count": 21,
   "id": "79835cb6-fe62-427b-baa9-abce125ad1e0",
   "metadata": {
    "tags": []
   },
   "outputs": [],
   "source": [
    "pre_proc_cat = ColumnTransformer(transformers=[\n",
    "                ('oe',OrdinalEncoder(categories=[['Small','Medium','High'], ['Tier 3','Tier 2','Tier 1'], \n",
    "                        ['Grocery Store','Supermarket Type3','Supermarket Type2','Supermarket Type1']], dtype='object'),[6,7,8]),\n",
    "                ('ohe',OneHotEncoder(drop='first', sparse_output=False, dtype='int8'),[4,5,9]),\n",
    "                ],\n",
    "                remainder='passthrough')"
   ]
  },
  {
   "cell_type": "markdown",
   "id": "744e58db-12e5-441b-926f-4f9921e39b8b",
   "metadata": {},
   "source": [
    "### 4.4 Feature Selection"
   ]
  },
  {
   "cell_type": "code",
   "execution_count": 22,
   "id": "3fbc03bf-6a24-4cc0-8cf9-1fe4b0aad731",
   "metadata": {
    "tags": []
   },
   "outputs": [],
   "source": [
    "fea_select = SelectKBest(mutual_info_regression, k='all')"
   ]
  },
  {
   "cell_type": "markdown",
   "id": "53171456-07b9-4545-b2e3-fdaf6aec35d1",
   "metadata": {},
   "source": [
    "### 4.5 FE Pipeline"
   ]
  },
  {
   "cell_type": "code",
   "execution_count": 23,
   "id": "1dc01ec8-1fa8-41c8-9c42-d0b6d77472a3",
   "metadata": {},
   "outputs": [],
   "source": [
    "steps = [('num',pre_proc_num),\n",
    "     ('ss',pre_proc_ss),\n",
    "     ('cat',pre_proc_cat),\n",
    "     ('fs',fea_select)]\n",
    "\n",
    "pipe = Pipeline(steps)"
   ]
  },
  {
   "cell_type": "code",
   "execution_count": 24,
   "id": "5ae5472c-8d07-454c-b2a5-3bbb8b34908a",
   "metadata": {
    "tags": []
   },
   "outputs": [
    {
     "data": {
      "text/html": [
       "<style>#sk-container-id-1 {color: black;background-color: white;}#sk-container-id-1 pre{padding: 0;}#sk-container-id-1 div.sk-toggleable {background-color: white;}#sk-container-id-1 label.sk-toggleable__label {cursor: pointer;display: block;width: 100%;margin-bottom: 0;padding: 0.3em;box-sizing: border-box;text-align: center;}#sk-container-id-1 label.sk-toggleable__label-arrow:before {content: \"▸\";float: left;margin-right: 0.25em;color: #696969;}#sk-container-id-1 label.sk-toggleable__label-arrow:hover:before {color: black;}#sk-container-id-1 div.sk-estimator:hover label.sk-toggleable__label-arrow:before {color: black;}#sk-container-id-1 div.sk-toggleable__content {max-height: 0;max-width: 0;overflow: hidden;text-align: left;background-color: #f0f8ff;}#sk-container-id-1 div.sk-toggleable__content pre {margin: 0.2em;color: black;border-radius: 0.25em;background-color: #f0f8ff;}#sk-container-id-1 input.sk-toggleable__control:checked~div.sk-toggleable__content {max-height: 200px;max-width: 100%;overflow: auto;}#sk-container-id-1 input.sk-toggleable__control:checked~label.sk-toggleable__label-arrow:before {content: \"▾\";}#sk-container-id-1 div.sk-estimator input.sk-toggleable__control:checked~label.sk-toggleable__label {background-color: #d4ebff;}#sk-container-id-1 div.sk-label input.sk-toggleable__control:checked~label.sk-toggleable__label {background-color: #d4ebff;}#sk-container-id-1 input.sk-hidden--visually {border: 0;clip: rect(1px 1px 1px 1px);clip: rect(1px, 1px, 1px, 1px);height: 1px;margin: -1px;overflow: hidden;padding: 0;position: absolute;width: 1px;}#sk-container-id-1 div.sk-estimator {font-family: monospace;background-color: #f0f8ff;border: 1px dotted black;border-radius: 0.25em;box-sizing: border-box;margin-bottom: 0.5em;}#sk-container-id-1 div.sk-estimator:hover {background-color: #d4ebff;}#sk-container-id-1 div.sk-parallel-item::after {content: \"\";width: 100%;border-bottom: 1px solid gray;flex-grow: 1;}#sk-container-id-1 div.sk-label:hover label.sk-toggleable__label {background-color: #d4ebff;}#sk-container-id-1 div.sk-serial::before {content: \"\";position: absolute;border-left: 1px solid gray;box-sizing: border-box;top: 0;bottom: 0;left: 50%;z-index: 0;}#sk-container-id-1 div.sk-serial {display: flex;flex-direction: column;align-items: center;background-color: white;padding-right: 0.2em;padding-left: 0.2em;position: relative;}#sk-container-id-1 div.sk-item {position: relative;z-index: 1;}#sk-container-id-1 div.sk-parallel {display: flex;align-items: stretch;justify-content: center;background-color: white;position: relative;}#sk-container-id-1 div.sk-item::before, #sk-container-id-1 div.sk-parallel-item::before {content: \"\";position: absolute;border-left: 1px solid gray;box-sizing: border-box;top: 0;bottom: 0;left: 50%;z-index: -1;}#sk-container-id-1 div.sk-parallel-item {display: flex;flex-direction: column;z-index: 1;position: relative;background-color: white;}#sk-container-id-1 div.sk-parallel-item:first-child::after {align-self: flex-end;width: 50%;}#sk-container-id-1 div.sk-parallel-item:last-child::after {align-self: flex-start;width: 50%;}#sk-container-id-1 div.sk-parallel-item:only-child::after {width: 0;}#sk-container-id-1 div.sk-dashed-wrapped {border: 1px dashed gray;margin: 0 0.4em 0.5em 0.4em;box-sizing: border-box;padding-bottom: 0.4em;background-color: white;}#sk-container-id-1 div.sk-label label {font-family: monospace;font-weight: bold;display: inline-block;line-height: 1.2em;}#sk-container-id-1 div.sk-label-container {text-align: center;}#sk-container-id-1 div.sk-container {/* jupyter's `normalize.less` sets `[hidden] { display: none; }` but bootstrap.min.css set `[hidden] { display: none !important; }` so we also need the `!important` here to be able to override the default hidden behavior on the sphinx rendered scikit-learn.org. See: https://github.com/scikit-learn/scikit-learn/issues/21755 */display: inline-block !important;position: relative;}#sk-container-id-1 div.sk-text-repr-fallback {display: none;}</style><div id=\"sk-container-id-1\" class=\"sk-top-container\"><div class=\"sk-text-repr-fallback\"><pre>Pipeline(steps=[(&#x27;num&#x27;,\n",
       "                 ColumnTransformer(remainder=&#x27;passthrough&#x27;,\n",
       "                                   transformers=[(&#x27;pt_it_vis&#x27;,\n",
       "                                                  PowerTransformer(standardize=False),\n",
       "                                                  [2]),\n",
       "                                                 (&#x27;ft_it_mrp&#x27;,\n",
       "                                                  FunctionTransformer(func=&lt;function ft_exp at 0x000001E69DABAE60&gt;),\n",
       "                                                  [4]),\n",
       "                                                 (&#x27;ft_ol_age&#x27;,\n",
       "                                                  FunctionTransformer(func=&lt;function ft_sqrt at 0x000001E68DD70E50&gt;),\n",
       "                                                  [9])])),\n",
       "                (&#x27;ss&#x27;,\n",
       "                 ColumnTransformer(remainder=&#x27;passthrough&#x27;,\n",
       "                                   tra...\n",
       "                                                  OrdinalEncoder(categories=[[&#x27;Small&#x27;,\n",
       "                                                                              &#x27;Medium&#x27;,\n",
       "                                                                              &#x27;High&#x27;],\n",
       "                                                                             [&#x27;Tier &#x27;\n",
       "                                                                              &#x27;3&#x27;,\n",
       "                                                                              &#x27;Tier &#x27;\n",
       "                                                                              &#x27;2&#x27;,\n",
       "                                                                              &#x27;Tier &#x27;\n",
       "                                                                              &#x27;1&#x27;],\n",
       "                                                                             [&#x27;Grocery &#x27;\n",
       "                                                                              &#x27;Store&#x27;,\n",
       "                                                                              &#x27;Supermarket &#x27;\n",
       "                                                                              &#x27;Type3&#x27;,\n",
       "                                                                              &#x27;Supermarket &#x27;\n",
       "                                                                              &#x27;Type2&#x27;,\n",
       "                                                                              &#x27;Supermarket &#x27;\n",
       "                                                                              &#x27;Type1&#x27;]],\n",
       "                                                                 dtype=&#x27;object&#x27;),\n",
       "                                                  [6, 7, 8]),\n",
       "                                                 (&#x27;ohe&#x27;,\n",
       "                                                  OneHotEncoder(drop=&#x27;first&#x27;,\n",
       "                                                                dtype=&#x27;int8&#x27;,\n",
       "                                                                sparse_output=False),\n",
       "                                                  [4, 5, 9])])),\n",
       "                (&#x27;fs&#x27;,\n",
       "                 SelectKBest(k=&#x27;all&#x27;,\n",
       "                             score_func=&lt;function mutual_info_regression at 0x000001E697E12830&gt;))])</pre><b>In a Jupyter environment, please rerun this cell to show the HTML representation or trust the notebook. <br />On GitHub, the HTML representation is unable to render, please try loading this page with nbviewer.org.</b></div><div class=\"sk-container\" hidden><div class=\"sk-item sk-dashed-wrapped\"><div class=\"sk-label-container\"><div class=\"sk-label sk-toggleable\"><input class=\"sk-toggleable__control sk-hidden--visually\" id=\"sk-estimator-id-1\" type=\"checkbox\" ><label for=\"sk-estimator-id-1\" class=\"sk-toggleable__label sk-toggleable__label-arrow\">Pipeline</label><div class=\"sk-toggleable__content\"><pre>Pipeline(steps=[(&#x27;num&#x27;,\n",
       "                 ColumnTransformer(remainder=&#x27;passthrough&#x27;,\n",
       "                                   transformers=[(&#x27;pt_it_vis&#x27;,\n",
       "                                                  PowerTransformer(standardize=False),\n",
       "                                                  [2]),\n",
       "                                                 (&#x27;ft_it_mrp&#x27;,\n",
       "                                                  FunctionTransformer(func=&lt;function ft_exp at 0x000001E69DABAE60&gt;),\n",
       "                                                  [4]),\n",
       "                                                 (&#x27;ft_ol_age&#x27;,\n",
       "                                                  FunctionTransformer(func=&lt;function ft_sqrt at 0x000001E68DD70E50&gt;),\n",
       "                                                  [9])])),\n",
       "                (&#x27;ss&#x27;,\n",
       "                 ColumnTransformer(remainder=&#x27;passthrough&#x27;,\n",
       "                                   tra...\n",
       "                                                  OrdinalEncoder(categories=[[&#x27;Small&#x27;,\n",
       "                                                                              &#x27;Medium&#x27;,\n",
       "                                                                              &#x27;High&#x27;],\n",
       "                                                                             [&#x27;Tier &#x27;\n",
       "                                                                              &#x27;3&#x27;,\n",
       "                                                                              &#x27;Tier &#x27;\n",
       "                                                                              &#x27;2&#x27;,\n",
       "                                                                              &#x27;Tier &#x27;\n",
       "                                                                              &#x27;1&#x27;],\n",
       "                                                                             [&#x27;Grocery &#x27;\n",
       "                                                                              &#x27;Store&#x27;,\n",
       "                                                                              &#x27;Supermarket &#x27;\n",
       "                                                                              &#x27;Type3&#x27;,\n",
       "                                                                              &#x27;Supermarket &#x27;\n",
       "                                                                              &#x27;Type2&#x27;,\n",
       "                                                                              &#x27;Supermarket &#x27;\n",
       "                                                                              &#x27;Type1&#x27;]],\n",
       "                                                                 dtype=&#x27;object&#x27;),\n",
       "                                                  [6, 7, 8]),\n",
       "                                                 (&#x27;ohe&#x27;,\n",
       "                                                  OneHotEncoder(drop=&#x27;first&#x27;,\n",
       "                                                                dtype=&#x27;int8&#x27;,\n",
       "                                                                sparse_output=False),\n",
       "                                                  [4, 5, 9])])),\n",
       "                (&#x27;fs&#x27;,\n",
       "                 SelectKBest(k=&#x27;all&#x27;,\n",
       "                             score_func=&lt;function mutual_info_regression at 0x000001E697E12830&gt;))])</pre></div></div></div><div class=\"sk-serial\"><div class=\"sk-item sk-dashed-wrapped\"><div class=\"sk-label-container\"><div class=\"sk-label sk-toggleable\"><input class=\"sk-toggleable__control sk-hidden--visually\" id=\"sk-estimator-id-2\" type=\"checkbox\" ><label for=\"sk-estimator-id-2\" class=\"sk-toggleable__label sk-toggleable__label-arrow\">num: ColumnTransformer</label><div class=\"sk-toggleable__content\"><pre>ColumnTransformer(remainder=&#x27;passthrough&#x27;,\n",
       "                  transformers=[(&#x27;pt_it_vis&#x27;,\n",
       "                                 PowerTransformer(standardize=False), [2]),\n",
       "                                (&#x27;ft_it_mrp&#x27;,\n",
       "                                 FunctionTransformer(func=&lt;function ft_exp at 0x000001E69DABAE60&gt;),\n",
       "                                 [4]),\n",
       "                                (&#x27;ft_ol_age&#x27;,\n",
       "                                 FunctionTransformer(func=&lt;function ft_sqrt at 0x000001E68DD70E50&gt;),\n",
       "                                 [9])])</pre></div></div></div><div class=\"sk-parallel\"><div class=\"sk-parallel-item\"><div class=\"sk-item\"><div class=\"sk-label-container\"><div class=\"sk-label sk-toggleable\"><input class=\"sk-toggleable__control sk-hidden--visually\" id=\"sk-estimator-id-3\" type=\"checkbox\" ><label for=\"sk-estimator-id-3\" class=\"sk-toggleable__label sk-toggleable__label-arrow\">pt_it_vis</label><div class=\"sk-toggleable__content\"><pre>[2]</pre></div></div></div><div class=\"sk-serial\"><div class=\"sk-item\"><div class=\"sk-estimator sk-toggleable\"><input class=\"sk-toggleable__control sk-hidden--visually\" id=\"sk-estimator-id-4\" type=\"checkbox\" ><label for=\"sk-estimator-id-4\" class=\"sk-toggleable__label sk-toggleable__label-arrow\">PowerTransformer</label><div class=\"sk-toggleable__content\"><pre>PowerTransformer(standardize=False)</pre></div></div></div></div></div></div><div class=\"sk-parallel-item\"><div class=\"sk-item\"><div class=\"sk-label-container\"><div class=\"sk-label sk-toggleable\"><input class=\"sk-toggleable__control sk-hidden--visually\" id=\"sk-estimator-id-5\" type=\"checkbox\" ><label for=\"sk-estimator-id-5\" class=\"sk-toggleable__label sk-toggleable__label-arrow\">ft_it_mrp</label><div class=\"sk-toggleable__content\"><pre>[4]</pre></div></div></div><div class=\"sk-serial\"><div class=\"sk-item\"><div class=\"sk-estimator sk-toggleable\"><input class=\"sk-toggleable__control sk-hidden--visually\" id=\"sk-estimator-id-6\" type=\"checkbox\" ><label for=\"sk-estimator-id-6\" class=\"sk-toggleable__label sk-toggleable__label-arrow\">FunctionTransformer</label><div class=\"sk-toggleable__content\"><pre>FunctionTransformer(func=&lt;function ft_exp at 0x000001E69DABAE60&gt;)</pre></div></div></div></div></div></div><div class=\"sk-parallel-item\"><div class=\"sk-item\"><div class=\"sk-label-container\"><div class=\"sk-label sk-toggleable\"><input class=\"sk-toggleable__control sk-hidden--visually\" id=\"sk-estimator-id-7\" type=\"checkbox\" ><label for=\"sk-estimator-id-7\" class=\"sk-toggleable__label sk-toggleable__label-arrow\">ft_ol_age</label><div class=\"sk-toggleable__content\"><pre>[9]</pre></div></div></div><div class=\"sk-serial\"><div class=\"sk-item\"><div class=\"sk-estimator sk-toggleable\"><input class=\"sk-toggleable__control sk-hidden--visually\" id=\"sk-estimator-id-8\" type=\"checkbox\" ><label for=\"sk-estimator-id-8\" class=\"sk-toggleable__label sk-toggleable__label-arrow\">FunctionTransformer</label><div class=\"sk-toggleable__content\"><pre>FunctionTransformer(func=&lt;function ft_sqrt at 0x000001E68DD70E50&gt;)</pre></div></div></div></div></div></div><div class=\"sk-parallel-item\"><div class=\"sk-item\"><div class=\"sk-label-container\"><div class=\"sk-label sk-toggleable\"><input class=\"sk-toggleable__control sk-hidden--visually\" id=\"sk-estimator-id-9\" type=\"checkbox\" ><label for=\"sk-estimator-id-9\" class=\"sk-toggleable__label sk-toggleable__label-arrow\">remainder</label><div class=\"sk-toggleable__content\"><pre>[&#x27;Item_Weight&#x27;, &#x27;Item_Fat_Content&#x27;, &#x27;Item_Type&#x27;, &#x27;Outlet_Size&#x27;, &#x27;Outlet_Location_Type&#x27;, &#x27;Outlet_Type&#x27;, &#x27;Item_Category&#x27;]</pre></div></div></div><div class=\"sk-serial\"><div class=\"sk-item\"><div class=\"sk-estimator sk-toggleable\"><input class=\"sk-toggleable__control sk-hidden--visually\" id=\"sk-estimator-id-10\" type=\"checkbox\" ><label for=\"sk-estimator-id-10\" class=\"sk-toggleable__label sk-toggleable__label-arrow\">passthrough</label><div class=\"sk-toggleable__content\"><pre>passthrough</pre></div></div></div></div></div></div></div></div><div class=\"sk-item sk-dashed-wrapped\"><div class=\"sk-label-container\"><div class=\"sk-label sk-toggleable\"><input class=\"sk-toggleable__control sk-hidden--visually\" id=\"sk-estimator-id-11\" type=\"checkbox\" ><label for=\"sk-estimator-id-11\" class=\"sk-toggleable__label sk-toggleable__label-arrow\">ss: ColumnTransformer</label><div class=\"sk-toggleable__content\"><pre>ColumnTransformer(remainder=&#x27;passthrough&#x27;,\n",
       "                  transformers=[(&#x27;ss&#x27;, StandardScaler(), [0, 1, 2, 3])])</pre></div></div></div><div class=\"sk-parallel\"><div class=\"sk-parallel-item\"><div class=\"sk-item\"><div class=\"sk-label-container\"><div class=\"sk-label sk-toggleable\"><input class=\"sk-toggleable__control sk-hidden--visually\" id=\"sk-estimator-id-12\" type=\"checkbox\" ><label for=\"sk-estimator-id-12\" class=\"sk-toggleable__label sk-toggleable__label-arrow\">ss</label><div class=\"sk-toggleable__content\"><pre>[0, 1, 2, 3]</pre></div></div></div><div class=\"sk-serial\"><div class=\"sk-item\"><div class=\"sk-estimator sk-toggleable\"><input class=\"sk-toggleable__control sk-hidden--visually\" id=\"sk-estimator-id-13\" type=\"checkbox\" ><label for=\"sk-estimator-id-13\" class=\"sk-toggleable__label sk-toggleable__label-arrow\">StandardScaler</label><div class=\"sk-toggleable__content\"><pre>StandardScaler()</pre></div></div></div></div></div></div><div class=\"sk-parallel-item\"><div class=\"sk-item\"><div class=\"sk-label-container\"><div class=\"sk-label sk-toggleable\"><input class=\"sk-toggleable__control sk-hidden--visually\" id=\"sk-estimator-id-14\" type=\"checkbox\" ><label for=\"sk-estimator-id-14\" class=\"sk-toggleable__label sk-toggleable__label-arrow\">remainder</label><div class=\"sk-toggleable__content\"><pre>[4, 5, 6, 7, 8, 9]</pre></div></div></div><div class=\"sk-serial\"><div class=\"sk-item\"><div class=\"sk-estimator sk-toggleable\"><input class=\"sk-toggleable__control sk-hidden--visually\" id=\"sk-estimator-id-15\" type=\"checkbox\" ><label for=\"sk-estimator-id-15\" class=\"sk-toggleable__label sk-toggleable__label-arrow\">passthrough</label><div class=\"sk-toggleable__content\"><pre>passthrough</pre></div></div></div></div></div></div></div></div><div class=\"sk-item sk-dashed-wrapped\"><div class=\"sk-label-container\"><div class=\"sk-label sk-toggleable\"><input class=\"sk-toggleable__control sk-hidden--visually\" id=\"sk-estimator-id-16\" type=\"checkbox\" ><label for=\"sk-estimator-id-16\" class=\"sk-toggleable__label sk-toggleable__label-arrow\">cat: ColumnTransformer</label><div class=\"sk-toggleable__content\"><pre>ColumnTransformer(remainder=&#x27;passthrough&#x27;,\n",
       "                  transformers=[(&#x27;oe&#x27;,\n",
       "                                 OrdinalEncoder(categories=[[&#x27;Small&#x27;, &#x27;Medium&#x27;,\n",
       "                                                             &#x27;High&#x27;],\n",
       "                                                            [&#x27;Tier 3&#x27;, &#x27;Tier 2&#x27;,\n",
       "                                                             &#x27;Tier 1&#x27;],\n",
       "                                                            [&#x27;Grocery Store&#x27;,\n",
       "                                                             &#x27;Supermarket &#x27;\n",
       "                                                             &#x27;Type3&#x27;,\n",
       "                                                             &#x27;Supermarket &#x27;\n",
       "                                                             &#x27;Type2&#x27;,\n",
       "                                                             &#x27;Supermarket &#x27;\n",
       "                                                             &#x27;Type1&#x27;]],\n",
       "                                                dtype=&#x27;object&#x27;),\n",
       "                                 [6, 7, 8]),\n",
       "                                (&#x27;ohe&#x27;,\n",
       "                                 OneHotEncoder(drop=&#x27;first&#x27;, dtype=&#x27;int8&#x27;,\n",
       "                                               sparse_output=False),\n",
       "                                 [4, 5, 9])])</pre></div></div></div><div class=\"sk-parallel\"><div class=\"sk-parallel-item\"><div class=\"sk-item\"><div class=\"sk-label-container\"><div class=\"sk-label sk-toggleable\"><input class=\"sk-toggleable__control sk-hidden--visually\" id=\"sk-estimator-id-17\" type=\"checkbox\" ><label for=\"sk-estimator-id-17\" class=\"sk-toggleable__label sk-toggleable__label-arrow\">oe</label><div class=\"sk-toggleable__content\"><pre>[6, 7, 8]</pre></div></div></div><div class=\"sk-serial\"><div class=\"sk-item\"><div class=\"sk-estimator sk-toggleable\"><input class=\"sk-toggleable__control sk-hidden--visually\" id=\"sk-estimator-id-18\" type=\"checkbox\" ><label for=\"sk-estimator-id-18\" class=\"sk-toggleable__label sk-toggleable__label-arrow\">OrdinalEncoder</label><div class=\"sk-toggleable__content\"><pre>OrdinalEncoder(categories=[[&#x27;Small&#x27;, &#x27;Medium&#x27;, &#x27;High&#x27;],\n",
       "                           [&#x27;Tier 3&#x27;, &#x27;Tier 2&#x27;, &#x27;Tier 1&#x27;],\n",
       "                           [&#x27;Grocery Store&#x27;, &#x27;Supermarket Type3&#x27;,\n",
       "                            &#x27;Supermarket Type2&#x27;, &#x27;Supermarket Type1&#x27;]],\n",
       "               dtype=&#x27;object&#x27;)</pre></div></div></div></div></div></div><div class=\"sk-parallel-item\"><div class=\"sk-item\"><div class=\"sk-label-container\"><div class=\"sk-label sk-toggleable\"><input class=\"sk-toggleable__control sk-hidden--visually\" id=\"sk-estimator-id-19\" type=\"checkbox\" ><label for=\"sk-estimator-id-19\" class=\"sk-toggleable__label sk-toggleable__label-arrow\">ohe</label><div class=\"sk-toggleable__content\"><pre>[4, 5, 9]</pre></div></div></div><div class=\"sk-serial\"><div class=\"sk-item\"><div class=\"sk-estimator sk-toggleable\"><input class=\"sk-toggleable__control sk-hidden--visually\" id=\"sk-estimator-id-20\" type=\"checkbox\" ><label for=\"sk-estimator-id-20\" class=\"sk-toggleable__label sk-toggleable__label-arrow\">OneHotEncoder</label><div class=\"sk-toggleable__content\"><pre>OneHotEncoder(drop=&#x27;first&#x27;, dtype=&#x27;int8&#x27;, sparse_output=False)</pre></div></div></div></div></div></div><div class=\"sk-parallel-item\"><div class=\"sk-item\"><div class=\"sk-label-container\"><div class=\"sk-label sk-toggleable\"><input class=\"sk-toggleable__control sk-hidden--visually\" id=\"sk-estimator-id-21\" type=\"checkbox\" ><label for=\"sk-estimator-id-21\" class=\"sk-toggleable__label sk-toggleable__label-arrow\">remainder</label><div class=\"sk-toggleable__content\"><pre>[0, 1, 2, 3]</pre></div></div></div><div class=\"sk-serial\"><div class=\"sk-item\"><div class=\"sk-estimator sk-toggleable\"><input class=\"sk-toggleable__control sk-hidden--visually\" id=\"sk-estimator-id-22\" type=\"checkbox\" ><label for=\"sk-estimator-id-22\" class=\"sk-toggleable__label sk-toggleable__label-arrow\">passthrough</label><div class=\"sk-toggleable__content\"><pre>passthrough</pre></div></div></div></div></div></div></div></div><div class=\"sk-item\"><div class=\"sk-estimator sk-toggleable\"><input class=\"sk-toggleable__control sk-hidden--visually\" id=\"sk-estimator-id-23\" type=\"checkbox\" ><label for=\"sk-estimator-id-23\" class=\"sk-toggleable__label sk-toggleable__label-arrow\">SelectKBest</label><div class=\"sk-toggleable__content\"><pre>SelectKBest(k=&#x27;all&#x27;,\n",
       "            score_func=&lt;function mutual_info_regression at 0x000001E697E12830&gt;)</pre></div></div></div></div></div></div></div>"
      ],
      "text/plain": [
       "Pipeline(steps=[('num',\n",
       "                 ColumnTransformer(remainder='passthrough',\n",
       "                                   transformers=[('pt_it_vis',\n",
       "                                                  PowerTransformer(standardize=False),\n",
       "                                                  [2]),\n",
       "                                                 ('ft_it_mrp',\n",
       "                                                  FunctionTransformer(func=<function ft_exp at 0x000001E69DABAE60>),\n",
       "                                                  [4]),\n",
       "                                                 ('ft_ol_age',\n",
       "                                                  FunctionTransformer(func=<function ft_sqrt at 0x000001E68DD70E50>),\n",
       "                                                  [9])])),\n",
       "                ('ss',\n",
       "                 ColumnTransformer(remainder='passthrough',\n",
       "                                   tra...\n",
       "                                                  OrdinalEncoder(categories=[['Small',\n",
       "                                                                              'Medium',\n",
       "                                                                              'High'],\n",
       "                                                                             ['Tier '\n",
       "                                                                              '3',\n",
       "                                                                              'Tier '\n",
       "                                                                              '2',\n",
       "                                                                              'Tier '\n",
       "                                                                              '1'],\n",
       "                                                                             ['Grocery '\n",
       "                                                                              'Store',\n",
       "                                                                              'Supermarket '\n",
       "                                                                              'Type3',\n",
       "                                                                              'Supermarket '\n",
       "                                                                              'Type2',\n",
       "                                                                              'Supermarket '\n",
       "                                                                              'Type1']],\n",
       "                                                                 dtype='object'),\n",
       "                                                  [6, 7, 8]),\n",
       "                                                 ('ohe',\n",
       "                                                  OneHotEncoder(drop='first',\n",
       "                                                                dtype='int8',\n",
       "                                                                sparse_output=False),\n",
       "                                                  [4, 5, 9])])),\n",
       "                ('fs',\n",
       "                 SelectKBest(k='all',\n",
       "                             score_func=<function mutual_info_regression at 0x000001E697E12830>))])"
      ]
     },
     "execution_count": 24,
     "metadata": {},
     "output_type": "execute_result"
    }
   ],
   "source": [
    "pipe.fit(xdf,ytr)"
   ]
  },
  {
   "cell_type": "code",
   "execution_count": 25,
   "id": "3aaee803-e638-404d-9bb4-36f36fa5e243",
   "metadata": {
    "tags": []
   },
   "outputs": [],
   "source": [
    "res = pipe.transform(xdf)"
   ]
  },
  {
   "cell_type": "code",
   "execution_count": 26,
   "id": "a80131ed-6a0c-402d-93cf-838d0ac0d1ed",
   "metadata": {},
   "outputs": [
    {
     "data": {
      "text/plain": [
       "(8423, 27)"
      ]
     },
     "execution_count": 26,
     "metadata": {},
     "output_type": "execute_result"
    }
   ],
   "source": [
    "res.shape"
   ]
  },
  {
   "cell_type": "code",
   "execution_count": 27,
   "id": "abe752af-73b1-414f-946e-001dc923fd5e",
   "metadata": {},
   "outputs": [
    {
     "data": {
      "text/html": [
       "<div>\n",
       "<style scoped>\n",
       "    .dataframe tbody tr th:only-of-type {\n",
       "        vertical-align: middle;\n",
       "    }\n",
       "\n",
       "    .dataframe tbody tr th {\n",
       "        vertical-align: top;\n",
       "    }\n",
       "\n",
       "    .dataframe thead th {\n",
       "        text-align: right;\n",
       "    }\n",
       "</style>\n",
       "<table border=\"1\" class=\"dataframe\">\n",
       "  <thead>\n",
       "    <tr style=\"text-align: right;\">\n",
       "      <th></th>\n",
       "      <th>Item_Weight</th>\n",
       "      <th>Item_Fat_Content</th>\n",
       "      <th>Item_Visibility</th>\n",
       "      <th>Item_Type</th>\n",
       "      <th>Item_MRP</th>\n",
       "      <th>Outlet_Size</th>\n",
       "      <th>Outlet_Location_Type</th>\n",
       "      <th>Outlet_Type</th>\n",
       "      <th>Item_Category</th>\n",
       "      <th>Outlet_Age</th>\n",
       "    </tr>\n",
       "  </thead>\n",
       "  <tbody>\n",
       "    <tr>\n",
       "      <th>2171</th>\n",
       "      <td>13.65</td>\n",
       "      <td>Regular</td>\n",
       "      <td>0.0808</td>\n",
       "      <td>Frozen Foods</td>\n",
       "      <td>262.8936</td>\n",
       "      <td>Medium</td>\n",
       "      <td>Tier 1</td>\n",
       "      <td>Supermarket Type1</td>\n",
       "      <td>Foods</td>\n",
       "      <td>14.0</td>\n",
       "    </tr>\n",
       "  </tbody>\n",
       "</table>\n",
       "</div>"
      ],
      "text/plain": [
       "      Item_Weight Item_Fat_Content  Item_Visibility     Item_Type  Item_MRP  \\\n",
       "2171        13.65          Regular           0.0808  Frozen Foods  262.8936   \n",
       "\n",
       "     Outlet_Size Outlet_Location_Type        Outlet_Type Item_Category  \\\n",
       "2171      Medium               Tier 1  Supermarket Type1         Foods   \n",
       "\n",
       "      Outlet_Age  \n",
       "2171        14.0  "
      ]
     },
     "execution_count": 27,
     "metadata": {},
     "output_type": "execute_result"
    }
   ],
   "source": [
    "xdf.head(1)"
   ]
  },
  {
   "cell_type": "code",
   "execution_count": 28,
   "id": "86f9279c-2ec1-49d9-8fda-fc24c0290ae2",
   "metadata": {
    "tags": []
   },
   "outputs": [
    {
     "data": {
      "text/plain": [
       "array([[1, 2, 3, 0, 1, 0, 0, 0, 0, 0, 1, 0, 0, 0, 0, 0, 0, 0, 0, 0, 0, 1,\n",
       "        0, 0.4757017878491655, 1.8680614395965758, 0.005684096141963869,\n",
       "        0.16582322466052057]], dtype=object)"
      ]
     },
     "execution_count": 28,
     "metadata": {},
     "output_type": "execute_result"
    }
   ],
   "source": [
    "res[:1]"
   ]
  },
  {
   "cell_type": "code",
   "execution_count": null,
   "id": "de3f1a73-89e0-4016-8f7b-7e34ca51dbae",
   "metadata": {},
   "outputs": [],
   "source": []
  }
 ],
 "metadata": {
  "kernelspec": {
   "display_name": "Python 3 (ipykernel)",
   "language": "python",
   "name": "python3"
  },
  "language_info": {
   "codemirror_mode": {
    "name": "ipython",
    "version": 3
   },
   "file_extension": ".py",
   "mimetype": "text/x-python",
   "name": "python",
   "nbconvert_exporter": "python",
   "pygments_lexer": "ipython3",
   "version": "3.10.10"
  }
 },
 "nbformat": 4,
 "nbformat_minor": 5
}
