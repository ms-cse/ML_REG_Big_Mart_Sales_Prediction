{
 "cells": [
  {
   "cell_type": "markdown",
   "id": "38a4ff0d-93a7-4d10-8806-11e6eae345c2",
   "metadata": {},
   "source": [
    "# FEATURE ENGINEERING OBSERVATIONS - {\"BIGMART SALES\" DATASET}"
   ]
  },
  {
   "cell_type": "markdown",
   "id": "d55f8aac-c19b-4352-a3e6-94c06de87489",
   "metadata": {},
   "source": [
    "## A. Observations"
   ]
  },
  {
   "cell_type": "markdown",
   "id": "4356391f-028f-4d8a-b496-c4a7dd812f17",
   "metadata": {},
   "source": [
    "#### 1. Drop non relevant features from the dataset.\n",
    "#### 2. Outliers handling using IQR method and Capping.\n",
    "#### 3. Feature transformation checks.\n",
    "#### 4. Scaling for numerical float type featres.\n",
    "#### 5. Categorical data encoding using One Hot Encoding and Ordinal Encoding Techniques.\n",
    "#### 6. Feature hasher for high cardinality categorical features to reduce dimensions.   (Not Used)\n",
    "#### 7. Feature selection to increase the performance of the model."
   ]
  },
  {
   "cell_type": "markdown",
   "id": "5b6fb0d0-ca24-4d2b-8e26-2f0b2d8af299",
   "metadata": {},
   "source": [
    "## B. Steps of Feature Engineering"
   ]
  },
  {
   "cell_type": "markdown",
   "id": "dcdc00dd-c4fa-4c53-a63e-07a0f8c58dc6",
   "metadata": {},
   "source": [
    "#### 1. Drop non relevant features from the observations."
   ]
  },
  {
   "cell_type": "markdown",
   "id": "b4ed16b9-9a24-4f5f-9034-9247e89eb97a",
   "metadata": {},
   "source": [
    "#### 2. Oultier Detection and Handling using Capping Technique\n",
    "##### - Detect and handle outliers in numerical features of Train dataset only."
   ]
  },
  {
   "cell_type": "markdown",
   "id": "86d3ae0f-8221-474a-82d0-efc992c36351",
   "metadata": {},
   "source": [
    "#### 3. Feature Transformation (to be applied in pipeline)\n",
    "#### Checking various features transformations: (Log), (Square), (Reciprocal), (Square Root), (Exponential), (Yeo-Johnson)\n",
    "##### - 'Yeo-Johnson' Transformation is performing better in comparison to other transformations.\n",
    "##### - Apply 'Yeo-Johnson' on numerical features of Train and Test dataset."
   ]
  },
  {
   "cell_type": "markdown",
   "id": "8d69effc-b374-4970-a717-aeb269eb9759",
   "metadata": {},
   "source": [
    "#### 4. Scaling (StandardScaler / MinMaxScaler) (to be applied in pipeline)\n",
    "##### - Apply 'StandardScaler' on numerical features of Train and Test dataset to reduce the skew."
   ]
  },
  {
   "cell_type": "markdown",
   "id": "fab51f0f-01e1-4848-b125-a1baf8599245",
   "metadata": {},
   "source": [
    "#### 5. Categorical features encoding using OneHot and Ordinal encoding techniques"
   ]
  },
  {
   "cell_type": "markdown",
   "id": "a1c16f7f-113d-4ed9-b355-83c0ba7669b2",
   "metadata": {},
   "source": [
    "#### 6. Feature hasher (Not Used)"
   ]
  },
  {
   "cell_type": "markdown",
   "id": "ff2c09e2-7d3d-4413-ac01-2b8db31d3d73",
   "metadata": {},
   "source": [
    "#### 7. Feature Selection Techniques (to be applied in pipeline)\n",
    "##### - Apply SelectKBest with mutual_info_regression to select the top k features for Model Building using estimators.\n",
    "##### - Treat Train and Test dataset with feature selection strategy."
   ]
  },
  {
   "cell_type": "markdown",
   "id": "3d938dff-c558-49f8-af0c-9ba544f66505",
   "metadata": {},
   "source": [
    "## C. Saving the feature engineered train and test datasets into CSV and PKL files\n",
    "#### - Train dataset is saved after outlier detection and handling step.\n",
    "##### - 'bms_FE_prod_train.csv'\n",
    "##### - 'bms_FE_prod_train.pkl'\n",
    "\n",
    "#### - Test data is saved.\n",
    "##### - 'bms_FE_test_final.csv'\n",
    "##### - 'bms_FE_test_final.pkl'"
   ]
  },
  {
   "cell_type": "code",
   "execution_count": null,
   "id": "b57f9751-2038-455a-adb3-2eec062888b1",
   "metadata": {},
   "outputs": [],
   "source": []
  }
 ],
 "metadata": {
  "kernelspec": {
   "display_name": "Python 3 (ipykernel)",
   "language": "python",
   "name": "python3"
  },
  "language_info": {
   "codemirror_mode": {
    "name": "ipython",
    "version": 3
   },
   "file_extension": ".py",
   "mimetype": "text/x-python",
   "name": "python",
   "nbconvert_exporter": "python",
   "pygments_lexer": "ipython3",
   "version": "3.10.10"
  }
 },
 "nbformat": 4,
 "nbformat_minor": 5
}
