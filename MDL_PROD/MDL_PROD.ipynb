{
 "cells": [
  {
   "cell_type": "markdown",
   "id": "f6079c98-4e48-499e-894f-c50109507c87",
   "metadata": {
    "id": "f6079c98-4e48-499e-894f-c50109507c87"
   },
   "source": [
    "# ML REGRESSION - {\"BIGMART SALES\" DATASET}"
   ]
  },
  {
   "cell_type": "markdown",
   "id": "a6709c06-804a-47d1-b0df-5aee8b18f5a3",
   "metadata": {
    "id": "a6709c06-804a-47d1-b0df-5aee8b18f5a3"
   },
   "source": [
    "## 1. Importing Modules and Setting Configurations"
   ]
  },
  {
   "cell_type": "code",
   "execution_count": 1,
   "id": "36db63e5-2d56-407a-b8c0-22812c099423",
   "metadata": {
    "id": "36db63e5-2d56-407a-b8c0-22812c099423",
    "tags": []
   },
   "outputs": [],
   "source": [
    "import numpy as np\n",
    "import pandas as pd\n",
    "\n",
    "import matplotlib.pyplot as plt\n",
    "import seaborn as sb\n",
    "\n",
    "from pickle import dump, load\n",
    "from math import sqrt\n",
    "\n",
    "from sklearn.compose import ColumnTransformer\n",
    "\n",
    "from sklearn.preprocessing import PowerTransformer, FunctionTransformer\n",
    "from sklearn.preprocessing import StandardScaler\n",
    "\n",
    "from sklearn.preprocessing import OrdinalEncoder\n",
    "from sklearn.preprocessing import OneHotEncoder\n",
    "\n",
    "from sklearn.feature_selection import SelectKBest, mutual_info_regression\n",
    "\n",
    "from sklearn.ensemble import RandomForestRegressor\n",
    "\n",
    "from sklearn.pipeline import Pipeline\n",
    "\n",
    "from sklearn.compose import TransformedTargetRegressor\n",
    "\n",
    "from sklearn.metrics import r2_score, mean_squared_error\n",
    "\n",
    "from sklearn.model_selection import KFold, cross_validate\n",
    "\n",
    "\n",
    "import warnings\n",
    "warnings.filterwarnings('ignore')\n",
    "\n",
    "from sklearn import set_config\n",
    "set_config(display='diagram')"
   ]
  },
  {
   "cell_type": "code",
   "execution_count": 2,
   "id": "b112b0e4-d8d7-439d-8a6c-b57e853f3a7e",
   "metadata": {
    "id": "b112b0e4-d8d7-439d-8a6c-b57e853f3a7e",
    "tags": []
   },
   "outputs": [],
   "source": [
    "# PD Options\n",
    "\n",
    "pd.set_option('display.min_rows', 5)\n",
    "pd.set_option('display.max_rows', 25)\n",
    "pd.set_option('display.precision', 4)\n",
    "\n",
    "# SB Options\n",
    "\n",
    "sb.set_theme(context='notebook', style='whitegrid', palette='pastel', font='times new roman', font_scale=1.25)"
   ]
  },
  {
   "cell_type": "markdown",
   "id": "5b60c742-f76a-4463-aff4-81be0075736f",
   "metadata": {
    "id": "5b60c742-f76a-4463-aff4-81be0075736f"
   },
   "source": [
    "## 2. Importing Train Dataset"
   ]
  },
  {
   "cell_type": "code",
   "execution_count": 3,
   "id": "9b662dfd-16ea-436c-b008-a31ae221d1a4",
   "metadata": {
    "colab": {
     "base_uri": "https://localhost:8080/",
     "height": 241
    },
    "id": "9b662dfd-16ea-436c-b008-a31ae221d1a4",
    "outputId": "bdf7fcbf-f014-4d0e-e83c-173f452d06bc",
    "tags": []
   },
   "outputs": [
    {
     "name": "stdout",
     "output_type": "stream",
     "text": [
      "Shape of the production dataset : (8423, 11)\n"
     ]
    },
    {
     "data": {
      "text/html": [
       "<div>\n",
       "<style scoped>\n",
       "    .dataframe tbody tr th:only-of-type {\n",
       "        vertical-align: middle;\n",
       "    }\n",
       "\n",
       "    .dataframe tbody tr th {\n",
       "        vertical-align: top;\n",
       "    }\n",
       "\n",
       "    .dataframe thead th {\n",
       "        text-align: right;\n",
       "    }\n",
       "</style>\n",
       "<table border=\"1\" class=\"dataframe\">\n",
       "  <thead>\n",
       "    <tr style=\"text-align: right;\">\n",
       "      <th></th>\n",
       "      <th>Item_Weight</th>\n",
       "      <th>Item_Fat_Content</th>\n",
       "      <th>Item_Visibility</th>\n",
       "      <th>Item_Type</th>\n",
       "      <th>Item_MRP</th>\n",
       "      <th>Outlet_Size</th>\n",
       "      <th>Outlet_Location_Type</th>\n",
       "      <th>Outlet_Type</th>\n",
       "      <th>Item_Category</th>\n",
       "      <th>Outlet_Age</th>\n",
       "      <th>Item_Outlet_Sales</th>\n",
       "    </tr>\n",
       "  </thead>\n",
       "  <tbody>\n",
       "    <tr>\n",
       "      <th>2171</th>\n",
       "      <td>13.65</td>\n",
       "      <td>Regular</td>\n",
       "      <td>0.0808</td>\n",
       "      <td>Frozen Foods</td>\n",
       "      <td>262.8936</td>\n",
       "      <td>Medium</td>\n",
       "      <td>Tier 1</td>\n",
       "      <td>Supermarket Type1</td>\n",
       "      <td>Foods</td>\n",
       "      <td>14.0</td>\n",
       "      <td>4958.8784</td>\n",
       "    </tr>\n",
       "    <tr>\n",
       "      <th>5657</th>\n",
       "      <td>6.98</td>\n",
       "      <td>Low Fat</td>\n",
       "      <td>0.0412</td>\n",
       "      <td>Canned</td>\n",
       "      <td>82.8934</td>\n",
       "      <td>Small</td>\n",
       "      <td>Tier 2</td>\n",
       "      <td>Supermarket Type1</td>\n",
       "      <td>Foods</td>\n",
       "      <td>11.0</td>\n",
       "      <td>818.9340</td>\n",
       "    </tr>\n",
       "    <tr>\n",
       "      <th>2156</th>\n",
       "      <td>20.10</td>\n",
       "      <td>Low Fat</td>\n",
       "      <td>0.0746</td>\n",
       "      <td>Dairy Foods</td>\n",
       "      <td>110.3228</td>\n",
       "      <td>Small</td>\n",
       "      <td>Tier 1</td>\n",
       "      <td>Supermarket Type1</td>\n",
       "      <td>Foods</td>\n",
       "      <td>16.0</td>\n",
       "      <td>1768.3648</td>\n",
       "    </tr>\n",
       "    <tr>\n",
       "      <th>110</th>\n",
       "      <td>13.30</td>\n",
       "      <td>Low Fat</td>\n",
       "      <td>0.0798</td>\n",
       "      <td>Dairy Foods</td>\n",
       "      <td>232.5300</td>\n",
       "      <td>Small</td>\n",
       "      <td>Tier 1</td>\n",
       "      <td>Supermarket Type1</td>\n",
       "      <td>Foods</td>\n",
       "      <td>16.0</td>\n",
       "      <td>699.0900</td>\n",
       "    </tr>\n",
       "    <tr>\n",
       "      <th>6709</th>\n",
       "      <td>10.10</td>\n",
       "      <td>Non Edible</td>\n",
       "      <td>0.0301</td>\n",
       "      <td>Health and Hygiene</td>\n",
       "      <td>154.3656</td>\n",
       "      <td>Medium</td>\n",
       "      <td>Tier 3</td>\n",
       "      <td>Supermarket Type3</td>\n",
       "      <td>Non Consumables</td>\n",
       "      <td>28.0</td>\n",
       "      <td>2471.4496</td>\n",
       "    </tr>\n",
       "  </tbody>\n",
       "</table>\n",
       "</div>"
      ],
      "text/plain": [
       "      Item_Weight Item_Fat_Content  Item_Visibility           Item_Type  \\\n",
       "2171        13.65          Regular           0.0808        Frozen Foods   \n",
       "5657         6.98          Low Fat           0.0412              Canned   \n",
       "2156        20.10          Low Fat           0.0746         Dairy Foods   \n",
       "110         13.30          Low Fat           0.0798         Dairy Foods   \n",
       "6709        10.10       Non Edible           0.0301  Health and Hygiene   \n",
       "\n",
       "      Item_MRP Outlet_Size Outlet_Location_Type        Outlet_Type  \\\n",
       "2171  262.8936      Medium               Tier 1  Supermarket Type1   \n",
       "5657   82.8934       Small               Tier 2  Supermarket Type1   \n",
       "2156  110.3228       Small               Tier 1  Supermarket Type1   \n",
       "110   232.5300       Small               Tier 1  Supermarket Type1   \n",
       "6709  154.3656      Medium               Tier 3  Supermarket Type3   \n",
       "\n",
       "        Item_Category  Outlet_Age  Item_Outlet_Sales  \n",
       "2171            Foods        14.0          4958.8784  \n",
       "5657            Foods        11.0           818.9340  \n",
       "2156            Foods        16.0          1768.3648  \n",
       "110             Foods        16.0           699.0900  \n",
       "6709  Non Consumables        28.0          2471.4496  "
      ]
     },
     "execution_count": 3,
     "metadata": {},
     "output_type": "execute_result"
    }
   ],
   "source": [
    "tr = pd.read_pickle('bms_FE_prod_final.pkl')\n",
    "\n",
    "print(f'Shape of the production dataset : {tr.shape}')\n",
    "tr.head(5)"
   ]
  },
  {
   "cell_type": "code",
   "execution_count": 4,
   "id": "f3aa1c1a-60c6-447e-beb8-7bb5989e050e",
   "metadata": {
    "id": "f3aa1c1a-60c6-447e-beb8-7bb5989e050e",
    "tags": []
   },
   "outputs": [],
   "source": [
    "Xtr = tr.drop(columns='Item_Outlet_Sales')\n",
    "ytr = tr['Item_Outlet_Sales']"
   ]
  },
  {
   "cell_type": "markdown",
   "id": "bf6ea48b-d4aa-4aac-85bf-81cda4b7ee30",
   "metadata": {
    "id": "bf6ea48b-d4aa-4aac-85bf-81cda4b7ee30"
   },
   "source": [
    "## 3. Production Model With Hyper-Parameters Tuned"
   ]
  },
  {
   "cell_type": "markdown",
   "id": "8cde1adc-80d9-4e4c-8e85-563a32d328a0",
   "metadata": {
    "id": "8cde1adc-80d9-4e4c-8e85-563a32d328a0"
   },
   "source": [
    "### 3.1 Production Model"
   ]
  },
  {
   "cell_type": "code",
   "execution_count": 5,
   "id": "da444f60-95f0-40cf-83fb-a5d8013252c7",
   "metadata": {
    "colab": {
     "base_uri": "https://localhost:8080/",
     "height": 227
    },
    "id": "da444f60-95f0-40cf-83fb-a5d8013252c7",
    "outputId": "5cbdcc3b-def7-4255-a3a8-58ed41aaf438",
    "tags": []
   },
   "outputs": [
    {
     "data": {
      "text/html": [
       "<style>#sk-container-id-1 {color: black;background-color: white;}#sk-container-id-1 pre{padding: 0;}#sk-container-id-1 div.sk-toggleable {background-color: white;}#sk-container-id-1 label.sk-toggleable__label {cursor: pointer;display: block;width: 100%;margin-bottom: 0;padding: 0.3em;box-sizing: border-box;text-align: center;}#sk-container-id-1 label.sk-toggleable__label-arrow:before {content: \"▸\";float: left;margin-right: 0.25em;color: #696969;}#sk-container-id-1 label.sk-toggleable__label-arrow:hover:before {color: black;}#sk-container-id-1 div.sk-estimator:hover label.sk-toggleable__label-arrow:before {color: black;}#sk-container-id-1 div.sk-toggleable__content {max-height: 0;max-width: 0;overflow: hidden;text-align: left;background-color: #f0f8ff;}#sk-container-id-1 div.sk-toggleable__content pre {margin: 0.2em;color: black;border-radius: 0.25em;background-color: #f0f8ff;}#sk-container-id-1 input.sk-toggleable__control:checked~div.sk-toggleable__content {max-height: 200px;max-width: 100%;overflow: auto;}#sk-container-id-1 input.sk-toggleable__control:checked~label.sk-toggleable__label-arrow:before {content: \"▾\";}#sk-container-id-1 div.sk-estimator input.sk-toggleable__control:checked~label.sk-toggleable__label {background-color: #d4ebff;}#sk-container-id-1 div.sk-label input.sk-toggleable__control:checked~label.sk-toggleable__label {background-color: #d4ebff;}#sk-container-id-1 input.sk-hidden--visually {border: 0;clip: rect(1px 1px 1px 1px);clip: rect(1px, 1px, 1px, 1px);height: 1px;margin: -1px;overflow: hidden;padding: 0;position: absolute;width: 1px;}#sk-container-id-1 div.sk-estimator {font-family: monospace;background-color: #f0f8ff;border: 1px dotted black;border-radius: 0.25em;box-sizing: border-box;margin-bottom: 0.5em;}#sk-container-id-1 div.sk-estimator:hover {background-color: #d4ebff;}#sk-container-id-1 div.sk-parallel-item::after {content: \"\";width: 100%;border-bottom: 1px solid gray;flex-grow: 1;}#sk-container-id-1 div.sk-label:hover label.sk-toggleable__label {background-color: #d4ebff;}#sk-container-id-1 div.sk-serial::before {content: \"\";position: absolute;border-left: 1px solid gray;box-sizing: border-box;top: 0;bottom: 0;left: 50%;z-index: 0;}#sk-container-id-1 div.sk-serial {display: flex;flex-direction: column;align-items: center;background-color: white;padding-right: 0.2em;padding-left: 0.2em;position: relative;}#sk-container-id-1 div.sk-item {position: relative;z-index: 1;}#sk-container-id-1 div.sk-parallel {display: flex;align-items: stretch;justify-content: center;background-color: white;position: relative;}#sk-container-id-1 div.sk-item::before, #sk-container-id-1 div.sk-parallel-item::before {content: \"\";position: absolute;border-left: 1px solid gray;box-sizing: border-box;top: 0;bottom: 0;left: 50%;z-index: -1;}#sk-container-id-1 div.sk-parallel-item {display: flex;flex-direction: column;z-index: 1;position: relative;background-color: white;}#sk-container-id-1 div.sk-parallel-item:first-child::after {align-self: flex-end;width: 50%;}#sk-container-id-1 div.sk-parallel-item:last-child::after {align-self: flex-start;width: 50%;}#sk-container-id-1 div.sk-parallel-item:only-child::after {width: 0;}#sk-container-id-1 div.sk-dashed-wrapped {border: 1px dashed gray;margin: 0 0.4em 0.5em 0.4em;box-sizing: border-box;padding-bottom: 0.4em;background-color: white;}#sk-container-id-1 div.sk-label label {font-family: monospace;font-weight: bold;display: inline-block;line-height: 1.2em;}#sk-container-id-1 div.sk-label-container {text-align: center;}#sk-container-id-1 div.sk-container {/* jupyter's `normalize.less` sets `[hidden] { display: none; }` but bootstrap.min.css set `[hidden] { display: none !important; }` so we also need the `!important` here to be able to override the default hidden behavior on the sphinx rendered scikit-learn.org. See: https://github.com/scikit-learn/scikit-learn/issues/21755 */display: inline-block !important;position: relative;}#sk-container-id-1 div.sk-text-repr-fallback {display: none;}</style><div id=\"sk-container-id-1\" class=\"sk-top-container\"><div class=\"sk-text-repr-fallback\"><pre>TransformedTargetRegressor(regressor=Pipeline(steps=[(&#x27;num&#x27;,\n",
       "                                                      ColumnTransformer(remainder=&#x27;passthrough&#x27;,\n",
       "                                                                        transformers=[(&#x27;pt_it_vis&#x27;,\n",
       "                                                                                       PowerTransformer(standardize=False),\n",
       "                                                                                       [2]),\n",
       "                                                                                      (&#x27;ft_it_mrp&#x27;,\n",
       "                                                                                       FunctionTransformer(func=&lt;function ft_exp at 0x000001C41B2FCC10&gt;),\n",
       "                                                                                       [4]),\n",
       "                                                                                      (&#x27;ft_ol_age&#x27;,\n",
       "                                                                                       FunctionTransformer(func=&lt;function ft_sqrt at 0x000001C41B2FCD30&gt;),\n",
       "                                                                                       [9])])),\n",
       "                                                     (&#x27;ss&#x27;,\n",
       "                                                      ColumnTr...\n",
       "                                                                                                                   &#x27;Type2&#x27;,\n",
       "                                                                                                                   &#x27;Supermarket &#x27;\n",
       "                                                                                                                   &#x27;Type1&#x27;]],\n",
       "                                                                                                      dtype=&#x27;object&#x27;),\n",
       "                                                                                       [6,\n",
       "                                                                                        7,\n",
       "                                                                                        8]),\n",
       "                                                                                      (&#x27;ohe&#x27;,\n",
       "                                                                                       OneHotEncoder(drop=&#x27;first&#x27;,\n",
       "                                                                                                     dtype=&#x27;int8&#x27;,\n",
       "                                                                                                     sparse_output=False),\n",
       "                                                                                       [4,\n",
       "                                                                                        5,\n",
       "                                                                                        9])])),\n",
       "                                                     (&#x27;skb&#x27;,\n",
       "                                                      SelectKBest(k=&#x27;all&#x27;,\n",
       "                                                                  score_func=&lt;function mutual_info_regression at 0x000001C425490A60&gt;)),\n",
       "                                                     (&#x27;mdl&#x27;,\n",
       "                                                      RandomForestRegressor(max_depth=5,\n",
       "                                                                            max_samples=0.25,\n",
       "                                                                            oob_score=True,\n",
       "                                                                            random_state=46))]),\n",
       "                           transformer=PowerTransformer())</pre><b>In a Jupyter environment, please rerun this cell to show the HTML representation or trust the notebook. <br />On GitHub, the HTML representation is unable to render, please try loading this page with nbviewer.org.</b></div><div class=\"sk-container\" hidden><div class=\"sk-item sk-dashed-wrapped\"><div class=\"sk-label-container\"><div class=\"sk-label sk-toggleable\"><input class=\"sk-toggleable__control sk-hidden--visually\" id=\"sk-estimator-id-1\" type=\"checkbox\" ><label for=\"sk-estimator-id-1\" class=\"sk-toggleable__label sk-toggleable__label-arrow\">TransformedTargetRegressor</label><div class=\"sk-toggleable__content\"><pre>TransformedTargetRegressor(regressor=Pipeline(steps=[(&#x27;num&#x27;,\n",
       "                                                      ColumnTransformer(remainder=&#x27;passthrough&#x27;,\n",
       "                                                                        transformers=[(&#x27;pt_it_vis&#x27;,\n",
       "                                                                                       PowerTransformer(standardize=False),\n",
       "                                                                                       [2]),\n",
       "                                                                                      (&#x27;ft_it_mrp&#x27;,\n",
       "                                                                                       FunctionTransformer(func=&lt;function ft_exp at 0x000001C41B2FCC10&gt;),\n",
       "                                                                                       [4]),\n",
       "                                                                                      (&#x27;ft_ol_age&#x27;,\n",
       "                                                                                       FunctionTransformer(func=&lt;function ft_sqrt at 0x000001C41B2FCD30&gt;),\n",
       "                                                                                       [9])])),\n",
       "                                                     (&#x27;ss&#x27;,\n",
       "                                                      ColumnTr...\n",
       "                                                                                                                   &#x27;Type2&#x27;,\n",
       "                                                                                                                   &#x27;Supermarket &#x27;\n",
       "                                                                                                                   &#x27;Type1&#x27;]],\n",
       "                                                                                                      dtype=&#x27;object&#x27;),\n",
       "                                                                                       [6,\n",
       "                                                                                        7,\n",
       "                                                                                        8]),\n",
       "                                                                                      (&#x27;ohe&#x27;,\n",
       "                                                                                       OneHotEncoder(drop=&#x27;first&#x27;,\n",
       "                                                                                                     dtype=&#x27;int8&#x27;,\n",
       "                                                                                                     sparse_output=False),\n",
       "                                                                                       [4,\n",
       "                                                                                        5,\n",
       "                                                                                        9])])),\n",
       "                                                     (&#x27;skb&#x27;,\n",
       "                                                      SelectKBest(k=&#x27;all&#x27;,\n",
       "                                                                  score_func=&lt;function mutual_info_regression at 0x000001C425490A60&gt;)),\n",
       "                                                     (&#x27;mdl&#x27;,\n",
       "                                                      RandomForestRegressor(max_depth=5,\n",
       "                                                                            max_samples=0.25,\n",
       "                                                                            oob_score=True,\n",
       "                                                                            random_state=46))]),\n",
       "                           transformer=PowerTransformer())</pre></div></div></div><div class=\"sk-parallel\"><div class=\"sk-parallel-item\"><div class=\"sk-item\"><div class=\"sk-label-container\"><div class=\"sk-label sk-toggleable\"><input class=\"sk-toggleable__control sk-hidden--visually\" id=\"sk-estimator-id-2\" type=\"checkbox\" ><label for=\"sk-estimator-id-2\" class=\"sk-toggleable__label sk-toggleable__label-arrow\">regressor: Pipeline</label><div class=\"sk-toggleable__content\"><pre>Pipeline(steps=[(&#x27;num&#x27;,\n",
       "                 ColumnTransformer(remainder=&#x27;passthrough&#x27;,\n",
       "                                   transformers=[(&#x27;pt_it_vis&#x27;,\n",
       "                                                  PowerTransformer(standardize=False),\n",
       "                                                  [2]),\n",
       "                                                 (&#x27;ft_it_mrp&#x27;,\n",
       "                                                  FunctionTransformer(func=&lt;function ft_exp at 0x000001C41B2FCC10&gt;),\n",
       "                                                  [4]),\n",
       "                                                 (&#x27;ft_ol_age&#x27;,\n",
       "                                                  FunctionTransformer(func=&lt;function ft_sqrt at 0x000001C41B2FCD30&gt;),\n",
       "                                                  [9])])),\n",
       "                (&#x27;ss&#x27;,\n",
       "                 ColumnTransformer(remainder=&#x27;passthrough&#x27;,\n",
       "                                   tra...\n",
       "                                                                              &#x27;Supermarket &#x27;\n",
       "                                                                              &#x27;Type3&#x27;,\n",
       "                                                                              &#x27;Supermarket &#x27;\n",
       "                                                                              &#x27;Type2&#x27;,\n",
       "                                                                              &#x27;Supermarket &#x27;\n",
       "                                                                              &#x27;Type1&#x27;]],\n",
       "                                                                 dtype=&#x27;object&#x27;),\n",
       "                                                  [6, 7, 8]),\n",
       "                                                 (&#x27;ohe&#x27;,\n",
       "                                                  OneHotEncoder(drop=&#x27;first&#x27;,\n",
       "                                                                dtype=&#x27;int8&#x27;,\n",
       "                                                                sparse_output=False),\n",
       "                                                  [4, 5, 9])])),\n",
       "                (&#x27;skb&#x27;,\n",
       "                 SelectKBest(k=&#x27;all&#x27;,\n",
       "                             score_func=&lt;function mutual_info_regression at 0x000001C425490A60&gt;)),\n",
       "                (&#x27;mdl&#x27;,\n",
       "                 RandomForestRegressor(max_depth=5, max_samples=0.25,\n",
       "                                       oob_score=True, random_state=46))])</pre></div></div></div><div class=\"sk-serial\"><div class=\"sk-item\"><div class=\"sk-serial\"><div class=\"sk-item sk-dashed-wrapped\"><div class=\"sk-label-container\"><div class=\"sk-label sk-toggleable\"><input class=\"sk-toggleable__control sk-hidden--visually\" id=\"sk-estimator-id-3\" type=\"checkbox\" ><label for=\"sk-estimator-id-3\" class=\"sk-toggleable__label sk-toggleable__label-arrow\">num: ColumnTransformer</label><div class=\"sk-toggleable__content\"><pre>ColumnTransformer(remainder=&#x27;passthrough&#x27;,\n",
       "                  transformers=[(&#x27;pt_it_vis&#x27;,\n",
       "                                 PowerTransformer(standardize=False), [2]),\n",
       "                                (&#x27;ft_it_mrp&#x27;,\n",
       "                                 FunctionTransformer(func=&lt;function ft_exp at 0x000001C41B2FCC10&gt;),\n",
       "                                 [4]),\n",
       "                                (&#x27;ft_ol_age&#x27;,\n",
       "                                 FunctionTransformer(func=&lt;function ft_sqrt at 0x000001C41B2FCD30&gt;),\n",
       "                                 [9])])</pre></div></div></div><div class=\"sk-parallel\"><div class=\"sk-parallel-item\"><div class=\"sk-item\"><div class=\"sk-label-container\"><div class=\"sk-label sk-toggleable\"><input class=\"sk-toggleable__control sk-hidden--visually\" id=\"sk-estimator-id-4\" type=\"checkbox\" ><label for=\"sk-estimator-id-4\" class=\"sk-toggleable__label sk-toggleable__label-arrow\">pt_it_vis</label><div class=\"sk-toggleable__content\"><pre>[2]</pre></div></div></div><div class=\"sk-serial\"><div class=\"sk-item\"><div class=\"sk-estimator sk-toggleable\"><input class=\"sk-toggleable__control sk-hidden--visually\" id=\"sk-estimator-id-5\" type=\"checkbox\" ><label for=\"sk-estimator-id-5\" class=\"sk-toggleable__label sk-toggleable__label-arrow\">PowerTransformer</label><div class=\"sk-toggleable__content\"><pre>PowerTransformer(standardize=False)</pre></div></div></div></div></div></div><div class=\"sk-parallel-item\"><div class=\"sk-item\"><div class=\"sk-label-container\"><div class=\"sk-label sk-toggleable\"><input class=\"sk-toggleable__control sk-hidden--visually\" id=\"sk-estimator-id-6\" type=\"checkbox\" ><label for=\"sk-estimator-id-6\" class=\"sk-toggleable__label sk-toggleable__label-arrow\">ft_it_mrp</label><div class=\"sk-toggleable__content\"><pre>[4]</pre></div></div></div><div class=\"sk-serial\"><div class=\"sk-item\"><div class=\"sk-estimator sk-toggleable\"><input class=\"sk-toggleable__control sk-hidden--visually\" id=\"sk-estimator-id-7\" type=\"checkbox\" ><label for=\"sk-estimator-id-7\" class=\"sk-toggleable__label sk-toggleable__label-arrow\">FunctionTransformer</label><div class=\"sk-toggleable__content\"><pre>FunctionTransformer(func=&lt;function ft_exp at 0x000001C41B2FCC10&gt;)</pre></div></div></div></div></div></div><div class=\"sk-parallel-item\"><div class=\"sk-item\"><div class=\"sk-label-container\"><div class=\"sk-label sk-toggleable\"><input class=\"sk-toggleable__control sk-hidden--visually\" id=\"sk-estimator-id-8\" type=\"checkbox\" ><label for=\"sk-estimator-id-8\" class=\"sk-toggleable__label sk-toggleable__label-arrow\">ft_ol_age</label><div class=\"sk-toggleable__content\"><pre>[9]</pre></div></div></div><div class=\"sk-serial\"><div class=\"sk-item\"><div class=\"sk-estimator sk-toggleable\"><input class=\"sk-toggleable__control sk-hidden--visually\" id=\"sk-estimator-id-9\" type=\"checkbox\" ><label for=\"sk-estimator-id-9\" class=\"sk-toggleable__label sk-toggleable__label-arrow\">FunctionTransformer</label><div class=\"sk-toggleable__content\"><pre>FunctionTransformer(func=&lt;function ft_sqrt at 0x000001C41B2FCD30&gt;)</pre></div></div></div></div></div></div><div class=\"sk-parallel-item\"><div class=\"sk-item\"><div class=\"sk-label-container\"><div class=\"sk-label sk-toggleable\"><input class=\"sk-toggleable__control sk-hidden--visually\" id=\"sk-estimator-id-10\" type=\"checkbox\" ><label for=\"sk-estimator-id-10\" class=\"sk-toggleable__label sk-toggleable__label-arrow\">remainder</label><div class=\"sk-toggleable__content\"><pre></pre></div></div></div><div class=\"sk-serial\"><div class=\"sk-item\"><div class=\"sk-estimator sk-toggleable\"><input class=\"sk-toggleable__control sk-hidden--visually\" id=\"sk-estimator-id-11\" type=\"checkbox\" ><label for=\"sk-estimator-id-11\" class=\"sk-toggleable__label sk-toggleable__label-arrow\">passthrough</label><div class=\"sk-toggleable__content\"><pre>passthrough</pre></div></div></div></div></div></div></div></div><div class=\"sk-item sk-dashed-wrapped\"><div class=\"sk-label-container\"><div class=\"sk-label sk-toggleable\"><input class=\"sk-toggleable__control sk-hidden--visually\" id=\"sk-estimator-id-12\" type=\"checkbox\" ><label for=\"sk-estimator-id-12\" class=\"sk-toggleable__label sk-toggleable__label-arrow\">ss: ColumnTransformer</label><div class=\"sk-toggleable__content\"><pre>ColumnTransformer(remainder=&#x27;passthrough&#x27;,\n",
       "                  transformers=[(&#x27;ss&#x27;, StandardScaler(), [0, 1, 2, 3])])</pre></div></div></div><div class=\"sk-parallel\"><div class=\"sk-parallel-item\"><div class=\"sk-item\"><div class=\"sk-label-container\"><div class=\"sk-label sk-toggleable\"><input class=\"sk-toggleable__control sk-hidden--visually\" id=\"sk-estimator-id-13\" type=\"checkbox\" ><label for=\"sk-estimator-id-13\" class=\"sk-toggleable__label sk-toggleable__label-arrow\">ss</label><div class=\"sk-toggleable__content\"><pre>[0, 1, 2, 3]</pre></div></div></div><div class=\"sk-serial\"><div class=\"sk-item\"><div class=\"sk-estimator sk-toggleable\"><input class=\"sk-toggleable__control sk-hidden--visually\" id=\"sk-estimator-id-14\" type=\"checkbox\" ><label for=\"sk-estimator-id-14\" class=\"sk-toggleable__label sk-toggleable__label-arrow\">StandardScaler</label><div class=\"sk-toggleable__content\"><pre>StandardScaler()</pre></div></div></div></div></div></div><div class=\"sk-parallel-item\"><div class=\"sk-item\"><div class=\"sk-label-container\"><div class=\"sk-label sk-toggleable\"><input class=\"sk-toggleable__control sk-hidden--visually\" id=\"sk-estimator-id-15\" type=\"checkbox\" ><label for=\"sk-estimator-id-15\" class=\"sk-toggleable__label sk-toggleable__label-arrow\">remainder</label><div class=\"sk-toggleable__content\"><pre></pre></div></div></div><div class=\"sk-serial\"><div class=\"sk-item\"><div class=\"sk-estimator sk-toggleable\"><input class=\"sk-toggleable__control sk-hidden--visually\" id=\"sk-estimator-id-16\" type=\"checkbox\" ><label for=\"sk-estimator-id-16\" class=\"sk-toggleable__label sk-toggleable__label-arrow\">passthrough</label><div class=\"sk-toggleable__content\"><pre>passthrough</pre></div></div></div></div></div></div></div></div><div class=\"sk-item sk-dashed-wrapped\"><div class=\"sk-label-container\"><div class=\"sk-label sk-toggleable\"><input class=\"sk-toggleable__control sk-hidden--visually\" id=\"sk-estimator-id-17\" type=\"checkbox\" ><label for=\"sk-estimator-id-17\" class=\"sk-toggleable__label sk-toggleable__label-arrow\">cat: ColumnTransformer</label><div class=\"sk-toggleable__content\"><pre>ColumnTransformer(remainder=&#x27;passthrough&#x27;,\n",
       "                  transformers=[(&#x27;oe&#x27;,\n",
       "                                 OrdinalEncoder(categories=[[&#x27;Small&#x27;, &#x27;Medium&#x27;,\n",
       "                                                             &#x27;High&#x27;],\n",
       "                                                            [&#x27;Tier 3&#x27;, &#x27;Tier 2&#x27;,\n",
       "                                                             &#x27;Tier 1&#x27;],\n",
       "                                                            [&#x27;Grocery Store&#x27;,\n",
       "                                                             &#x27;Supermarket &#x27;\n",
       "                                                             &#x27;Type3&#x27;,\n",
       "                                                             &#x27;Supermarket &#x27;\n",
       "                                                             &#x27;Type2&#x27;,\n",
       "                                                             &#x27;Supermarket &#x27;\n",
       "                                                             &#x27;Type1&#x27;]],\n",
       "                                                dtype=&#x27;object&#x27;),\n",
       "                                 [6, 7, 8]),\n",
       "                                (&#x27;ohe&#x27;,\n",
       "                                 OneHotEncoder(drop=&#x27;first&#x27;, dtype=&#x27;int8&#x27;,\n",
       "                                               sparse_output=False),\n",
       "                                 [4, 5, 9])])</pre></div></div></div><div class=\"sk-parallel\"><div class=\"sk-parallel-item\"><div class=\"sk-item\"><div class=\"sk-label-container\"><div class=\"sk-label sk-toggleable\"><input class=\"sk-toggleable__control sk-hidden--visually\" id=\"sk-estimator-id-18\" type=\"checkbox\" ><label for=\"sk-estimator-id-18\" class=\"sk-toggleable__label sk-toggleable__label-arrow\">oe</label><div class=\"sk-toggleable__content\"><pre>[6, 7, 8]</pre></div></div></div><div class=\"sk-serial\"><div class=\"sk-item\"><div class=\"sk-estimator sk-toggleable\"><input class=\"sk-toggleable__control sk-hidden--visually\" id=\"sk-estimator-id-19\" type=\"checkbox\" ><label for=\"sk-estimator-id-19\" class=\"sk-toggleable__label sk-toggleable__label-arrow\">OrdinalEncoder</label><div class=\"sk-toggleable__content\"><pre>OrdinalEncoder(categories=[[&#x27;Small&#x27;, &#x27;Medium&#x27;, &#x27;High&#x27;],\n",
       "                           [&#x27;Tier 3&#x27;, &#x27;Tier 2&#x27;, &#x27;Tier 1&#x27;],\n",
       "                           [&#x27;Grocery Store&#x27;, &#x27;Supermarket Type3&#x27;,\n",
       "                            &#x27;Supermarket Type2&#x27;, &#x27;Supermarket Type1&#x27;]],\n",
       "               dtype=&#x27;object&#x27;)</pre></div></div></div></div></div></div><div class=\"sk-parallel-item\"><div class=\"sk-item\"><div class=\"sk-label-container\"><div class=\"sk-label sk-toggleable\"><input class=\"sk-toggleable__control sk-hidden--visually\" id=\"sk-estimator-id-20\" type=\"checkbox\" ><label for=\"sk-estimator-id-20\" class=\"sk-toggleable__label sk-toggleable__label-arrow\">ohe</label><div class=\"sk-toggleable__content\"><pre>[4, 5, 9]</pre></div></div></div><div class=\"sk-serial\"><div class=\"sk-item\"><div class=\"sk-estimator sk-toggleable\"><input class=\"sk-toggleable__control sk-hidden--visually\" id=\"sk-estimator-id-21\" type=\"checkbox\" ><label for=\"sk-estimator-id-21\" class=\"sk-toggleable__label sk-toggleable__label-arrow\">OneHotEncoder</label><div class=\"sk-toggleable__content\"><pre>OneHotEncoder(drop=&#x27;first&#x27;, dtype=&#x27;int8&#x27;, sparse_output=False)</pre></div></div></div></div></div></div><div class=\"sk-parallel-item\"><div class=\"sk-item\"><div class=\"sk-label-container\"><div class=\"sk-label sk-toggleable\"><input class=\"sk-toggleable__control sk-hidden--visually\" id=\"sk-estimator-id-22\" type=\"checkbox\" ><label for=\"sk-estimator-id-22\" class=\"sk-toggleable__label sk-toggleable__label-arrow\">remainder</label><div class=\"sk-toggleable__content\"><pre></pre></div></div></div><div class=\"sk-serial\"><div class=\"sk-item\"><div class=\"sk-estimator sk-toggleable\"><input class=\"sk-toggleable__control sk-hidden--visually\" id=\"sk-estimator-id-23\" type=\"checkbox\" ><label for=\"sk-estimator-id-23\" class=\"sk-toggleable__label sk-toggleable__label-arrow\">passthrough</label><div class=\"sk-toggleable__content\"><pre>passthrough</pre></div></div></div></div></div></div></div></div><div class=\"sk-item\"><div class=\"sk-estimator sk-toggleable\"><input class=\"sk-toggleable__control sk-hidden--visually\" id=\"sk-estimator-id-24\" type=\"checkbox\" ><label for=\"sk-estimator-id-24\" class=\"sk-toggleable__label sk-toggleable__label-arrow\">SelectKBest</label><div class=\"sk-toggleable__content\"><pre>SelectKBest(k=&#x27;all&#x27;,\n",
       "            score_func=&lt;function mutual_info_regression at 0x000001C425490A60&gt;)</pre></div></div></div><div class=\"sk-item\"><div class=\"sk-estimator sk-toggleable\"><input class=\"sk-toggleable__control sk-hidden--visually\" id=\"sk-estimator-id-25\" type=\"checkbox\" ><label for=\"sk-estimator-id-25\" class=\"sk-toggleable__label sk-toggleable__label-arrow\">RandomForestRegressor</label><div class=\"sk-toggleable__content\"><pre>RandomForestRegressor(max_depth=5, max_samples=0.25, oob_score=True,\n",
       "                      random_state=46)</pre></div></div></div></div></div></div></div></div><div class=\"sk-parallel-item\"><div class=\"sk-item\"><div class=\"sk-label-container\"><div class=\"sk-label sk-toggleable\"><input class=\"sk-toggleable__control sk-hidden--visually\" id=\"sk-estimator-id-26\" type=\"checkbox\" ><label for=\"sk-estimator-id-26\" class=\"sk-toggleable__label sk-toggleable__label-arrow\">transformer: PowerTransformer</label><div class=\"sk-toggleable__content\"><pre>PowerTransformer()</pre></div></div></div><div class=\"sk-serial\"><div class=\"sk-item\"><div class=\"sk-estimator sk-toggleable\"><input class=\"sk-toggleable__control sk-hidden--visually\" id=\"sk-estimator-id-27\" type=\"checkbox\" ><label for=\"sk-estimator-id-27\" class=\"sk-toggleable__label sk-toggleable__label-arrow\">PowerTransformer</label><div class=\"sk-toggleable__content\"><pre>PowerTransformer()</pre></div></div></div></div></div></div></div></div></div></div>"
      ],
      "text/plain": [
       "TransformedTargetRegressor(regressor=Pipeline(steps=[('num',\n",
       "                                                      ColumnTransformer(remainder='passthrough',\n",
       "                                                                        transformers=[('pt_it_vis',\n",
       "                                                                                       PowerTransformer(standardize=False),\n",
       "                                                                                       [2]),\n",
       "                                                                                      ('ft_it_mrp',\n",
       "                                                                                       FunctionTransformer(func=<function ft_exp at 0x000001C41B2FCC10>),\n",
       "                                                                                       [4]),\n",
       "                                                                                      ('ft_ol_age',\n",
       "                                                                                       FunctionTransformer(func=<function ft_sqrt at 0x000001C41B2FCD30>),\n",
       "                                                                                       [9])])),\n",
       "                                                     ('ss',\n",
       "                                                      ColumnTr...\n",
       "                                                                                                                   'Type2',\n",
       "                                                                                                                   'Supermarket '\n",
       "                                                                                                                   'Type1']],\n",
       "                                                                                                      dtype='object'),\n",
       "                                                                                       [6,\n",
       "                                                                                        7,\n",
       "                                                                                        8]),\n",
       "                                                                                      ('ohe',\n",
       "                                                                                       OneHotEncoder(drop='first',\n",
       "                                                                                                     dtype='int8',\n",
       "                                                                                                     sparse_output=False),\n",
       "                                                                                       [4,\n",
       "                                                                                        5,\n",
       "                                                                                        9])])),\n",
       "                                                     ('skb',\n",
       "                                                      SelectKBest(k='all',\n",
       "                                                                  score_func=<function mutual_info_regression at 0x000001C425490A60>)),\n",
       "                                                     ('mdl',\n",
       "                                                      RandomForestRegressor(max_depth=5,\n",
       "                                                                            max_samples=0.25,\n",
       "                                                                            oob_score=True,\n",
       "                                                                            random_state=46))]),\n",
       "                           transformer=PowerTransformer())"
      ]
     },
     "execution_count": 5,
     "metadata": {},
     "output_type": "execute_result"
    }
   ],
   "source": [
    "# Pre Processors -------------------------------------------------------------------------------------------------------------\n",
    "def ft_exp(x):\n",
    "    y = x**(1/1.2)\n",
    "    return y\n",
    "\n",
    "def ft_sqrt(x):\n",
    "    y = x**(1/2)  \n",
    "    return y\n",
    "\n",
    "ft_mrp_exp = FunctionTransformer(func=ft_exp)\n",
    "ft_age_sqrt = FunctionTransformer(func=ft_sqrt)\n",
    "\n",
    "pre_proc_num = ColumnTransformer(transformers=[\n",
    "                ('pt_it_vis',PowerTransformer(method='yeo-johnson', standardize=False),[2]),\n",
    "                ('ft_it_mrp',ft_mrp_exp,[4]),\n",
    "                ('ft_ol_age',ft_age_sqrt,[9])\n",
    "                ],\n",
    "                remainder='passthrough')\n",
    "\n",
    "pre_proc_ss = ColumnTransformer(transformers=[\n",
    "                ('ss',StandardScaler(),[0,1,2,3])\n",
    "                ],\n",
    "                remainder='passthrough')\n",
    "\n",
    "pre_proc_cat = ColumnTransformer(transformers=[\n",
    "                ('oe',OrdinalEncoder(categories=[['Small','Medium','High'], ['Tier 3','Tier 2','Tier 1'], \n",
    "                        ['Grocery Store','Supermarket Type3','Supermarket Type2','Supermarket Type1']], dtype='object'),[6,7,8]),\n",
    "                ('ohe',OneHotEncoder(drop='first', sparse_output=False, dtype='int8'),[4,5,9]),\n",
    "                ],\n",
    "                remainder='passthrough')\n",
    "\n",
    "# Feature Selection -----------------------------------------------------------------------------------------------------------\n",
    "skb = SelectKBest(mutual_info_regression, k='all')\n",
    "\n",
    "mdl = RandomForestRegressor(bootstrap=True, criterion='squared_error', max_depth=5, max_samples=0.25, n_estimators=100, oob_score=True, random_state=46)\n",
    "\n",
    "# ML Pipeline -----------------------------------------------------------------------------------------------------------------\n",
    "steps = [('num',pre_proc_num),\n",
    "     ('ss',pre_proc_ss),\n",
    "     ('cat',pre_proc_cat),\n",
    "     ('skb',skb),    \n",
    "     ('mdl',mdl)]\n",
    "\n",
    "pipe_mdl = Pipeline(steps)\n",
    "#----------------------------------------------------------------------------\n",
    "\n",
    "pipe_prod = TransformedTargetRegressor(regressor=pipe_mdl, transformer=PowerTransformer(method='yeo-johnson', standardize=True))\n",
    "\n",
    "pipe_prod.fit(Xtr,ytr)"
   ]
  },
  {
   "cell_type": "markdown",
   "id": "6d28f11c-7bd3-4853-ad35-14b9ba59a9fa",
   "metadata": {
    "id": "6d28f11c-7bd3-4853-ad35-14b9ba59a9fa"
   },
   "source": [
    "### 3.2 Production Model Evaluation with cross_validate using scoring=['r2','neg_mean_squared_error','neg_root_mean_squared_error']"
   ]
  },
  {
   "cell_type": "code",
   "execution_count": 6,
   "id": "9b5be4b7-f140-40ac-a4c3-a161ec50a073",
   "metadata": {
    "colab": {
     "base_uri": "https://localhost:8080/",
     "height": 380
    },
    "id": "9b5be4b7-f140-40ac-a4c3-a161ec50a073",
    "outputId": "7d97feec-e68d-46df-db9e-bc6ce2e7cb84",
    "tags": []
   },
   "outputs": [
    {
     "name": "stdout",
     "output_type": "stream",
     "text": [
      "Cross Validation Results : ------------------------------------------------------------------------ \n",
      "\n",
      "R2 Scores : [0.56233248 0.5953046  0.59923284 0.58078315 0.6078227  0.59501358\n",
      " 0.58875914 0.58614914 0.57506597 0.59400541]\n",
      "Mean R2 Score : 0.5884469010520589, St.Dev R2 Score : 0.012401318251271762 \n",
      " --------------------------------------\n",
      " \n",
      "MSE Scores : [1231656.5025193237, 1092364.794766022, 1149837.0282353936, 1310403.3747983857, 1205989.908427719, 1188579.8626277996, 1162524.3790129009, 1214202.6180125754, 1163685.0036823617, 1223456.67963368]\n",
      "Mean MSE Score : 1194270.015171616, St.Dev MSE Score : 55322.51173225089 \n",
      " ----------------------------------\n",
      " \n",
      "RMSE Scores : [1109.800208379564, 1045.1625685825252, 1072.3045408070384, 1144.728515761875, 1098.1757183746683, 1090.2200982497982, 1078.2042380796418, 1101.9086250740465, 1078.7423249703154, 1106.099760253875]\n",
      "Mean RMSE Score : 1092.534659853335, St.Dev RMSE Score : 25.25929909506814\n"
     ]
    }
   ],
   "source": [
    "print('Cross Validation Results : ------------------------------------------------------------------------ \\n')\n",
    "\n",
    "kfold = KFold(n_splits=10, shuffle=True, random_state=46)\n",
    "scoring = ['r2','neg_mean_squared_error','neg_root_mean_squared_error']\n",
    "cv_scores = cross_validate(pipe_prod, Xtr, ytr, cv=kfold, scoring=scoring)\n",
    "\n",
    "r2_scores = cv_scores['test_r2']\n",
    "print(f'R2 Scores : {r2_scores}')\n",
    "print(f'Mean R2 Score : {np.mean(r2_scores)}, St.Dev R2 Score : {np.std(r2_scores)} \\n --------------------------------------\\n ')\n",
    "\n",
    "mse_scores = cv_scores['test_neg_mean_squared_error']\n",
    "mse_scores = [-1*score for score in mse_scores]\n",
    "print(f'MSE Scores : {mse_scores}')\n",
    "print(f'Mean MSE Score : {np.mean(mse_scores)}, St.Dev MSE Score : {np.std(mse_scores)} \\n ----------------------------------\\n ')\n",
    "\n",
    "rmse_scores = cv_scores['test_neg_root_mean_squared_error']\n",
    "rmse_scores = [-1*score for score in rmse_scores]\n",
    "print(f'RMSE Scores : {rmse_scores}')\n",
    "print(f'Mean RMSE Score : {np.mean(rmse_scores)}, St.Dev RMSE Score : {np.std(rmse_scores)}')"
   ]
  },
  {
   "cell_type": "markdown",
   "id": "cd4fad69-8542-4bc4-aa44-7fc5a3dae385",
   "metadata": {
    "id": "cd4fad69-8542-4bc4-aa44-7fc5a3dae385"
   },
   "source": [
    "## 4. Model Save/Export"
   ]
  },
  {
   "cell_type": "code",
   "execution_count": 7,
   "id": "4cb5df2f-3141-4242-b163-5668530466f0",
   "metadata": {
    "colab": {
     "base_uri": "https://localhost:8080/"
    },
    "id": "4cb5df2f-3141-4242-b163-5668530466f0",
    "outputId": "db951bfe-1d6e-4de6-d736-cdd288612eff",
    "tags": []
   },
   "outputs": [
    {
     "name": "stdout",
     "output_type": "stream",
     "text": [
      "Model Object Saved Successfully \n",
      "\n",
      "\"X\" Features Saved Successfully\n"
     ]
    }
   ],
   "source": [
    "dump(pipe_prod, open('bms_mdl_prod.pkl','wb'))\n",
    "print('Model Object Saved Successfully \\n')\n",
    "\n",
    "dump(Xtr, open('bms_X_prod.pkl','wb'))\n",
    "print('\"X\" Features Saved Successfully')"
   ]
  },
  {
   "cell_type": "markdown",
   "id": "f78a708a-1710-485f-ba1e-2bb5a0c14b9e",
   "metadata": {
    "id": "f78a708a-1710-485f-ba1e-2bb5a0c14b9e"
   },
   "source": [
    "## 5. Simple Prediction System"
   ]
  },
  {
   "cell_type": "markdown",
   "id": "2d107360-fe14-4cd9-8f15-99f833ece0e3",
   "metadata": {},
   "source": [
    "### 5.1 Load Production Model"
   ]
  },
  {
   "cell_type": "code",
   "execution_count": 8,
   "id": "23557b0c-388f-47f8-bafc-a0dc68602c96",
   "metadata": {
    "tags": []
   },
   "outputs": [],
   "source": [
    "prod_pipe = load(open('bms_mdl_prod.pkl','rb'))"
   ]
  },
  {
   "cell_type": "markdown",
   "id": "5b89d169-bf97-45bf-a333-50e5dad89dda",
   "metadata": {},
   "source": [
    "### 5.2 Test Dataset"
   ]
  },
  {
   "cell_type": "markdown",
   "id": "cfd13b56-c582-4693-b81d-fc9749055f68",
   "metadata": {},
   "source": [
    "#### 5.2.1 Importing Dataset"
   ]
  },
  {
   "cell_type": "code",
   "execution_count": 9,
   "id": "eb5c3e9f-b047-46d2-a1ac-20ec8b5981c7",
   "metadata": {
    "tags": []
   },
   "outputs": [
    {
     "name": "stdout",
     "output_type": "stream",
     "text": [
      "Shape of the test dataset : (100, 11)\n"
     ]
    }
   ],
   "source": [
    "te = pd.read_pickle('bms_FE_test_final.pkl')\n",
    "\n",
    "print(f'Shape of the test dataset : {te.shape}')\n",
    "te.head(5)\n",
    "\n",
    "Xte = te.drop(columns='Item_Outlet_Sales')\n",
    "yte = te['Item_Outlet_Sales']"
   ]
  },
  {
   "cell_type": "markdown",
   "id": "fadd2a48-e6b8-44ab-8a52-6e7a178190c8",
   "metadata": {
    "id": "3OePbrwKCw_G"
   },
   "source": [
    "#### 5.2.2 Overall Result on Test Data"
   ]
  },
  {
   "cell_type": "code",
   "execution_count": 10,
   "id": "g0_HhvnaEvIi",
   "metadata": {
    "id": "g0_HhvnaEvIi",
    "tags": []
   },
   "outputs": [
    {
     "name": "stdout",
     "output_type": "stream",
     "text": [
      "R2 Score on Test Data : 0.5693 \n",
      "\n",
      "Test Dataset RMSE     : 1231.6046\n"
     ]
    }
   ],
   "source": [
    "yte_pred = prod_pipe.predict(Xte)\n",
    "\n",
    "print(f'R2 Score on Test Data : {round(r2_score(yte, yte_pred),4)} \\n')\n",
    "print(f'Test Dataset RMSE     : {round(sqrt(mean_squared_error(yte, yte_pred)),4)}')"
   ]
  },
  {
   "cell_type": "markdown",
   "id": "f7b410f6-a974-4ba7-8e80-354c0bbc3b2a",
   "metadata": {},
   "source": [
    "#### 5.2.3 Predictions on Test Samples"
   ]
  },
  {
   "cell_type": "code",
   "execution_count": 11,
   "id": "fcf362c4-2abd-4dd7-80f7-7e24054b6f0d",
   "metadata": {},
   "outputs": [
    {
     "data": {
      "text/html": [
       "<div>\n",
       "<style scoped>\n",
       "    .dataframe tbody tr th:only-of-type {\n",
       "        vertical-align: middle;\n",
       "    }\n",
       "\n",
       "    .dataframe tbody tr th {\n",
       "        vertical-align: top;\n",
       "    }\n",
       "\n",
       "    .dataframe thead th {\n",
       "        text-align: right;\n",
       "    }\n",
       "</style>\n",
       "<table border=\"1\" class=\"dataframe\">\n",
       "  <thead>\n",
       "    <tr style=\"text-align: right;\">\n",
       "      <th></th>\n",
       "      <th>Item_Weight</th>\n",
       "      <th>Item_Fat_Content</th>\n",
       "      <th>Item_Visibility</th>\n",
       "      <th>Item_Type</th>\n",
       "      <th>Item_MRP</th>\n",
       "      <th>Outlet_Size</th>\n",
       "      <th>Outlet_Location_Type</th>\n",
       "      <th>Outlet_Type</th>\n",
       "      <th>Item_Category</th>\n",
       "      <th>Outlet_Age</th>\n",
       "      <th>Item_Outlet_Sales</th>\n",
       "    </tr>\n",
       "  </thead>\n",
       "  <tbody>\n",
       "    <tr>\n",
       "      <th>5100</th>\n",
       "      <td>8.970</td>\n",
       "      <td>Non Edible</td>\n",
       "      <td>0.0932</td>\n",
       "      <td>Household</td>\n",
       "      <td>55.7956</td>\n",
       "      <td>Medium</td>\n",
       "      <td>Tier 1</td>\n",
       "      <td>Supermarket Type1</td>\n",
       "      <td>Non Consumables</td>\n",
       "      <td>14</td>\n",
       "      <td>1037.3164</td>\n",
       "    </tr>\n",
       "    <tr>\n",
       "      <th>1849</th>\n",
       "      <td>20.200</td>\n",
       "      <td>Non Edible</td>\n",
       "      <td>0.1123</td>\n",
       "      <td>Household</td>\n",
       "      <td>123.6046</td>\n",
       "      <td>Small</td>\n",
       "      <td>Tier 1</td>\n",
       "      <td>Supermarket Type1</td>\n",
       "      <td>Non Consumables</td>\n",
       "      <td>16</td>\n",
       "      <td>2988.1104</td>\n",
       "    </tr>\n",
       "    <tr>\n",
       "      <th>3806</th>\n",
       "      <td>17.500</td>\n",
       "      <td>Regular</td>\n",
       "      <td>0.0076</td>\n",
       "      <td>Dairy Foods</td>\n",
       "      <td>145.8102</td>\n",
       "      <td>Medium</td>\n",
       "      <td>Tier 1</td>\n",
       "      <td>Supermarket Type1</td>\n",
       "      <td>Foods</td>\n",
       "      <td>14</td>\n",
       "      <td>1895.5326</td>\n",
       "    </tr>\n",
       "    <tr>\n",
       "      <th>7969</th>\n",
       "      <td>11.650</td>\n",
       "      <td>Low Fat</td>\n",
       "      <td>0.0324</td>\n",
       "      <td>Hard Drinks</td>\n",
       "      <td>38.8164</td>\n",
       "      <td>Small</td>\n",
       "      <td>Tier 3</td>\n",
       "      <td>Grocery Store</td>\n",
       "      <td>Drinks</td>\n",
       "      <td>15</td>\n",
       "      <td>77.2328</td>\n",
       "    </tr>\n",
       "    <tr>\n",
       "      <th>1345</th>\n",
       "      <td>11.650</td>\n",
       "      <td>Regular</td>\n",
       "      <td>0.0587</td>\n",
       "      <td>Baking Goods</td>\n",
       "      <td>171.1422</td>\n",
       "      <td>Small</td>\n",
       "      <td>Tier 2</td>\n",
       "      <td>Supermarket Type1</td>\n",
       "      <td>Foods</td>\n",
       "      <td>9</td>\n",
       "      <td>2931.5174</td>\n",
       "    </tr>\n",
       "    <tr>\n",
       "      <th>1314</th>\n",
       "      <td>17.350</td>\n",
       "      <td>Low Fat</td>\n",
       "      <td>0.0147</td>\n",
       "      <td>Frozen Foods</td>\n",
       "      <td>74.5038</td>\n",
       "      <td>Small</td>\n",
       "      <td>Tier 2</td>\n",
       "      <td>Supermarket Type1</td>\n",
       "      <td>Foods</td>\n",
       "      <td>9</td>\n",
       "      <td>739.0380</td>\n",
       "    </tr>\n",
       "    <tr>\n",
       "      <th>257</th>\n",
       "      <td>8.645</td>\n",
       "      <td>Non Edible</td>\n",
       "      <td>0.1433</td>\n",
       "      <td>Health and Hygiene</td>\n",
       "      <td>96.3410</td>\n",
       "      <td>High</td>\n",
       "      <td>Tier 3</td>\n",
       "      <td>Supermarket Type1</td>\n",
       "      <td>Non Consumables</td>\n",
       "      <td>26</td>\n",
       "      <td>193.0820</td>\n",
       "    </tr>\n",
       "    <tr>\n",
       "      <th>2804</th>\n",
       "      <td>6.570</td>\n",
       "      <td>Non Edible</td>\n",
       "      <td>0.0969</td>\n",
       "      <td>Household</td>\n",
       "      <td>193.9820</td>\n",
       "      <td>Small</td>\n",
       "      <td>Tier 2</td>\n",
       "      <td>Supermarket Type1</td>\n",
       "      <td>Non Consumables</td>\n",
       "      <td>9</td>\n",
       "      <td>2316.9840</td>\n",
       "    </tr>\n",
       "    <tr>\n",
       "      <th>2216</th>\n",
       "      <td>9.895</td>\n",
       "      <td>Regular</td>\n",
       "      <td>0.0488</td>\n",
       "      <td>Frozen Foods</td>\n",
       "      <td>260.5278</td>\n",
       "      <td>Small</td>\n",
       "      <td>Tier 2</td>\n",
       "      <td>Supermarket Type1</td>\n",
       "      <td>Foods</td>\n",
       "      <td>11</td>\n",
       "      <td>8851.1452</td>\n",
       "    </tr>\n",
       "    <tr>\n",
       "      <th>4772</th>\n",
       "      <td>19.500</td>\n",
       "      <td>Regular</td>\n",
       "      <td>0.0768</td>\n",
       "      <td>Soft Drinks</td>\n",
       "      <td>231.8958</td>\n",
       "      <td>Medium</td>\n",
       "      <td>Tier 3</td>\n",
       "      <td>Supermarket Type3</td>\n",
       "      <td>Drinks</td>\n",
       "      <td>28</td>\n",
       "      <td>8413.0488</td>\n",
       "    </tr>\n",
       "  </tbody>\n",
       "</table>\n",
       "</div>"
      ],
      "text/plain": [
       "      Item_Weight Item_Fat_Content  Item_Visibility           Item_Type  \\\n",
       "5100        8.970       Non Edible           0.0932           Household   \n",
       "1849       20.200       Non Edible           0.1123           Household   \n",
       "3806       17.500          Regular           0.0076         Dairy Foods   \n",
       "7969       11.650          Low Fat           0.0324         Hard Drinks   \n",
       "1345       11.650          Regular           0.0587        Baking Goods   \n",
       "1314       17.350          Low Fat           0.0147        Frozen Foods   \n",
       "257         8.645       Non Edible           0.1433  Health and Hygiene   \n",
       "2804        6.570       Non Edible           0.0969           Household   \n",
       "2216        9.895          Regular           0.0488        Frozen Foods   \n",
       "4772       19.500          Regular           0.0768         Soft Drinks   \n",
       "\n",
       "      Item_MRP Outlet_Size Outlet_Location_Type        Outlet_Type  \\\n",
       "5100   55.7956      Medium               Tier 1  Supermarket Type1   \n",
       "1849  123.6046       Small               Tier 1  Supermarket Type1   \n",
       "3806  145.8102      Medium               Tier 1  Supermarket Type1   \n",
       "7969   38.8164       Small               Tier 3      Grocery Store   \n",
       "1345  171.1422       Small               Tier 2  Supermarket Type1   \n",
       "1314   74.5038       Small               Tier 2  Supermarket Type1   \n",
       "257    96.3410        High               Tier 3  Supermarket Type1   \n",
       "2804  193.9820       Small               Tier 2  Supermarket Type1   \n",
       "2216  260.5278       Small               Tier 2  Supermarket Type1   \n",
       "4772  231.8958      Medium               Tier 3  Supermarket Type3   \n",
       "\n",
       "        Item_Category  Outlet_Age  Item_Outlet_Sales  \n",
       "5100  Non Consumables          14          1037.3164  \n",
       "1849  Non Consumables          16          2988.1104  \n",
       "3806            Foods          14          1895.5326  \n",
       "7969           Drinks          15            77.2328  \n",
       "1345            Foods           9          2931.5174  \n",
       "1314            Foods           9           739.0380  \n",
       "257   Non Consumables          26           193.0820  \n",
       "2804  Non Consumables           9          2316.9840  \n",
       "2216            Foods          11          8851.1452  \n",
       "4772           Drinks          28          8413.0488  "
      ]
     },
     "execution_count": 11,
     "metadata": {},
     "output_type": "execute_result"
    }
   ],
   "source": [
    "samp = Xte.sample(10).index.values.tolist()\n",
    "samp\n",
    "\n",
    "te_df = pd.concat([Xte.loc[samp],yte.loc[samp]],axis=1)\n",
    "te_df.head(10)"
   ]
  },
  {
   "cell_type": "code",
   "execution_count": 16,
   "id": "7645b534-f730-49ef-9fc9-0f1a77ae62fd",
   "metadata": {
    "colab": {
     "base_uri": "https://localhost:8080/"
    },
    "id": "8c897186-8299-42fd-bc08-461b05245886",
    "outputId": "4244f6d6-58cf-48ce-cfa9-188e47a381ae",
    "tags": []
   },
   "outputs": [
    {
     "name": "stdout",
     "output_type": "stream",
     "text": [
      "Test Data with Index : 1345 is Selected for Prediction: \n",
      "\n",
      "\"Item_Weight\" ---:--- 11.65\n",
      "\"Item_Fat_Content\" ---:--- Regular\n",
      "\"Item_Visibility\" ---:--- 0.058719726\n",
      "\"Item_Type\" ---:--- Baking Goods\n",
      "\"Item_MRP\" ---:--- 171.1422\n",
      "\"Outlet_Size\" ---:--- Small\n",
      "\"Outlet_Location_Type\" ---:--- Tier 2\n",
      "\"Outlet_Type\" ---:--- Supermarket Type1\n",
      "\"Item_Category\" ---:--- Foods\n",
      "\"Outlet_Age\" ---:--- 9\n"
     ]
    }
   ],
   "source": [
    "#inp_data = (13.7,0.415,0.68,2.9,0.085,17.0,43.0,1.0014,3.06,0.80,10.0)\n",
    "#inp_data = np.array(inp_data).reshape(1,-1)\n",
    "\n",
    "idx = te_df.sample().index.values\n",
    "inp_data = Xte.loc[idx].values\n",
    "\n",
    "print(f'Test Data with Index : {idx[0]} is Selected for Prediction: \\n')\n",
    "\n",
    "for fea_name, fea_val in zip(Xte.columns.tolist(), inp_data[0]):\n",
    "    print(f'\"{fea_name}\" ---:--- {fea_val}')"
   ]
  },
  {
   "cell_type": "code",
   "execution_count": 17,
   "id": "b5edd2c2-08fd-488d-82d4-8e1c0b21b298",
   "metadata": {
    "colab": {
     "base_uri": "https://localhost:8080/"
    },
    "id": "f36b7136-0f28-4dde-a4a2-759610dd0b33",
    "outputId": "d802e49a-8899-40ab-8466-9c1fb8daae7c",
    "tags": []
   },
   "outputs": [
    {
     "name": "stdout",
     "output_type": "stream",
     "text": [
      "------------- Prediction for Test Data with Index : 1345 --------------------\n",
      "\n",
      "Actual Sales for the Selected Data    : 2931.5174 \n",
      "\n",
      "Predicted Sales for the Selected Data : 2605.9936995638677\n"
     ]
    }
   ],
   "source": [
    "print(f'------------- Prediction for Test Data with Index : {idx[0]} --------------------\\n')\n",
    "\n",
    "print(f'Actual Sales for the Selected Data    : {yte[idx[0]]} \\n')\n",
    "\n",
    "pred = prod_pipe.predict(inp_data)\n",
    "\n",
    "print(f'Predicted Sales for the Selected Data : {pred[0]}')"
   ]
  },
  {
   "cell_type": "code",
   "execution_count": null,
   "id": "2f1e13fe-b35a-469c-b9d6-02aae0e82c2f",
   "metadata": {},
   "outputs": [],
   "source": []
  }
 ],
 "metadata": {
  "colab": {
   "provenance": []
  },
  "kernelspec": {
   "display_name": "Python 3 (ipykernel)",
   "language": "python",
   "name": "python3"
  },
  "language_info": {
   "codemirror_mode": {
    "name": "ipython",
    "version": 3
   },
   "file_extension": ".py",
   "mimetype": "text/x-python",
   "name": "python",
   "nbconvert_exporter": "python",
   "pygments_lexer": "ipython3",
   "version": "3.10.10"
  }
 },
 "nbformat": 4,
 "nbformat_minor": 5
}
