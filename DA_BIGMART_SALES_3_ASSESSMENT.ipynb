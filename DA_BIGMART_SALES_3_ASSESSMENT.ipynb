{
 "cells": [
  {
   "cell_type": "markdown",
   "id": "38a4ff0d-93a7-4d10-8806-11e6eae345c2",
   "metadata": {
    "toc-hr-collapsed": true
   },
   "source": [
    "# DATA ASSESSMENT PROCESS and PRE-PROCESSING - {\"BIGMART SALES\" DATASET}"
   ]
  },
  {
   "cell_type": "markdown",
   "id": "2e3dfa24-0c75-41ac-8134-3bce0a334e74",
   "metadata": {
    "toc-hr-collapsed": true
   },
   "source": [
    "# A. DATA ASSESSMENT PROCESS"
   ]
  },
  {
   "cell_type": "markdown",
   "id": "82343473-5776-4b87-bda0-41feec2bc55e",
   "metadata": {
    "tags": [],
    "toc-hr-collapsed": true
   },
   "source": [
    "## 1. DATASET SUMMARY\n",
    "### - It is a 'Big Mart Sales' dataset that provides the information about various features to predict the sales of products at different stores.\n",
    "### - Train dataset has 8523 observations and 12 features.\n",
    "### - Test dataset has 5681 observations and 11 features.\n",
    "\n",
    "### - Total 'float' type features are 4, 'integer' type features are 1, and 'object' type features are 7.\n",
    "#### - float type : 'Item_Weight', 'Item_Visibility', 'Item_MRP', 'Item_Outlet_Sales'.\n",
    "#### - int type : 'Outlet_Establishment_Year'.\n",
    "#### - object type : 'Item_Identifier', 'Item_Fat_Content', 'Item_Type', 'Outlet_Identifier', 'Outlet_Size', 'Outlet_Location_Type', 'Outlet_Type'.\n",
    "\n",
    "### - For machine learning applications 'Item_Outlet_Sales' feature is the target variable (dependent) and the other 11 features are input (independent)."
   ]
  },
  {
   "cell_type": "markdown",
   "id": "0c8e63b0-f812-4c2a-be88-10fb2f033eb2",
   "metadata": {
    "tags": [],
    "toc-hr-collapsed": true
   },
   "source": [
    "## 2. FEATURE DESCRIPTIONS\n",
    "### Table - 'bms_train' using 'bms_train.csv'\n",
    "### - 'Item_Identifier' feature {object type, independent feature} - ***Unique identifier number assigned to each item.***\n",
    "### - 'Item_Weight' feature {float type, independent feature} - ***Item weight in gms.***\n",
    "### - 'Item_Fat_Content' feature {object type, independent feature} - ***Item fat content.***\n",
    "### - 'Item_Visibility' feature {float type, independent feature} - ***Percentage of total display area of all items in a store allocated to the particular items. Placement value of each item: (0 - 'Far & Behind') and (1 - 'Near & Front')***\n",
    "### - 'Item_Type' feature {object type, independent feature} - ***Type of food category item belongs to.***\n",
    "### - 'Item_MRP' feature {float type, independent feature} - ***Max. Retail Price of the item in the outlet.***\n",
    "### - 'Outlet_Identifier' feature {object type, independent feature} - ***Unique outlet identifier.***\n",
    "### - 'Outlet_Establishment_Year' feature {int type, independent feature} - ***Year of outlet establishment.***\n",
    "### - 'Outlet_Size' feature {object type, independent feature} - ***Size of the outlet.***\n",
    "### - 'Outlet_Location_Type' feature {object type, independent feature} - ***Tier of city in which outlet is located.***\n",
    "### - 'Outlet_Type' feature {object type, independent feature} - ***Type of outlet.***\n",
    "### - 'Item_Outlet_Sales' feature {float type, dependent feature} - ***Sales of the item from the outlet.***\n",
    "#### -- This feature is the target variable for Machine Learning Based Regression Type Problems."
   ]
  },
  {
   "cell_type": "markdown",
   "id": "2e6fa2f9-fdb4-419a-b60b-fef2347fa183",
   "metadata": {
    "toc-hr-collapsed": true
   },
   "source": [
    "## 3. DATA ISSUES\n",
    "### Table - bms_train\n",
    "#### 1. * Dirty Data (Low quality)\n",
    "##### A. Completeness\n",
    "##### - Missing Values: Item_Weight=1463, Outlet_Size=2410\n",
    "##### B. Validity\n",
    "##### - No duplicate observations\n",
    "##### C. Accuracy\n",
    "##### - No inaccuracy issue\n",
    "##### D. Consistency\n",
    "##### - \"Item_Fat_Content\" feature values to be marked as 'Non Edible' where the context is 'Non Consumables'.\n",
    "##### - \"Item_Fat_Content\" feature values 'LF','low fat' must be mapped to 'Low Fat' and 'reg' must be mapped to 'Regular'.\n",
    "##### - \"Item_Type\" feature values to be marked as 'DR_Dairy' and 'FD_Dairy', where the context is 'Drinks' and 'Foods' respectively.\n",
    "\n",
    "#### 2. * Messy Data (Untidy / Structural)\n",
    "##### - No messy data issue"
   ]
  },
  {
   "cell_type": "markdown",
   "id": "b7b20375-f267-4c85-9709-8df1799b58a7",
   "metadata": {
    "tags": [],
    "toc-hr-collapsed": true
   },
   "source": [
    "# B. PRE-PROCESSING / DATA CLEANING"
   ]
  },
  {
   "cell_type": "markdown",
   "id": "a3cee655-ac1b-48ad-9e98-03c2988aaf12",
   "metadata": {},
   "source": [
    "## 1. Pre-Processing Level - I.\n",
    "\n",
    "### - Nothing to pre-process\n",
    "### - Splitting the dataframe into Train, Validation, and Test datasets using 'bms_train.csv', ***successful***.\n",
    "\n",
    "### - Saving the split data into CSV and PKL files, ***successful***.\n",
    "#### . Train ('bms_train_init.csv','bms_train_init.pkl')\n",
    "#### . Validation ('bms_valid_init.csv','bms_valid_init.pkl')\n",
    "#### . Test ('bms_test_init.csv','bms_test_init.pkl')"
   ]
  },
  {
   "cell_type": "markdown",
   "id": "2c516c8d-7826-4705-89a4-7468b0147f16",
   "metadata": {
    "toc-hr-collapsed": true
   },
   "source": [
    "## 2. Pre-Processing Level - II. (Train, Validation, and Test datasets)\n",
    "\n",
    "### - Creating a high level item category as 'Item_Category' using 'Item_Identifier' feature by selecting first two letters of the feature values. (FD, DR, NC) ---> (Foods, Drinks, Non Consumables), ***successful***.\n",
    "### - Imputing missing values for the Features, ***successful***.\n",
    "#### -- 'Item_Weight': using mapping of 'Item_Identifier' and 'Item_Weight' wherever available.\n",
    "##### --- if new item, then using the median value wieght of 'Item_Category' (derived feature).\n",
    "#### -- 'Outlet_Size': calculating mode value using 'Outlet_Type' \n",
    "### - Marking the 'Item_Fat_Content' value as 'Non Edible', where 'Item_Category' is 'Non Consumables', ***successful***. \n",
    "### - Remapping the feature values of \"Item_Fat_Content\" ('LF','low fat') to 'Low Fat', 'reg' to 'Regular', ***successful***.\n",
    "### - Marking the 'Item_Type' as 'Dairy Drinks' and 'Dairy Drinks' where the 'Item_Category' is 'Drinks' and 'Foods' respectively, ***successful***.\n",
    "### - Creating new feature 'Outlet_Age' from 'Outlet_Establishment_Year' by expression = 2013-year, ***successful***.\n",
    "### - Correcting 'Item_Visibility' if 0, replace with mean, ***successful***.\n",
    "\n",
    "### - Saving the pre-processed data into CSV and PKL files, ***successful***.\n",
    "#### . Train ('bms_train_pp.csv','bms_train_pp.pkl')\n",
    "#### . Validation ('bms_valid_pp.csv','bms_valid_pp.pkl')\n",
    "#### . Test ('bms_test_pp.csv','bms_test_pp.pkl')"
   ]
  },
  {
   "cell_type": "code",
   "execution_count": null,
   "id": "6279c5ab-c31e-4fdb-8374-283a38898d43",
   "metadata": {},
   "outputs": [],
   "source": []
  }
 ],
 "metadata": {
  "kernelspec": {
   "display_name": "Python 3 (ipykernel)",
   "language": "python",
   "name": "python3"
  },
  "language_info": {
   "codemirror_mode": {
    "name": "ipython",
    "version": 3
   },
   "file_extension": ".py",
   "mimetype": "text/x-python",
   "name": "python",
   "nbconvert_exporter": "python",
   "pygments_lexer": "ipython3",
   "version": "3.10.10"
  }
 },
 "nbformat": 4,
 "nbformat_minor": 5
}
