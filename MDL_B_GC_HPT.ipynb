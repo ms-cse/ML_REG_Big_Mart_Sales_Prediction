{
 "cells": [
  {
   "cell_type": "markdown",
   "id": "f6079c98-4e48-499e-894f-c50109507c87",
   "metadata": {
    "id": "f6079c98-4e48-499e-894f-c50109507c87"
   },
   "source": [
    "# ML REGRESSION - {\"BIGMART SALES\" DATASET}"
   ]
  },
  {
   "cell_type": "markdown",
   "id": "a6709c06-804a-47d1-b0df-5aee8b18f5a3",
   "metadata": {
    "id": "a6709c06-804a-47d1-b0df-5aee8b18f5a3"
   },
   "source": [
    "## 1. Importing Modules and Setting Configurations"
   ]
  },
  {
   "cell_type": "code",
   "execution_count": 10,
   "id": "336c72d1-bdb5-480e-bdbe-13a54707221f",
   "metadata": {
    "id": "336c72d1-bdb5-480e-bdbe-13a54707221f",
    "tags": []
   },
   "outputs": [],
   "source": [
    "import numpy as np\n",
    "import pandas as pd\n",
    "\n",
    "import matplotlib.pyplot as plt\n",
    "import seaborn as sb\n",
    "\n",
    "from pickle import dump, load\n",
    "\n",
    "\n",
    "from sklearn.compose import ColumnTransformer\n",
    "\n",
    "from sklearn.preprocessing import PowerTransformer, FunctionTransformer\n",
    "from sklearn.preprocessing import StandardScaler\n",
    "\n",
    "from sklearn.preprocessing import OrdinalEncoder\n",
    "from sklearn.preprocessing import OneHotEncoder\n",
    "\n",
    "from sklearn.feature_selection import SelectKBest, mutual_info_regression\n",
    "\n",
    "from sklearn.linear_model import LinearRegression, Lasso, Ridge\n",
    "from sklearn.neighbors import KNeighborsRegressor\n",
    "from sklearn.svm import SVR\n",
    "from sklearn.tree import DecisionTreeRegressor\n",
    "from sklearn.ensemble import BaggingRegressor\n",
    "from sklearn.ensemble import RandomForestRegressor\n",
    "from sklearn.ensemble import GradientBoostingRegressor\n",
    "from sklearn.ensemble import HistGradientBoostingRegressor\n",
    "from xgboost import XGBRegressor\n",
    "\n",
    "from xgboost import XGBClassifier\n",
    "\n",
    "from sklearn.pipeline import Pipeline\n",
    "\n",
    "from sklearn.metrics import r2_score\n",
    "\n",
    "from sklearn.model_selection import KFold, cross_val_score, cross_validate\n",
    "\n",
    "from sklearn.model_selection import GridSearchCV\n",
    "\n",
    "from sklearn.metrics import r2_score\n",
    "\n",
    "\n",
    "import warnings\n",
    "warnings.filterwarnings('ignore')\n",
    "\n",
    "from sklearn import set_config\n",
    "set_config(display='diagram')"
   ]
  },
  {
   "cell_type": "code",
   "execution_count": 11,
   "id": "b112b0e4-d8d7-439d-8a6c-b57e853f3a7e",
   "metadata": {
    "id": "b112b0e4-d8d7-439d-8a6c-b57e853f3a7e",
    "tags": []
   },
   "outputs": [],
   "source": [
    "# PD Options\n",
    "\n",
    "pd.set_option('display.min_rows', 5)\n",
    "pd.set_option('display.max_rows', 25)\n",
    "pd.set_option('display.precision', 4)\n",
    "\n",
    "# SB Options\n",
    "\n",
    "sb.set_theme(context='notebook', style='whitegrid', palette='pastel', font='times new roman', font_scale=1.25)"
   ]
  },
  {
   "cell_type": "markdown",
   "id": "5b60c742-f76a-4463-aff4-81be0075736f",
   "metadata": {
    "id": "5b60c742-f76a-4463-aff4-81be0075736f"
   },
   "source": [
    "## 2. Importing Train Dataset"
   ]
  },
  {
   "cell_type": "code",
   "execution_count": 12,
   "id": "9b662dfd-16ea-436c-b008-a31ae221d1a4",
   "metadata": {
    "colab": {
     "base_uri": "https://localhost:8080/",
     "height": 330
    },
    "id": "9b662dfd-16ea-436c-b008-a31ae221d1a4",
    "outputId": "f2a1e696-8cc3-414e-8aee-f59d381482ac",
    "tags": []
   },
   "outputs": [
    {
     "name": "stdout",
     "output_type": "stream",
     "text": [
      "Shape of the train dataset : (8323, 11)\n"
     ]
    },
    {
     "data": {
      "text/html": [
       "\n",
       "  <div id=\"df-bb4b459c-92be-4738-a2f9-53eaf0b3cf4c\" class=\"colab-df-container\">\n",
       "    <div>\n",
       "<style scoped>\n",
       "    .dataframe tbody tr th:only-of-type {\n",
       "        vertical-align: middle;\n",
       "    }\n",
       "\n",
       "    .dataframe tbody tr th {\n",
       "        vertical-align: top;\n",
       "    }\n",
       "\n",
       "    .dataframe thead th {\n",
       "        text-align: right;\n",
       "    }\n",
       "</style>\n",
       "<table border=\"1\" class=\"dataframe\">\n",
       "  <thead>\n",
       "    <tr style=\"text-align: right;\">\n",
       "      <th></th>\n",
       "      <th>Item_Weight</th>\n",
       "      <th>Item_Fat_Content</th>\n",
       "      <th>Item_Visibility</th>\n",
       "      <th>Item_Type</th>\n",
       "      <th>Item_MRP</th>\n",
       "      <th>Outlet_Size</th>\n",
       "      <th>Outlet_Location_Type</th>\n",
       "      <th>Outlet_Type</th>\n",
       "      <th>Item_Category</th>\n",
       "      <th>Outlet_Age</th>\n",
       "      <th>Item_Outlet_Sales</th>\n",
       "    </tr>\n",
       "  </thead>\n",
       "  <tbody>\n",
       "    <tr>\n",
       "      <th>2171</th>\n",
       "      <td>13.65</td>\n",
       "      <td>Regular</td>\n",
       "      <td>0.0808</td>\n",
       "      <td>Frozen Foods</td>\n",
       "      <td>262.8936</td>\n",
       "      <td>Medium</td>\n",
       "      <td>Tier 1</td>\n",
       "      <td>Supermarket Type1</td>\n",
       "      <td>Foods</td>\n",
       "      <td>14.0</td>\n",
       "      <td>4958.8784</td>\n",
       "    </tr>\n",
       "    <tr>\n",
       "      <th>5657</th>\n",
       "      <td>6.98</td>\n",
       "      <td>Low Fat</td>\n",
       "      <td>0.0412</td>\n",
       "      <td>Canned</td>\n",
       "      <td>82.8934</td>\n",
       "      <td>Small</td>\n",
       "      <td>Tier 2</td>\n",
       "      <td>Supermarket Type1</td>\n",
       "      <td>Foods</td>\n",
       "      <td>11.0</td>\n",
       "      <td>818.9340</td>\n",
       "    </tr>\n",
       "    <tr>\n",
       "      <th>2156</th>\n",
       "      <td>20.10</td>\n",
       "      <td>Low Fat</td>\n",
       "      <td>0.0746</td>\n",
       "      <td>Dairy Foods</td>\n",
       "      <td>110.3228</td>\n",
       "      <td>Small</td>\n",
       "      <td>Tier 1</td>\n",
       "      <td>Supermarket Type1</td>\n",
       "      <td>Foods</td>\n",
       "      <td>16.0</td>\n",
       "      <td>1768.3648</td>\n",
       "    </tr>\n",
       "    <tr>\n",
       "      <th>110</th>\n",
       "      <td>13.30</td>\n",
       "      <td>Low Fat</td>\n",
       "      <td>0.0798</td>\n",
       "      <td>Dairy Foods</td>\n",
       "      <td>232.5300</td>\n",
       "      <td>Small</td>\n",
       "      <td>Tier 1</td>\n",
       "      <td>Supermarket Type1</td>\n",
       "      <td>Foods</td>\n",
       "      <td>16.0</td>\n",
       "      <td>699.0900</td>\n",
       "    </tr>\n",
       "    <tr>\n",
       "      <th>6709</th>\n",
       "      <td>10.10</td>\n",
       "      <td>Non Edible</td>\n",
       "      <td>0.0301</td>\n",
       "      <td>Health and Hygiene</td>\n",
       "      <td>154.3656</td>\n",
       "      <td>Medium</td>\n",
       "      <td>Tier 3</td>\n",
       "      <td>Supermarket Type3</td>\n",
       "      <td>Non Consumables</td>\n",
       "      <td>28.0</td>\n",
       "      <td>2471.4496</td>\n",
       "    </tr>\n",
       "  </tbody>\n",
       "</table>\n",
       "</div>\n",
       "    <div class=\"colab-df-buttons\">\n",
       "\n",
       "  <div class=\"colab-df-container\">\n",
       "    <button class=\"colab-df-convert\" onclick=\"convertToInteractive('df-bb4b459c-92be-4738-a2f9-53eaf0b3cf4c')\"\n",
       "            title=\"Convert this dataframe to an interactive table.\"\n",
       "            style=\"display:none;\">\n",
       "\n",
       "  <svg xmlns=\"http://www.w3.org/2000/svg\" height=\"24px\" viewBox=\"0 -960 960 960\">\n",
       "    <path d=\"M120-120v-720h720v720H120Zm60-500h600v-160H180v160Zm220 220h160v-160H400v160Zm0 220h160v-160H400v160ZM180-400h160v-160H180v160Zm440 0h160v-160H620v160ZM180-180h160v-160H180v160Zm440 0h160v-160H620v160Z\"/>\n",
       "  </svg>\n",
       "    </button>\n",
       "\n",
       "  <style>\n",
       "    .colab-df-container {\n",
       "      display:flex;\n",
       "      gap: 12px;\n",
       "    }\n",
       "\n",
       "    .colab-df-convert {\n",
       "      background-color: #E8F0FE;\n",
       "      border: none;\n",
       "      border-radius: 50%;\n",
       "      cursor: pointer;\n",
       "      display: none;\n",
       "      fill: #1967D2;\n",
       "      height: 32px;\n",
       "      padding: 0 0 0 0;\n",
       "      width: 32px;\n",
       "    }\n",
       "\n",
       "    .colab-df-convert:hover {\n",
       "      background-color: #E2EBFA;\n",
       "      box-shadow: 0px 1px 2px rgba(60, 64, 67, 0.3), 0px 1px 3px 1px rgba(60, 64, 67, 0.15);\n",
       "      fill: #174EA6;\n",
       "    }\n",
       "\n",
       "    .colab-df-buttons div {\n",
       "      margin-bottom: 4px;\n",
       "    }\n",
       "\n",
       "    [theme=dark] .colab-df-convert {\n",
       "      background-color: #3B4455;\n",
       "      fill: #D2E3FC;\n",
       "    }\n",
       "\n",
       "    [theme=dark] .colab-df-convert:hover {\n",
       "      background-color: #434B5C;\n",
       "      box-shadow: 0px 1px 3px 1px rgba(0, 0, 0, 0.15);\n",
       "      filter: drop-shadow(0px 1px 2px rgba(0, 0, 0, 0.3));\n",
       "      fill: #FFFFFF;\n",
       "    }\n",
       "  </style>\n",
       "\n",
       "    <script>\n",
       "      const buttonEl =\n",
       "        document.querySelector('#df-bb4b459c-92be-4738-a2f9-53eaf0b3cf4c button.colab-df-convert');\n",
       "      buttonEl.style.display =\n",
       "        google.colab.kernel.accessAllowed ? 'block' : 'none';\n",
       "\n",
       "      async function convertToInteractive(key) {\n",
       "        const element = document.querySelector('#df-bb4b459c-92be-4738-a2f9-53eaf0b3cf4c');\n",
       "        const dataTable =\n",
       "          await google.colab.kernel.invokeFunction('convertToInteractive',\n",
       "                                                    [key], {});\n",
       "        if (!dataTable) return;\n",
       "\n",
       "        const docLinkHtml = 'Like what you see? Visit the ' +\n",
       "          '<a target=\"_blank\" href=https://colab.research.google.com/notebooks/data_table.ipynb>data table notebook</a>'\n",
       "          + ' to learn more about interactive tables.';\n",
       "        element.innerHTML = '';\n",
       "        dataTable['output_type'] = 'display_data';\n",
       "        await google.colab.output.renderOutput(dataTable, element);\n",
       "        const docLink = document.createElement('div');\n",
       "        docLink.innerHTML = docLinkHtml;\n",
       "        element.appendChild(docLink);\n",
       "      }\n",
       "    </script>\n",
       "  </div>\n",
       "\n",
       "\n",
       "<div id=\"df-e529ba10-90c6-4785-8a0f-a291a3c4da23\">\n",
       "  <button class=\"colab-df-quickchart\" onclick=\"quickchart('df-e529ba10-90c6-4785-8a0f-a291a3c4da23')\"\n",
       "            title=\"Suggest charts\"\n",
       "            style=\"display:none;\">\n",
       "\n",
       "<svg xmlns=\"http://www.w3.org/2000/svg\" height=\"24px\"viewBox=\"0 0 24 24\"\n",
       "     width=\"24px\">\n",
       "    <g>\n",
       "        <path d=\"M19 3H5c-1.1 0-2 .9-2 2v14c0 1.1.9 2 2 2h14c1.1 0 2-.9 2-2V5c0-1.1-.9-2-2-2zM9 17H7v-7h2v7zm4 0h-2V7h2v10zm4 0h-2v-4h2v4z\"/>\n",
       "    </g>\n",
       "</svg>\n",
       "  </button>\n",
       "\n",
       "<style>\n",
       "  .colab-df-quickchart {\n",
       "      --bg-color: #E8F0FE;\n",
       "      --fill-color: #1967D2;\n",
       "      --hover-bg-color: #E2EBFA;\n",
       "      --hover-fill-color: #174EA6;\n",
       "      --disabled-fill-color: #AAA;\n",
       "      --disabled-bg-color: #DDD;\n",
       "  }\n",
       "\n",
       "  [theme=dark] .colab-df-quickchart {\n",
       "      --bg-color: #3B4455;\n",
       "      --fill-color: #D2E3FC;\n",
       "      --hover-bg-color: #434B5C;\n",
       "      --hover-fill-color: #FFFFFF;\n",
       "      --disabled-bg-color: #3B4455;\n",
       "      --disabled-fill-color: #666;\n",
       "  }\n",
       "\n",
       "  .colab-df-quickchart {\n",
       "    background-color: var(--bg-color);\n",
       "    border: none;\n",
       "    border-radius: 50%;\n",
       "    cursor: pointer;\n",
       "    display: none;\n",
       "    fill: var(--fill-color);\n",
       "    height: 32px;\n",
       "    padding: 0;\n",
       "    width: 32px;\n",
       "  }\n",
       "\n",
       "  .colab-df-quickchart:hover {\n",
       "    background-color: var(--hover-bg-color);\n",
       "    box-shadow: 0 1px 2px rgba(60, 64, 67, 0.3), 0 1px 3px 1px rgba(60, 64, 67, 0.15);\n",
       "    fill: var(--button-hover-fill-color);\n",
       "  }\n",
       "\n",
       "  .colab-df-quickchart-complete:disabled,\n",
       "  .colab-df-quickchart-complete:disabled:hover {\n",
       "    background-color: var(--disabled-bg-color);\n",
       "    fill: var(--disabled-fill-color);\n",
       "    box-shadow: none;\n",
       "  }\n",
       "\n",
       "  .colab-df-spinner {\n",
       "    border: 2px solid var(--fill-color);\n",
       "    border-color: transparent;\n",
       "    border-bottom-color: var(--fill-color);\n",
       "    animation:\n",
       "      spin 1s steps(1) infinite;\n",
       "  }\n",
       "\n",
       "  @keyframes spin {\n",
       "    0% {\n",
       "      border-color: transparent;\n",
       "      border-bottom-color: var(--fill-color);\n",
       "      border-left-color: var(--fill-color);\n",
       "    }\n",
       "    20% {\n",
       "      border-color: transparent;\n",
       "      border-left-color: var(--fill-color);\n",
       "      border-top-color: var(--fill-color);\n",
       "    }\n",
       "    30% {\n",
       "      border-color: transparent;\n",
       "      border-left-color: var(--fill-color);\n",
       "      border-top-color: var(--fill-color);\n",
       "      border-right-color: var(--fill-color);\n",
       "    }\n",
       "    40% {\n",
       "      border-color: transparent;\n",
       "      border-right-color: var(--fill-color);\n",
       "      border-top-color: var(--fill-color);\n",
       "    }\n",
       "    60% {\n",
       "      border-color: transparent;\n",
       "      border-right-color: var(--fill-color);\n",
       "    }\n",
       "    80% {\n",
       "      border-color: transparent;\n",
       "      border-right-color: var(--fill-color);\n",
       "      border-bottom-color: var(--fill-color);\n",
       "    }\n",
       "    90% {\n",
       "      border-color: transparent;\n",
       "      border-bottom-color: var(--fill-color);\n",
       "    }\n",
       "  }\n",
       "</style>\n",
       "\n",
       "  <script>\n",
       "    async function quickchart(key) {\n",
       "      const quickchartButtonEl =\n",
       "        document.querySelector('#' + key + ' button');\n",
       "      quickchartButtonEl.disabled = true;  // To prevent multiple clicks.\n",
       "      quickchartButtonEl.classList.add('colab-df-spinner');\n",
       "      try {\n",
       "        const charts = await google.colab.kernel.invokeFunction(\n",
       "            'suggestCharts', [key], {});\n",
       "      } catch (error) {\n",
       "        console.error('Error during call to suggestCharts:', error);\n",
       "      }\n",
       "      quickchartButtonEl.classList.remove('colab-df-spinner');\n",
       "      quickchartButtonEl.classList.add('colab-df-quickchart-complete');\n",
       "    }\n",
       "    (() => {\n",
       "      let quickchartButtonEl =\n",
       "        document.querySelector('#df-e529ba10-90c6-4785-8a0f-a291a3c4da23 button');\n",
       "      quickchartButtonEl.style.display =\n",
       "        google.colab.kernel.accessAllowed ? 'block' : 'none';\n",
       "    })();\n",
       "  </script>\n",
       "</div>\n",
       "\n",
       "    </div>\n",
       "  </div>\n"
      ],
      "text/plain": [
       "      Item_Weight Item_Fat_Content  Item_Visibility           Item_Type  \\\n",
       "2171        13.65          Regular           0.0808        Frozen Foods   \n",
       "5657         6.98          Low Fat           0.0412              Canned   \n",
       "2156        20.10          Low Fat           0.0746         Dairy Foods   \n",
       "110         13.30          Low Fat           0.0798         Dairy Foods   \n",
       "6709        10.10       Non Edible           0.0301  Health and Hygiene   \n",
       "\n",
       "      Item_MRP Outlet_Size Outlet_Location_Type        Outlet_Type  \\\n",
       "2171  262.8936      Medium               Tier 1  Supermarket Type1   \n",
       "5657   82.8934       Small               Tier 2  Supermarket Type1   \n",
       "2156  110.3228       Small               Tier 1  Supermarket Type1   \n",
       "110   232.5300       Small               Tier 1  Supermarket Type1   \n",
       "6709  154.3656      Medium               Tier 3  Supermarket Type3   \n",
       "\n",
       "        Item_Category  Outlet_Age  Item_Outlet_Sales  \n",
       "2171            Foods        14.0          4958.8784  \n",
       "5657            Foods        11.0           818.9340  \n",
       "2156            Foods        16.0          1768.3648  \n",
       "110             Foods        16.0           699.0900  \n",
       "6709  Non Consumables        28.0          2471.4496  "
      ]
     },
     "execution_count": 12,
     "metadata": {},
     "output_type": "execute_result"
    }
   ],
   "source": [
    "tr = pd.read_pickle('/content/bms_FE_train_final.pkl')\n",
    "\n",
    "print(f'Shape of the train dataset : {tr.shape}')\n",
    "tr.head(5)"
   ]
  },
  {
   "cell_type": "code",
   "execution_count": 13,
   "id": "f3aa1c1a-60c6-447e-beb8-7bb5989e050e",
   "metadata": {
    "id": "f3aa1c1a-60c6-447e-beb8-7bb5989e050e",
    "tags": []
   },
   "outputs": [],
   "source": [
    "Xtr = tr.drop(columns='Item_Outlet_Sales')\n",
    "ytr = tr['Item_Outlet_Sales']"
   ]
  },
  {
   "cell_type": "markdown",
   "id": "ef5ab645-6edf-4228-828f-65c638b92dc5",
   "metadata": {
    "id": "ef5ab645-6edf-4228-828f-65c638b92dc5"
   },
   "source": [
    "## 3. Hyper Parameter Tuning"
   ]
  },
  {
   "cell_type": "code",
   "execution_count": 14,
   "id": "50c67d11-e646-4f78-9ffe-5d05219b3b95",
   "metadata": {
    "id": "50c67d11-e646-4f78-9ffe-5d05219b3b95",
    "tags": []
   },
   "outputs": [],
   "source": [
    "# Pre Processors ---------------------------------------------------------------------------------------------\n",
    "\n",
    "def ft_exp(x):\n",
    "    y = x**(1/1.2)\n",
    "    return y\n",
    "\n",
    "\n",
    "def ft_sqrt(x):\n",
    "    y = x**(1/2)\n",
    "    return y\n",
    "\n",
    "ft_mrp_exp = FunctionTransformer(func=ft_exp)\n",
    "ft_age_sqrt = FunctionTransformer(func=ft_sqrt)\n",
    "\n",
    "pre_proc_num = ColumnTransformer(transformers=[\n",
    "                ('pt_it_vis',PowerTransformer(method='yeo-johnson', standardize=False),[2]),\n",
    "                ('ft_it_mrp',ft_mrp_exp,[4]),\n",
    "                ('ft_ol_age',ft_age_sqrt,[9])\n",
    "                ],\n",
    "                remainder='passthrough')\n",
    "\n",
    "\n",
    "pre_proc_ss = ColumnTransformer(transformers=[\n",
    "                ('ss',StandardScaler(),[0,1,2,3])\n",
    "                ],\n",
    "                remainder='passthrough')\n",
    "\n",
    "\n",
    "pre_proc_cat = ColumnTransformer(transformers=[\n",
    "                ('oe',OrdinalEncoder(categories=[['Small','Medium','High'], ['Tier 3','Tier 2','Tier 1'],\n",
    "                        ['Grocery Store','Supermarket Type3','Supermarket Type2','Supermarket Type1']], dtype='object'),[6,7,8]),\n",
    "                ('ohe',OneHotEncoder(drop='first', sparse_output=False, dtype='int8'),[4,5,9]),\n",
    "                ],\n",
    "                remainder='passthrough')"
   ]
  },
  {
   "cell_type": "code",
   "execution_count": 15,
   "id": "bcadbc6e-5db0-4350-8db4-56b4194793b7",
   "metadata": {
    "id": "bcadbc6e-5db0-4350-8db4-56b4194793b7",
    "tags": []
   },
   "outputs": [],
   "source": [
    "# Feature Selection ---------------------------------------------------------------------------------------------\n",
    "\n",
    "skb = SelectKBest(mutual_info_regression, k='all')"
   ]
  },
  {
   "cell_type": "markdown",
   "id": "1fb28c19-30b2-4cf7-8231-1042a17c8dad",
   "metadata": {
    "id": "1fb28c19-30b2-4cf7-8231-1042a17c8dad"
   },
   "source": [
    "### 3.1 LinearRegression"
   ]
  },
  {
   "cell_type": "code",
   "execution_count": null,
   "id": "21af369f-94ee-4146-99fc-db1c9d9e9fb8",
   "metadata": {
    "colab": {
     "base_uri": "https://localhost:8080/"
    },
    "id": "21af369f-94ee-4146-99fc-db1c9d9e9fb8",
    "outputId": "4f698bdd-5e38-45ce-feaf-6717d203ba92",
    "tags": []
   },
   "outputs": [
    {
     "name": "stdout",
     "output_type": "stream",
     "text": [
      "Param Grid : \n",
      " {'skb__k': ['all', 10, 15, 20, 25]} \n",
      "\n",
      "KFold Setting : \n",
      " KFold(n_splits=10, random_state=46, shuffle=True) \n",
      "\n",
      "Fitting 10 folds for each of 5 candidates, totalling 50 fits\n",
      "Best Params : \n",
      " {'skb__k': 10} \n",
      "\n",
      "Best Scores : \n",
      " 0.4124\n"
     ]
    }
   ],
   "source": [
    "# ML Pipeline ------------------------------------------------------------------------------------------------\n",
    "steps = [('pp_num',pre_proc_num),\n",
    "         ('pp_ss',pre_proc_ss),\n",
    "         ('pp_cat',pre_proc_cat),\n",
    "         ('skb',skb),\n",
    "         ('mdl',LinearRegression())]\n",
    "\n",
    "pipe = Pipeline(steps)\n",
    "\n",
    "\n",
    "# Model Param Grid -------------------------------------------------------------------------------------------\n",
    "param_grid = {\n",
    "    'skb__k':['all',10,15,20,25]\n",
    "    }\n",
    "print(f'Param Grid : \\n {param_grid} \\n')\n",
    "\n",
    "\n",
    "# GridSearchCV Configuration ---------------------------------------------------------------------------------\n",
    "kfold = KFold(n_splits=10, shuffle=True, random_state=46)\n",
    "print(f'KFold Setting : \\n {kfold} \\n')\n",
    "gscv = GridSearchCV(pipe, param_grid, cv=kfold, scoring='r2', n_jobs=-1, verbose=4)\n",
    "gscv.fit(Xtr, ytr)\n",
    "\n",
    "\n",
    "# GridSearch Results -----------------------------------------------------------------------------------------\n",
    "print(f'Best Params : \\n {gscv.best_params_} \\n')\n",
    "print(f'Best Scores : \\n {round(gscv.best_score_,4)}')"
   ]
  },
  {
   "cell_type": "markdown",
   "id": "457ac9ba-c72c-4bdc-90e2-cb342d1e40d2",
   "metadata": {
    "id": "457ac9ba-c72c-4bdc-90e2-cb342d1e40d2"
   },
   "source": [
    "### 3.2 Lasso"
   ]
  },
  {
   "cell_type": "code",
   "execution_count": null,
   "id": "453fca9f-e88e-4cfc-95c0-d0ff65d85083",
   "metadata": {
    "colab": {
     "base_uri": "https://localhost:8080/"
    },
    "id": "453fca9f-e88e-4cfc-95c0-d0ff65d85083",
    "outputId": "3d2c5c24-5bf3-4780-d7aa-cee0147f8fda",
    "tags": []
   },
   "outputs": [
    {
     "name": "stdout",
     "output_type": "stream",
     "text": [
      "Param Grid : \n",
      " {'skb__k': ['all', 15, 20, 25], 'mdl__alpha': [0, 0.01, 0.05, 0.1, 0.5, 1], 'mdl__max_iter': [500, 1000, 1500]} \n",
      "\n",
      "KFold Setting : \n",
      " KFold(n_splits=10, random_state=46, shuffle=True) \n",
      "\n",
      "Fitting 10 folds for each of 72 candidates, totalling 720 fits\n",
      "Best Params : \n",
      " {'mdl__alpha': 0.5, 'mdl__max_iter': 1000, 'skb__k': 15} \n",
      "\n",
      "Best Scores : \n",
      " 0.4123\n"
     ]
    }
   ],
   "source": [
    "# ML Pipeline ------------------------------------------------------------------------------------------------\n",
    "steps = [('pp_num',pre_proc_num),\n",
    "         ('pp_ss',pre_proc_ss),\n",
    "         ('pp_cat',pre_proc_cat),\n",
    "         ('skb',skb),\n",
    "         ('mdl',Lasso(random_state=46))]\n",
    "\n",
    "pipe = Pipeline(steps)\n",
    "\n",
    "\n",
    "# Model Param Grid -------------------------------------------------------------------------------------------\n",
    "param_grid = {\n",
    "    'skb__k':['all',15,20,25],\n",
    "    'mdl__alpha':[0,0.01,0.05,0.1,0.5,1],\n",
    "    'mdl__max_iter':[500,1000,1500]\n",
    "    }\n",
    "print(f'Param Grid : \\n {param_grid} \\n')\n",
    "\n",
    "\n",
    "# GridSearchCV Configuration ---------------------------------------------------------------------------------\n",
    "kfold = KFold(n_splits=10, shuffle=True, random_state=46)\n",
    "print(f'KFold Setting : \\n {kfold} \\n')\n",
    "gscv = GridSearchCV(pipe, param_grid, cv=kfold, scoring='r2', n_jobs=-1, verbose=4)\n",
    "gscv.fit(Xtr, ytr)\n",
    "\n",
    "\n",
    "# GridSearch Results -----------------------------------------------------------------------------------------\n",
    "print(f'Best Params : \\n {gscv.best_params_} \\n')\n",
    "print(f'Best Scores : \\n {round(gscv.best_score_,4)}')"
   ]
  },
  {
   "cell_type": "markdown",
   "id": "2c6beb61-af31-4d7f-9647-9ab58daebcb8",
   "metadata": {
    "id": "2c6beb61-af31-4d7f-9647-9ab58daebcb8"
   },
   "source": [
    "### 3.3 Ridge"
   ]
  },
  {
   "cell_type": "code",
   "execution_count": null,
   "id": "252d7d0f-ec1f-40d9-bd05-3ff909701dc6",
   "metadata": {
    "colab": {
     "base_uri": "https://localhost:8080/"
    },
    "id": "252d7d0f-ec1f-40d9-bd05-3ff909701dc6",
    "outputId": "0b9eecb3-3dda-48b3-8142-d7072a060c70",
    "tags": []
   },
   "outputs": [
    {
     "name": "stdout",
     "output_type": "stream",
     "text": [
      "Param Grid : \n",
      " {'skb__k': ['all', 15, 20, 25], 'mdl__alpha': [0, 0.01, 0.05, 0.1, 0.5, 1], 'mdl__max_iter': [500, 1000, 1500]} \n",
      "\n",
      "KFold Setting : \n",
      " KFold(n_splits=10, random_state=46, shuffle=True) \n",
      "\n",
      "Fitting 10 folds for each of 72 candidates, totalling 720 fits\n",
      "Best Params : \n",
      " {'mdl__alpha': 0.05, 'mdl__max_iter': 1500, 'skb__k': 15} \n",
      "\n",
      "Best Scores : \n",
      " 0.4123\n"
     ]
    }
   ],
   "source": [
    "# ML Pipeline ------------------------------------------------------------------------------------------------\n",
    "steps = [('pp_num',pre_proc_num),\n",
    "         ('pp_ss',pre_proc_ss),\n",
    "         ('pp_cat',pre_proc_cat),\n",
    "         ('skb',skb),\n",
    "         ('mdl',Ridge(random_state=46, solver='auto'))]\n",
    "\n",
    "pipe = Pipeline(steps)\n",
    "\n",
    "\n",
    "# Model Param Grid -------------------------------------------------------------------------------------------\n",
    "param_grid = {\n",
    "    'skb__k':['all',15,20,25],\n",
    "    'mdl__alpha':[0,0.01,0.05,0.1,0.5,1],\n",
    "    'mdl__max_iter':[500,1000,1500]\n",
    "    }\n",
    "print(f'Param Grid : \\n {param_grid} \\n')\n",
    "\n",
    "\n",
    "# GridSearchCV Configuration ---------------------------------------------------------------------------------\n",
    "kfold = KFold(n_splits=10, shuffle=True, random_state=46)\n",
    "print(f'KFold Setting : \\n {kfold} \\n')\n",
    "gscv = GridSearchCV(pipe, param_grid, cv=kfold, scoring='r2', n_jobs=-1, verbose=4)\n",
    "gscv.fit(Xtr, ytr)\n",
    "\n",
    "\n",
    "# GridSearch Results -----------------------------------------------------------------------------------------\n",
    "print(f'Best Params : \\n {gscv.best_params_} \\n')\n",
    "print(f'Best Scores : \\n {round(gscv.best_score_,4)}')"
   ]
  },
  {
   "cell_type": "markdown",
   "id": "e7e07866-141f-4860-a548-9272fff3f48c",
   "metadata": {
    "id": "e7e07866-141f-4860-a548-9272fff3f48c"
   },
   "source": [
    "### 3.4 KNeighborsRegressor"
   ]
  },
  {
   "cell_type": "code",
   "execution_count": null,
   "id": "a11c0754-e165-4787-961c-664e1a0ea36f",
   "metadata": {
    "colab": {
     "base_uri": "https://localhost:8080/"
    },
    "id": "a11c0754-e165-4787-961c-664e1a0ea36f",
    "outputId": "52545a06-939a-4753-d101-97b860faf93b",
    "tags": []
   },
   "outputs": [
    {
     "name": "stdout",
     "output_type": "stream",
     "text": [
      "Param Grid : \n",
      " {'mdl__n_neighbors': [3, 5, 7, 9, 13, 17], 'mdl__weights': ['uniform', 'distance'], 'mdl__metric': ['euclidean', 'manhattan', 'minkowski'], 'mdl__algorithm': ['brute', 'auto']} \n",
      "\n",
      "KFold Setting : \n",
      " KFold(n_splits=10, random_state=46, shuffle=True) \n",
      "\n",
      "Fitting 10 folds for each of 72 candidates, totalling 720 fits\n",
      "Best Params : \n",
      " {'mdl__algorithm': 'brute', 'mdl__metric': 'euclidean', 'mdl__n_neighbors': 17, 'mdl__weights': 'uniform'} \n",
      "\n",
      "Best Scores : \n",
      " 0.5616\n"
     ]
    }
   ],
   "source": [
    "# ML Pipeline ------------------------------------------------------------------------------------------------\n",
    "steps = [('pp_num',pre_proc_num),\n",
    "         ('pp_ss',pre_proc_ss),\n",
    "         ('pp_cat',pre_proc_cat),\n",
    "         ('skb',skb),\n",
    "         ('mdl',KNeighborsRegressor())]\n",
    "\n",
    "pipe = Pipeline(steps)\n",
    "\n",
    "# Model Param Grid -------------------------------------------------------------------------------------------\n",
    "param_grid = {\n",
    "    'mdl__n_neighbors': [3,5,7,9,13,17],\n",
    "    'mdl__weights':['uniform', 'distance'],\n",
    "    'mdl__metric':['euclidean', 'manhattan', 'minkowski'],\n",
    "    'mdl__algorithm':['brute','auto']\n",
    "    }\n",
    "print(f'Param Grid : \\n {param_grid} \\n')\n",
    "\n",
    "\n",
    "# GridSearchCV Configuration ---------------------------------------------------------------------------------\n",
    "kfold = KFold(n_splits=10, shuffle=True, random_state=46)\n",
    "print(f'KFold Setting : \\n {kfold} \\n')\n",
    "gscv = GridSearchCV(pipe, param_grid, cv=kfold, scoring='r2', n_jobs=-1, verbose=4)\n",
    "gscv.fit(Xtr, ytr)\n",
    "\n",
    "\n",
    "# GridSearch Results -----------------------------------------------------------------------------------------\n",
    "print(f'Best Params : \\n {gscv.best_params_} \\n')\n",
    "print(f'Best Scores : \\n {round(gscv.best_score_,4)}')"
   ]
  },
  {
   "cell_type": "markdown",
   "id": "6f0ec070-f262-480e-9d49-9f6b2ae7cfa0",
   "metadata": {
    "id": "6f0ec070-f262-480e-9d49-9f6b2ae7cfa0"
   },
   "source": [
    "### 3.5 SVR"
   ]
  },
  {
   "cell_type": "code",
   "execution_count": null,
   "id": "8b20635d-db13-4f7b-b87f-d85f3ee7aa05",
   "metadata": {
    "colab": {
     "base_uri": "https://localhost:8080/"
    },
    "id": "8b20635d-db13-4f7b-b87f-d85f3ee7aa05",
    "outputId": "27588d37-c308-48f4-8982-cbb9008e6c39",
    "tags": []
   },
   "outputs": [
    {
     "name": "stdout",
     "output_type": "stream",
     "text": [
      "Param Grid : \n",
      " {'mdl__C': [1.0, 0.1, 0.01], 'mdl__kernel': ['linear', 'poly', 'rbf', 'sigmoid'], 'mdl__gamma': ['scale', 'auto'], 'mdl__degree': [2, 3, 4, 5]} \n",
      "\n",
      "KFold Setting : \n",
      " KFold(n_splits=10, random_state=46, shuffle=True) \n",
      "\n",
      "Fitting 10 folds for each of 96 candidates, totalling 960 fits\n",
      "Best Params : \n",
      " {'mdl__C': 1.0, 'mdl__degree': 2, 'mdl__gamma': 'scale', 'mdl__kernel': 'linear'} \n",
      "\n",
      "Best Scores : \n",
      " 0.3576\n"
     ]
    }
   ],
   "source": [
    "# ML Pipeline ------------------------------------------------------------------------------------------------\n",
    "steps = [('pp_num',pre_proc_num),\n",
    "         ('pp_ss',pre_proc_ss),\n",
    "         ('pp_cat',pre_proc_cat),\n",
    "         ('skb',skb),\n",
    "         ('mdl',SVR())]\n",
    "\n",
    "pipe = Pipeline(steps)\n",
    "\n",
    "# Model Param Grid -------------------------------------------------------------------------------------------\n",
    "param_grid = {\n",
    "    'mdl__C':[1.0, 0.1, 0.01],\n",
    "    'mdl__kernel':['linear','poly', 'rbf', 'sigmoid'],\n",
    "    'mdl__gamma':['scale','auto'],\n",
    "    'mdl__degree':[2,3,4,5]\n",
    "    }\n",
    "print(f'Param Grid : \\n {param_grid} \\n')\n",
    "\n",
    "\n",
    "# GridSearchCV Configuration ---------------------------------------------------------------------------------\n",
    "kfold = KFold(n_splits=10, shuffle=True, random_state=46)\n",
    "print(f'KFold Setting : \\n {kfold} \\n')\n",
    "gscv = GridSearchCV(pipe, param_grid, cv=kfold, scoring='r2', n_jobs=-1, verbose=4)\n",
    "gscv.fit(Xtr, ytr)\n",
    "\n",
    "\n",
    "# GridSearch Results -----------------------------------------------------------------------------------------\n",
    "print(f'Best Params : \\n {gscv.best_params_} \\n')\n",
    "print(f'Best Scores : \\n {round(gscv.best_score_,4)}')"
   ]
  },
  {
   "cell_type": "markdown",
   "id": "de90e39d-21df-450c-86bc-8b24f0584781",
   "metadata": {
    "id": "de90e39d-21df-450c-86bc-8b24f0584781"
   },
   "source": [
    "### 3.6 DecisionTreeRegressor"
   ]
  },
  {
   "cell_type": "code",
   "execution_count": null,
   "id": "a423bab2-2390-4f00-9383-fc2269503cc0",
   "metadata": {
    "colab": {
     "base_uri": "https://localhost:8080/"
    },
    "id": "a423bab2-2390-4f00-9383-fc2269503cc0",
    "outputId": "d7c96156-9276-4d23-bce2-2623913f4e9d",
    "tags": []
   },
   "outputs": [
    {
     "name": "stdout",
     "output_type": "stream",
     "text": [
      "Param Grid : \n",
      " {'mdl__criterion': ['squared_error', 'absolute_error'], 'mdl__max_depth': [1, 3, 5], 'mdl__splitter': ['best', 'random'], 'mdl__min_samples_split': [0.3, 0.5, 0.8], 'mdl__min_impurity_decrease': [0.0, 0.2, 0.5]} \n",
      "\n",
      "KFold Setting : \n",
      " KFold(n_splits=10, random_state=46, shuffle=True) \n",
      "\n",
      "Fitting 10 folds for each of 108 candidates, totalling 1080 fits\n",
      "Best Params : \n",
      " {'mdl__criterion': 'squared_error', 'mdl__max_depth': 5, 'mdl__min_impurity_decrease': 0.0, 'mdl__min_samples_split': 0.3, 'mdl__splitter': 'best'} \n",
      "\n",
      "Best Scores : \n",
      " 0.5553\n"
     ]
    }
   ],
   "source": [
    "# ML Pipeline ------------------------------------------------------------------------------------------------\n",
    "steps = [('pp_num',pre_proc_num),\n",
    "         ('pp_ss',pre_proc_ss),\n",
    "         ('pp_cat',pre_proc_cat),\n",
    "         ('skb',skb),\n",
    "         ('mdl',DecisionTreeRegressor(random_state=46))]\n",
    "\n",
    "pipe = Pipeline(steps)\n",
    "\n",
    "\n",
    "# Model Param Grid -------------------------------------------------------------------------------------------\n",
    "param_grid = {\n",
    "    'mdl__criterion':['squared_error','absolute_error'],\n",
    "    'mdl__max_depth':[1,3,5],\n",
    "    'mdl__splitter':['best','random'],\n",
    "    'mdl__min_samples_split':[0.3,0.5,0.8],\n",
    "    'mdl__min_impurity_decrease':[0.0,0.2,0.5]\n",
    "    }\n",
    "print(f'Param Grid : \\n {param_grid} \\n')\n",
    "\n",
    "\n",
    "# GridSearchCV Configuration ---------------------------------------------------------------------------------\n",
    "kfold = KFold(n_splits=10, shuffle=True, random_state=46)\n",
    "print(f'KFold Setting : \\n {kfold} \\n')\n",
    "gscv = GridSearchCV(pipe, param_grid, cv=kfold, scoring='r2', n_jobs=-1, verbose=4)\n",
    "gscv.fit(Xtr, ytr)\n",
    "\n",
    "\n",
    "# GridSearch Results -----------------------------------------------------------------------------------------\n",
    "print(f'Best Params : \\n {gscv.best_params_} \\n')\n",
    "print(f'Best Scores : \\n {round(gscv.best_score_,4)}')"
   ]
  },
  {
   "cell_type": "markdown",
   "id": "f967b734-f4b3-4a2d-912b-a943629b809f",
   "metadata": {
    "id": "f967b734-f4b3-4a2d-912b-a943629b809f"
   },
   "source": [
    "### 3.7 BaggingRegressor"
   ]
  },
  {
   "cell_type": "code",
   "execution_count": null,
   "id": "3cc0817c-6418-40fe-b519-287ff359d297",
   "metadata": {
    "colab": {
     "base_uri": "https://localhost:8080/"
    },
    "id": "3cc0817c-6418-40fe-b519-287ff359d297",
    "outputId": "3b535906-4703-45a4-ff9e-7733d6a6edc3",
    "tags": []
   },
   "outputs": [
    {
     "name": "stdout",
     "output_type": "stream",
     "text": [
      "Param Grid : \n",
      " {'mdl__n_estimators': [50, 100, 200], 'mdl__estimator': [KNeighborsRegressor()], 'mdl__max_samples': [0.25, 0.5], 'mdl__bootstrap': [True, False], 'mdl__oob_score': [True]} \n",
      "\n",
      "KFold Setting : \n",
      " KFold(n_splits=5, random_state=46, shuffle=True) \n",
      "\n",
      "Fitting 5 folds for each of 12 candidates, totalling 60 fits\n",
      "Best Params : \n",
      " {'mdl__bootstrap': True, 'mdl__estimator': KNeighborsRegressor(), 'mdl__max_samples': 0.25, 'mdl__n_estimators': 200, 'mdl__oob_score': True} \n",
      "\n",
      "Best Scores : \n",
      " 0.5702\n"
     ]
    }
   ],
   "source": [
    "# ML Pipeline ------------------------------------------------------------------------------------------------\n",
    "steps = [('pp_num',pre_proc_num),\n",
    "         ('pp_ss',pre_proc_ss),\n",
    "         ('pp_cat',pre_proc_cat),\n",
    "         ('skb',skb),\n",
    "         ('mdl',BaggingRegressor(random_state=46))]\n",
    "\n",
    "pipe = Pipeline(steps)\n",
    "\n",
    "\n",
    "# Model Param Grid -------------------------------------------------------------------------------------------\n",
    "param_grid = {\n",
    "    'mdl__n_estimators':[50,100,200],\n",
    "    'mdl__estimator':[KNeighborsRegressor()],\n",
    "    'mdl__max_samples':[0.25,0.5],\n",
    "    'mdl__bootstrap':[True,False],\n",
    "    'mdl__oob_score':[True]\n",
    "    }\n",
    "print(f'Param Grid : \\n {param_grid} \\n')\n",
    "\n",
    "\n",
    "# GridSearchCV Configuration ---------------------------------------------------------------------------------\n",
    "kfold = KFold(n_splits=5, shuffle=True, random_state=46)\n",
    "print(f'KFold Setting : \\n {kfold} \\n')\n",
    "gscv = GridSearchCV(pipe, param_grid, cv=kfold, scoring='r2', n_jobs=-1, verbose=4)\n",
    "gscv.fit(Xtr, ytr)\n",
    "\n",
    "\n",
    "# GridSearch Results -----------------------------------------------------------------------------------------\n",
    "print(f'Best Params : \\n {gscv.best_params_} \\n')\n",
    "print(f'Best Scores : \\n {round(gscv.best_score_,4)}')"
   ]
  },
  {
   "cell_type": "markdown",
   "id": "ee432532-ae14-4535-9171-f98791c84fba",
   "metadata": {
    "id": "ee432532-ae14-4535-9171-f98791c84fba",
    "tags": []
   },
   "source": [
    "### 3.8 RandomForestRegressor"
   ]
  },
  {
   "cell_type": "code",
   "execution_count": null,
   "id": "3db27c17-dd13-4a8a-98d9-ab749f93fb7c",
   "metadata": {
    "colab": {
     "base_uri": "https://localhost:8080/"
    },
    "id": "3db27c17-dd13-4a8a-98d9-ab749f93fb7c",
    "outputId": "25678b4d-2489-43dc-ad1e-887b96c8517c"
   },
   "outputs": [
    {
     "name": "stdout",
     "output_type": "stream",
     "text": [
      "Param Grid : \n",
      " {'mdl__n_estimators': [100, 200, 300], 'mdl__criterion': ['squared_error', 'absolute_error'], 'mdl__max_depth': [1, 3, 5], 'mdl__max_samples': [0.25, 0.5], 'mdl__bootstrap': [True, False], 'mdl__oob_score': [True]} \n",
      "\n",
      "KFold Setting : \n",
      " KFold(n_splits=5, random_state=46, shuffle=True) \n",
      "\n",
      "Fitting 5 folds for each of 72 candidates, totalling 360 fits\n",
      "Best Params : \n",
      " {'mdl__bootstrap': True, 'mdl__criterion': 'squared_error', 'mdl__max_depth': 5, 'mdl__max_samples': 0.25, 'mdl__n_estimators': 100, 'mdl__oob_score': True} \n",
      "\n",
      "Best Scores : \n",
      " 0.5982\n"
     ]
    }
   ],
   "source": [
    "# ML Pipeline ------------------------------------------------------------------------------------------------\n",
    "steps = [('pp_num',pre_proc_num),\n",
    "         ('pp_ss',pre_proc_ss),\n",
    "         ('pp_cat',pre_proc_cat),\n",
    "         ('skb',skb),\n",
    "         ('mdl',RandomForestRegressor(random_state=46))]\n",
    "\n",
    "pipe = Pipeline(steps)\n",
    "\n",
    "\n",
    "# Model Param Grid -------------------------------------------------------------------------------------------\n",
    "param_grid = {\n",
    "    'mdl__n_estimators':[100, 200, 300],\n",
    "    'mdl__criterion':['squared_error','absolute_error'],\n",
    "    'mdl__max_depth': [1,3,5],\n",
    "    'mdl__max_samples': [0.25,0.50],\n",
    "    'mdl__bootstrap':[True,False],\n",
    "    'mdl__oob_score':[True]\n",
    "    # 'mdl__min_samples_split':[0.3,0.5,0.8],\n",
    "    # 'mdl__min_impurity_decrease':[0.0,0.2,0.5]\n",
    "    }\n",
    "print(f'Param Grid : \\n {param_grid} \\n')\n",
    "\n",
    "\n",
    "# GridSearchCV Configuration ---------------------------------------------------------------------------------\n",
    "kfold = KFold(n_splits=5, shuffle=True, random_state=46)\n",
    "print(f'KFold Setting : \\n {kfold} \\n')\n",
    "gscv = GridSearchCV(pipe, param_grid, cv=kfold, scoring='r2', n_jobs=-1, verbose=4)\n",
    "gscv.fit(Xtr, ytr)\n",
    "\n",
    "\n",
    "# GridSearch Results -----------------------------------------------------------------------------------------\n",
    "print(f'Best Params : \\n {gscv.best_params_} \\n')\n",
    "print(f'Best Scores : \\n {round(gscv.best_score_,4)}')"
   ]
  },
  {
   "cell_type": "markdown",
   "id": "6dcf58f1-4700-495e-892c-495d5035912c",
   "metadata": {
    "id": "6dcf58f1-4700-495e-892c-495d5035912c"
   },
   "source": [
    "### 3.9 GradientBoostingRegressor"
   ]
  },
  {
   "cell_type": "code",
   "execution_count": 8,
   "id": "7a6d467e-856f-4917-a10a-54e7ea6ba80f",
   "metadata": {
    "colab": {
     "base_uri": "https://localhost:8080/"
    },
    "id": "7a6d467e-856f-4917-a10a-54e7ea6ba80f",
    "outputId": "ae123cb1-11fb-4fd3-86d8-92e5b4a5aaed",
    "tags": []
   },
   "outputs": [
    {
     "name": "stdout",
     "output_type": "stream",
     "text": [
      "Param Grid : \n",
      " {'mdl__learning_rate': [0.001, 0.01, 0.1], 'mdl__criterion': ['friedman_mse', 'squared_error'], 'mdl__n_estimators': [50, 100, 200], 'mdl__max_depth': [1, 3, 5], 'mdl__subsample': [0.5, 0.75]} \n",
      "\n",
      "KFold Setting : \n",
      " KFold(n_splits=5, random_state=46, shuffle=True) \n",
      "\n",
      "Fitting 5 folds for each of 108 candidates, totalling 540 fits\n",
      "Best Params : \n",
      " {'mdl__criterion': 'squared_error', 'mdl__learning_rate': 0.1, 'mdl__max_depth': 3, 'mdl__n_estimators': 50, 'mdl__subsample': 0.75} \n",
      "\n",
      "Best Scores : \n",
      " 0.5986\n"
     ]
    }
   ],
   "source": [
    "# ML Pipeline ------------------------------------------------------------------------------------------------\n",
    "steps = [('pp_num',pre_proc_num),\n",
    "         ('pp_ss',pre_proc_ss),\n",
    "         ('pp_cat',pre_proc_cat),\n",
    "         ('skb',skb),\n",
    "         ('mdl',GradientBoostingRegressor(random_state=46))]\n",
    "\n",
    "pipe = Pipeline(steps)\n",
    "\n",
    "\n",
    "# Model Param Grid -------------------------------------------------------------------------------------------\n",
    "param_grid = {\n",
    "    'mdl__learning_rate':[0.001,0.01,0.1],\n",
    "    'mdl__criterion':['friedman_mse', 'squared_error'],\n",
    "    'mdl__n_estimators':[50,100,200],\n",
    "    'mdl__max_depth':[1,3,5],\n",
    "    'mdl__subsample':[0.5,0.75]\n",
    "    # 'mdl__min_samples_split':[0.3,0.5,0.8],\n",
    "    # 'mdl__min_impurity_decrease':[0.0,0.2,0.5]\n",
    "    }\n",
    "print(f'Param Grid : \\n {param_grid} \\n')\n",
    "\n",
    "\n",
    "# GridSearchCV Configuration ---------------------------------------------------------------------------------\n",
    "kfold = KFold(n_splits=5, shuffle=True, random_state=46)\n",
    "print(f'KFold Setting : \\n {kfold} \\n')\n",
    "gscv = GridSearchCV(pipe, param_grid, cv=kfold, scoring='r2', n_jobs=-1, verbose=4)\n",
    "gscv.fit(Xtr, ytr)\n",
    "\n",
    "\n",
    "# GridSearch Results -----------------------------------------------------------------------------------------\n",
    "print(f'Best Params : \\n {gscv.best_params_} \\n')\n",
    "print(f'Best Scores : \\n {round(gscv.best_score_,4)}')"
   ]
  },
  {
   "cell_type": "markdown",
   "id": "4067164c-004f-4eee-a03c-f2d7fa864850",
   "metadata": {
    "id": "4067164c-004f-4eee-a03c-f2d7fa864850"
   },
   "source": [
    "### 3.10 HistGradientBoostingRegressor"
   ]
  },
  {
   "cell_type": "code",
   "execution_count": 7,
   "id": "fa524588-33c2-4f4c-9a04-6037e6272c1b",
   "metadata": {
    "colab": {
     "base_uri": "https://localhost:8080/"
    },
    "id": "fa524588-33c2-4f4c-9a04-6037e6272c1b",
    "outputId": "7b224c7d-f108-484d-90c0-fe5f2ff481c7",
    "tags": []
   },
   "outputs": [
    {
     "name": "stdout",
     "output_type": "stream",
     "text": [
      "Param Grid : \n",
      " {'mdl__learning_rate': [0.01, 0.1, 0.5], 'mdl__max_depth': [1, 3, 5], 'mdl__max_iter': [50, 100, 200], 'mdl__max_leaf_nodes': [20, 25], 'mdl__l2_regularization': [0.1, 0.5]} \n",
      "\n",
      "KFold Setting : \n",
      " KFold(n_splits=5, random_state=46, shuffle=True) \n",
      "\n",
      "Fitting 5 folds for each of 108 candidates, totalling 540 fits\n",
      "Best Params : \n",
      " {'mdl__l2_regularization': 0.1, 'mdl__learning_rate': 0.1, 'mdl__max_depth': 3, 'mdl__max_iter': 50, 'mdl__max_leaf_nodes': 20} \n",
      "\n",
      "Best Scores : \n",
      " 0.5998\n"
     ]
    }
   ],
   "source": [
    "# ML Pipeline ------------------------------------------------------------------------------------------------\n",
    "steps = [('pp_num',pre_proc_num),\n",
    "         ('pp_ss',pre_proc_ss),\n",
    "         ('pp_cat',pre_proc_cat),\n",
    "         ('skb',skb),\n",
    "         ('mdl',HistGradientBoostingRegressor(random_state=46))]\n",
    "\n",
    "pipe = Pipeline(steps)\n",
    "\n",
    "\n",
    "# Model Param Grid -------------------------------------------------------------------------------------------\n",
    "param_grid = {\n",
    "    'mdl__learning_rate':[0.01,0.1,0.5],\n",
    "    'mdl__max_depth':[1,3,5],\n",
    "    'mdl__max_iter':[50,100,200],\n",
    "    'mdl__max_leaf_nodes':[20,25],\n",
    "    'mdl__l2_regularization':[0.1,0.5]\n",
    "    }\n",
    "print(f'Param Grid : \\n {param_grid} \\n')\n",
    "\n",
    "\n",
    "# GridSearchCV Configuration ---------------------------------------------------------------------------------\n",
    "kfold = KFold(n_splits=5, shuffle=True, random_state=46)\n",
    "print(f'KFold Setting : \\n {kfold} \\n')\n",
    "gscv = GridSearchCV(pipe, param_grid, cv=kfold, scoring='r2', n_jobs=-1, verbose=4)\n",
    "gscv.fit(Xtr, ytr)\n",
    "\n",
    "\n",
    "# GridSearch Results -----------------------------------------------------------------------------------------\n",
    "print(f'Best Params : \\n {gscv.best_params_} \\n')\n",
    "print(f'Best Scores : \\n {round(gscv.best_score_,4)}')"
   ]
  },
  {
   "cell_type": "markdown",
   "id": "2fbc2626-8c89-4bc4-b15f-01e60504b92c",
   "metadata": {
    "id": "2fbc2626-8c89-4bc4-b15f-01e60504b92c"
   },
   "source": [
    "### 3.11 XGBRegressor"
   ]
  },
  {
   "cell_type": "code",
   "execution_count": null,
   "id": "D1zIHDbRvSBm",
   "metadata": {
    "id": "D1zIHDbRvSBm"
   },
   "outputs": [],
   "source": [
    "#! pip install xgboost"
   ]
  },
  {
   "cell_type": "code",
   "execution_count": 16,
   "id": "bf0eeec9-0a4b-43ed-a351-cedf415c1444",
   "metadata": {
    "colab": {
     "base_uri": "https://localhost:8080/"
    },
    "id": "bf0eeec9-0a4b-43ed-a351-cedf415c1444",
    "outputId": "017258c6-412a-4d72-de3e-edff9515bed0",
    "tags": []
   },
   "outputs": [
    {
     "name": "stdout",
     "output_type": "stream",
     "text": [
      "Param Grid : \n",
      " {'mdl__eta': [0.01, 0.1, 0.5], 'mdl__n_estimators': [50, 100, 200], 'mdl__max_depth': [3, 5, 7], 'mdl__gamma': [0.01, 0.05, 0.1], 'mdl__subsample': [0.5, 0.75]} \n",
      "\n",
      "KFold Setting : \n",
      " KFold(n_splits=5, random_state=46, shuffle=True) \n",
      "\n",
      "Fitting 5 folds for each of 162 candidates, totalling 810 fits\n",
      "Best Params : \n",
      " {'mdl__eta': 0.1, 'mdl__gamma': 0.01, 'mdl__max_depth': 3, 'mdl__n_estimators': 50, 'mdl__subsample': 0.75} \n",
      "\n",
      "Best Scores : \n",
      " 0.5999\n"
     ]
    }
   ],
   "source": [
    "# ML Pipeline ------------------------------------------------------------------------------------------------\n",
    "steps = [('pp_num',pre_proc_num),\n",
    "         ('pp_ss',pre_proc_ss),\n",
    "         ('pp_cat',pre_proc_cat),\n",
    "         ('skb',skb),\n",
    "         ('mdl',XGBRegressor(objective='reg:squarederror', eval_metric='rmse', seed=46))]\n",
    "\n",
    "pipe = Pipeline(steps)\n",
    "\n",
    "\n",
    "# Model Param Grid -------------------------------------------------------------------------------------------\n",
    "param_grid = {\n",
    "    'mdl__eta':[0.01,0.1,0.5],\n",
    "    'mdl__n_estimators':[50,100,200],\n",
    "    'mdl__max_depth':[3,5,7],\n",
    "    'mdl__gamma':[0.01,0.05,0.1],\n",
    "    'mdl__subsample':[0.5,0.75]\n",
    "    # 'mdl__lambda':[0.1,0.25,0.5],\n",
    "    # 'mdl__alpha':[0.1,0.25,0.5],\n",
    "    #'mdl__colsample_bytree':[0.25,0.5,0.75]\n",
    "    }\n",
    "print(f'Param Grid : \\n {param_grid} \\n')\n",
    "\n",
    "\n",
    "# GridSearchCV Configuration ---------------------------------------------------------------------------------\n",
    "kfold = KFold(n_splits=5, shuffle=True, random_state=46)\n",
    "print(f'KFold Setting : \\n {kfold} \\n')\n",
    "gscv = GridSearchCV(pipe, param_grid, cv=kfold, scoring='r2', n_jobs=-1, verbose=4)\n",
    "gscv.fit(Xtr, ytr)\n",
    "\n",
    "\n",
    "# GridSearch Results -----------------------------------------------------------------------------------------\n",
    "print(f'Best Params : \\n {gscv.best_params_} \\n')\n",
    "print(f'Best Scores : \\n {round(gscv.best_score_,4)}')"
   ]
  },
  {
   "cell_type": "code",
   "execution_count": null,
   "id": "ef8f4082-e0c0-4561-be96-ee96ec87e06f",
   "metadata": {
    "id": "ef8f4082-e0c0-4561-be96-ee96ec87e06f"
   },
   "outputs": [],
   "source": []
  }
 ],
 "metadata": {
  "colab": {
   "gpuType": "T4",
   "provenance": []
  },
  "kernelspec": {
   "display_name": "Python 3 (ipykernel)",
   "language": "python",
   "name": "python3"
  },
  "language_info": {
   "codemirror_mode": {
    "name": "ipython",
    "version": 3
   },
   "file_extension": ".py",
   "mimetype": "text/x-python",
   "name": "python",
   "nbconvert_exporter": "python",
   "pygments_lexer": "ipython3",
   "version": "3.12.8"
  }
 },
 "nbformat": 4,
 "nbformat_minor": 5
}
