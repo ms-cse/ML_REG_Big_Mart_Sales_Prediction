{
 "cells": [
  {
   "cell_type": "markdown",
   "id": "ffff472f-5c43-4055-bf3e-0a46b076c6b8",
   "metadata": {},
   "source": [
    "# BASIC EDA - {\"BIGMART SALES\" DATASET} "
   ]
  },
  {
   "cell_type": "markdown",
   "id": "80eb321a-891e-4e06-b059-16adabdcd094",
   "metadata": {},
   "source": [
    "## 1. Import Modules and Configuration Settings"
   ]
  },
  {
   "cell_type": "code",
   "execution_count": 1,
   "id": "1ee589eb-3303-4edb-bea4-be4291cb7c96",
   "metadata": {},
   "outputs": [],
   "source": [
    "import warnings\n",
    "warnings.filterwarnings('ignore')\n",
    "\n",
    "import numpy as np\n",
    "import pandas as pd"
   ]
  },
  {
   "cell_type": "code",
   "execution_count": 2,
   "id": "f4e179ea-7edd-4629-9d8d-94a81acc566d",
   "metadata": {},
   "outputs": [],
   "source": [
    "# PD Options\n",
    "\n",
    "pd.set_option('display.min_rows', 5)\n",
    "pd.set_option('display.max_rows', 25)\n",
    "pd.set_option('display.precision', 4)"
   ]
  },
  {
   "cell_type": "markdown",
   "id": "a29dba6a-830e-4d0f-acf8-1f5bd2d1c3ba",
   "metadata": {},
   "source": [
    "## 2. Import Dataset"
   ]
  },
  {
   "cell_type": "markdown",
   "id": "235d6c5b-4cf2-43b6-8c1a-e85adc4fa82e",
   "metadata": {},
   "source": [
    "### 2.1 Train Dataset"
   ]
  },
  {
   "cell_type": "code",
   "execution_count": 3,
   "id": "4eba44df-5698-4719-af96-3e055155ed65",
   "metadata": {},
   "outputs": [],
   "source": [
    "data = pd.read_csv('bms_train.csv')\n",
    "df = data.copy()"
   ]
  },
  {
   "cell_type": "markdown",
   "id": "8bdedefe-b495-42b8-9057-82ecb6a94cc6",
   "metadata": {},
   "source": [
    "### 2.2 Test Dataset"
   ]
  },
  {
   "cell_type": "code",
   "execution_count": 4,
   "id": "d3e6eaa9-287c-485c-86ff-51479faff28b",
   "metadata": {
    "tags": []
   },
   "outputs": [
    {
     "name": "stdout",
     "output_type": "stream",
     "text": [
      "Shape of the Test dataset : (5681, 11)\n"
     ]
    }
   ],
   "source": [
    "dfte = pd.read_csv('bms_test.csv')\n",
    "\n",
    "print(f'Shape of the Test dataset : {dfte.shape}')"
   ]
  },
  {
   "cell_type": "markdown",
   "id": "1e69e2a2-6400-4c48-a354-d742879ccd92",
   "metadata": {},
   "source": [
    "## 3. Basic EDA"
   ]
  },
  {
   "cell_type": "markdown",
   "id": "d3016b26-5ea0-44da-be39-bad1500ec49d",
   "metadata": {},
   "source": [
    "### 3.1 Sample of the Dataset"
   ]
  },
  {
   "cell_type": "code",
   "execution_count": 5,
   "id": "a1730c37-5687-46fd-8cce-2b656bd00733",
   "metadata": {},
   "outputs": [
    {
     "data": {
      "text/html": [
       "<div>\n",
       "<style scoped>\n",
       "    .dataframe tbody tr th:only-of-type {\n",
       "        vertical-align: middle;\n",
       "    }\n",
       "\n",
       "    .dataframe tbody tr th {\n",
       "        vertical-align: top;\n",
       "    }\n",
       "\n",
       "    .dataframe thead th {\n",
       "        text-align: right;\n",
       "    }\n",
       "</style>\n",
       "<table border=\"1\" class=\"dataframe\">\n",
       "  <thead>\n",
       "    <tr style=\"text-align: right;\">\n",
       "      <th></th>\n",
       "      <th>Item_Identifier</th>\n",
       "      <th>Item_Weight</th>\n",
       "      <th>Item_Fat_Content</th>\n",
       "      <th>Item_Visibility</th>\n",
       "      <th>Item_Type</th>\n",
       "      <th>Item_MRP</th>\n",
       "      <th>Outlet_Identifier</th>\n",
       "      <th>Outlet_Establishment_Year</th>\n",
       "      <th>Outlet_Size</th>\n",
       "      <th>Outlet_Location_Type</th>\n",
       "      <th>Outlet_Type</th>\n",
       "      <th>Item_Outlet_Sales</th>\n",
       "    </tr>\n",
       "  </thead>\n",
       "  <tbody>\n",
       "    <tr>\n",
       "      <th>7809</th>\n",
       "      <td>FDM08</td>\n",
       "      <td>10.100</td>\n",
       "      <td>Regular</td>\n",
       "      <td>0.0897</td>\n",
       "      <td>Fruits and Vegetables</td>\n",
       "      <td>225.5088</td>\n",
       "      <td>OUT010</td>\n",
       "      <td>1998</td>\n",
       "      <td>NaN</td>\n",
       "      <td>Tier 3</td>\n",
       "      <td>Grocery Store</td>\n",
       "      <td>1342.2528</td>\n",
       "    </tr>\n",
       "    <tr>\n",
       "      <th>5027</th>\n",
       "      <td>FDC45</td>\n",
       "      <td>NaN</td>\n",
       "      <td>Low Fat</td>\n",
       "      <td>0.1351</td>\n",
       "      <td>Fruits and Vegetables</td>\n",
       "      <td>170.3106</td>\n",
       "      <td>OUT027</td>\n",
       "      <td>1985</td>\n",
       "      <td>Medium</td>\n",
       "      <td>Tier 3</td>\n",
       "      <td>Supermarket Type3</td>\n",
       "      <td>3422.2120</td>\n",
       "    </tr>\n",
       "    <tr>\n",
       "      <th>2786</th>\n",
       "      <td>FDG26</td>\n",
       "      <td>18.850</td>\n",
       "      <td>Low Fat</td>\n",
       "      <td>0.0428</td>\n",
       "      <td>Canned</td>\n",
       "      <td>254.4330</td>\n",
       "      <td>OUT018</td>\n",
       "      <td>2009</td>\n",
       "      <td>Medium</td>\n",
       "      <td>Tier 3</td>\n",
       "      <td>Supermarket Type2</td>\n",
       "      <td>2050.6640</td>\n",
       "    </tr>\n",
       "    <tr>\n",
       "      <th>5310</th>\n",
       "      <td>DRI11</td>\n",
       "      <td>8.260</td>\n",
       "      <td>Low Fat</td>\n",
       "      <td>0.0576</td>\n",
       "      <td>Hard Drinks</td>\n",
       "      <td>113.7834</td>\n",
       "      <td>OUT010</td>\n",
       "      <td>1998</td>\n",
       "      <td>NaN</td>\n",
       "      <td>Tier 3</td>\n",
       "      <td>Grocery Store</td>\n",
       "      <td>115.1834</td>\n",
       "    </tr>\n",
       "    <tr>\n",
       "      <th>8011</th>\n",
       "      <td>FDV48</td>\n",
       "      <td>9.195</td>\n",
       "      <td>Regular</td>\n",
       "      <td>0.0518</td>\n",
       "      <td>Baking Goods</td>\n",
       "      <td>77.4644</td>\n",
       "      <td>OUT018</td>\n",
       "      <td>2009</td>\n",
       "      <td>Medium</td>\n",
       "      <td>Tier 3</td>\n",
       "      <td>Supermarket Type2</td>\n",
       "      <td>1414.1592</td>\n",
       "    </tr>\n",
       "  </tbody>\n",
       "</table>\n",
       "</div>"
      ],
      "text/plain": [
       "     Item_Identifier  Item_Weight Item_Fat_Content  Item_Visibility  \\\n",
       "7809           FDM08       10.100          Regular           0.0897   \n",
       "5027           FDC45          NaN          Low Fat           0.1351   \n",
       "2786           FDG26       18.850          Low Fat           0.0428   \n",
       "5310           DRI11        8.260          Low Fat           0.0576   \n",
       "8011           FDV48        9.195          Regular           0.0518   \n",
       "\n",
       "                  Item_Type  Item_MRP Outlet_Identifier  \\\n",
       "7809  Fruits and Vegetables  225.5088            OUT010   \n",
       "5027  Fruits and Vegetables  170.3106            OUT027   \n",
       "2786                 Canned  254.4330            OUT018   \n",
       "5310            Hard Drinks  113.7834            OUT010   \n",
       "8011           Baking Goods   77.4644            OUT018   \n",
       "\n",
       "      Outlet_Establishment_Year Outlet_Size Outlet_Location_Type  \\\n",
       "7809                       1998         NaN               Tier 3   \n",
       "5027                       1985      Medium               Tier 3   \n",
       "2786                       2009      Medium               Tier 3   \n",
       "5310                       1998         NaN               Tier 3   \n",
       "8011                       2009      Medium               Tier 3   \n",
       "\n",
       "            Outlet_Type  Item_Outlet_Sales  \n",
       "7809      Grocery Store          1342.2528  \n",
       "5027  Supermarket Type3          3422.2120  \n",
       "2786  Supermarket Type2          2050.6640  \n",
       "5310      Grocery Store           115.1834  \n",
       "8011  Supermarket Type2          1414.1592  "
      ]
     },
     "execution_count": 5,
     "metadata": {},
     "output_type": "execute_result"
    }
   ],
   "source": [
    "df.sample(5)"
   ]
  },
  {
   "cell_type": "markdown",
   "id": "e4bd81aa-aef6-4a3a-99bd-93d62c4ccf3a",
   "metadata": {},
   "source": [
    "### 3.2 Shape of the Dataset"
   ]
  },
  {
   "cell_type": "code",
   "execution_count": 6,
   "id": "32b769d3-634b-4c84-b502-7a7c4e5c7ab7",
   "metadata": {},
   "outputs": [
    {
     "name": "stdout",
     "output_type": "stream",
     "text": [
      "No. of Observations (rows) : 8523\n",
      "No. of Features (columns)  : 12\n"
     ]
    }
   ],
   "source": [
    "print(f'No. of Observations (rows) : {df.shape[0]}')\n",
    "print(f'No. of Features (columns)  : {df.shape[1]}')"
   ]
  },
  {
   "cell_type": "markdown",
   "id": "2855e902-5f7d-4388-886b-17b16226253b",
   "metadata": {},
   "source": [
    "### 3.3 Dataset Information"
   ]
  },
  {
   "cell_type": "code",
   "execution_count": 7,
   "id": "d955ce84-9cbc-4947-9b09-d07ab2405e41",
   "metadata": {},
   "outputs": [
    {
     "name": "stdout",
     "output_type": "stream",
     "text": [
      "<class 'pandas.core.frame.DataFrame'>\n",
      "RangeIndex: 8523 entries, 0 to 8522\n",
      "Data columns (total 12 columns):\n",
      " #   Column                     Non-Null Count  Dtype  \n",
      "---  ------                     --------------  -----  \n",
      " 0   Item_Identifier            8523 non-null   object \n",
      " 1   Item_Weight                7060 non-null   float64\n",
      " 2   Item_Fat_Content           8523 non-null   object \n",
      " 3   Item_Visibility            8523 non-null   float64\n",
      " 4   Item_Type                  8523 non-null   object \n",
      " 5   Item_MRP                   8523 non-null   float64\n",
      " 6   Outlet_Identifier          8523 non-null   object \n",
      " 7   Outlet_Establishment_Year  8523 non-null   int64  \n",
      " 8   Outlet_Size                6113 non-null   object \n",
      " 9   Outlet_Location_Type       8523 non-null   object \n",
      " 10  Outlet_Type                8523 non-null   object \n",
      " 11  Item_Outlet_Sales          8523 non-null   float64\n",
      "dtypes: float64(4), int64(1), object(7)\n",
      "memory usage: 799.2+ KB\n"
     ]
    }
   ],
   "source": [
    "df.info()"
   ]
  },
  {
   "cell_type": "markdown",
   "id": "ce1a2e48-5618-4861-90c7-db1789714e39",
   "metadata": {},
   "source": [
    "### 3.4 Checking Any Missing Values in the Dataset"
   ]
  },
  {
   "cell_type": "code",
   "execution_count": 8,
   "id": "3b4a8f76-4822-4ce6-94e0-11cf1f1ddb3f",
   "metadata": {},
   "outputs": [
    {
     "data": {
      "text/html": [
       "<div>\n",
       "<style scoped>\n",
       "    .dataframe tbody tr th:only-of-type {\n",
       "        vertical-align: middle;\n",
       "    }\n",
       "\n",
       "    .dataframe tbody tr th {\n",
       "        vertical-align: top;\n",
       "    }\n",
       "\n",
       "    .dataframe thead th {\n",
       "        text-align: right;\n",
       "    }\n",
       "</style>\n",
       "<table border=\"1\" class=\"dataframe\">\n",
       "  <thead>\n",
       "    <tr style=\"text-align: right;\">\n",
       "      <th></th>\n",
       "      <th>Features</th>\n",
       "      <th>Missing Count</th>\n",
       "      <th>Missing PCT</th>\n",
       "    </tr>\n",
       "  </thead>\n",
       "  <tbody>\n",
       "    <tr>\n",
       "      <th>0</th>\n",
       "      <td>Item_Identifier</td>\n",
       "      <td>0</td>\n",
       "      <td>0.0000</td>\n",
       "    </tr>\n",
       "    <tr>\n",
       "      <th>1</th>\n",
       "      <td>Item_Weight</td>\n",
       "      <td>1463</td>\n",
       "      <td>17.1653</td>\n",
       "    </tr>\n",
       "    <tr>\n",
       "      <th>2</th>\n",
       "      <td>Item_Fat_Content</td>\n",
       "      <td>0</td>\n",
       "      <td>0.0000</td>\n",
       "    </tr>\n",
       "    <tr>\n",
       "      <th>3</th>\n",
       "      <td>Item_Visibility</td>\n",
       "      <td>0</td>\n",
       "      <td>0.0000</td>\n",
       "    </tr>\n",
       "    <tr>\n",
       "      <th>4</th>\n",
       "      <td>Item_Type</td>\n",
       "      <td>0</td>\n",
       "      <td>0.0000</td>\n",
       "    </tr>\n",
       "    <tr>\n",
       "      <th>5</th>\n",
       "      <td>Item_MRP</td>\n",
       "      <td>0</td>\n",
       "      <td>0.0000</td>\n",
       "    </tr>\n",
       "    <tr>\n",
       "      <th>6</th>\n",
       "      <td>Outlet_Identifier</td>\n",
       "      <td>0</td>\n",
       "      <td>0.0000</td>\n",
       "    </tr>\n",
       "    <tr>\n",
       "      <th>7</th>\n",
       "      <td>Outlet_Establishment_Year</td>\n",
       "      <td>0</td>\n",
       "      <td>0.0000</td>\n",
       "    </tr>\n",
       "    <tr>\n",
       "      <th>8</th>\n",
       "      <td>Outlet_Size</td>\n",
       "      <td>2410</td>\n",
       "      <td>28.2764</td>\n",
       "    </tr>\n",
       "    <tr>\n",
       "      <th>9</th>\n",
       "      <td>Outlet_Location_Type</td>\n",
       "      <td>0</td>\n",
       "      <td>0.0000</td>\n",
       "    </tr>\n",
       "    <tr>\n",
       "      <th>10</th>\n",
       "      <td>Outlet_Type</td>\n",
       "      <td>0</td>\n",
       "      <td>0.0000</td>\n",
       "    </tr>\n",
       "    <tr>\n",
       "      <th>11</th>\n",
       "      <td>Item_Outlet_Sales</td>\n",
       "      <td>0</td>\n",
       "      <td>0.0000</td>\n",
       "    </tr>\n",
       "  </tbody>\n",
       "</table>\n",
       "</div>"
      ],
      "text/plain": [
       "                     Features  Missing Count  Missing PCT\n",
       "0             Item_Identifier              0       0.0000\n",
       "1                 Item_Weight           1463      17.1653\n",
       "2            Item_Fat_Content              0       0.0000\n",
       "3             Item_Visibility              0       0.0000\n",
       "4                   Item_Type              0       0.0000\n",
       "5                    Item_MRP              0       0.0000\n",
       "6           Outlet_Identifier              0       0.0000\n",
       "7   Outlet_Establishment_Year              0       0.0000\n",
       "8                 Outlet_Size           2410      28.2764\n",
       "9        Outlet_Location_Type              0       0.0000\n",
       "10                Outlet_Type              0       0.0000\n",
       "11          Item_Outlet_Sales              0       0.0000"
      ]
     },
     "execution_count": 8,
     "metadata": {},
     "output_type": "execute_result"
    }
   ],
   "source": [
    "miss_cnt = df.isna().sum().reset_index().rename(columns={'index':'Features', 0:'Missing Count'})\n",
    "miss_cnt['Missing PCT'] = miss_cnt['Missing Count'].apply(lambda x: (x/df.shape[0])*100)\n",
    "miss_cnt"
   ]
  },
  {
   "cell_type": "markdown",
   "id": "18783e04-0cdd-47aa-b518-d3b741fafa58",
   "metadata": {},
   "source": [
    "### 3.5 Checking Unique Values for Individual Features"
   ]
  },
  {
   "cell_type": "code",
   "execution_count": 9,
   "id": "3709c240-f0f3-44fb-88aa-b239a292de35",
   "metadata": {
    "tags": []
   },
   "outputs": [
    {
     "data": {
      "text/html": [
       "<div>\n",
       "<style scoped>\n",
       "    .dataframe tbody tr th:only-of-type {\n",
       "        vertical-align: middle;\n",
       "    }\n",
       "\n",
       "    .dataframe tbody tr th {\n",
       "        vertical-align: top;\n",
       "    }\n",
       "\n",
       "    .dataframe thead th {\n",
       "        text-align: right;\n",
       "    }\n",
       "</style>\n",
       "<table border=\"1\" class=\"dataframe\">\n",
       "  <thead>\n",
       "    <tr style=\"text-align: right;\">\n",
       "      <th></th>\n",
       "      <th>Features</th>\n",
       "      <th>Unique Values</th>\n",
       "      <th>Unique Values PCT</th>\n",
       "    </tr>\n",
       "  </thead>\n",
       "  <tbody>\n",
       "    <tr>\n",
       "      <th>0</th>\n",
       "      <td>Item_Identifier</td>\n",
       "      <td>1559</td>\n",
       "      <td>18.2917</td>\n",
       "    </tr>\n",
       "    <tr>\n",
       "      <th>1</th>\n",
       "      <td>Item_Weight</td>\n",
       "      <td>415</td>\n",
       "      <td>4.8692</td>\n",
       "    </tr>\n",
       "    <tr>\n",
       "      <th>2</th>\n",
       "      <td>Item_Fat_Content</td>\n",
       "      <td>5</td>\n",
       "      <td>0.0587</td>\n",
       "    </tr>\n",
       "    <tr>\n",
       "      <th>3</th>\n",
       "      <td>Item_Visibility</td>\n",
       "      <td>7880</td>\n",
       "      <td>92.4557</td>\n",
       "    </tr>\n",
       "    <tr>\n",
       "      <th>4</th>\n",
       "      <td>Item_Type</td>\n",
       "      <td>16</td>\n",
       "      <td>0.1877</td>\n",
       "    </tr>\n",
       "    <tr>\n",
       "      <th>5</th>\n",
       "      <td>Item_MRP</td>\n",
       "      <td>5938</td>\n",
       "      <td>69.6703</td>\n",
       "    </tr>\n",
       "    <tr>\n",
       "      <th>6</th>\n",
       "      <td>Outlet_Identifier</td>\n",
       "      <td>10</td>\n",
       "      <td>0.1173</td>\n",
       "    </tr>\n",
       "    <tr>\n",
       "      <th>7</th>\n",
       "      <td>Outlet_Establishment_Year</td>\n",
       "      <td>9</td>\n",
       "      <td>0.1056</td>\n",
       "    </tr>\n",
       "    <tr>\n",
       "      <th>8</th>\n",
       "      <td>Outlet_Size</td>\n",
       "      <td>3</td>\n",
       "      <td>0.0352</td>\n",
       "    </tr>\n",
       "    <tr>\n",
       "      <th>9</th>\n",
       "      <td>Outlet_Location_Type</td>\n",
       "      <td>3</td>\n",
       "      <td>0.0352</td>\n",
       "    </tr>\n",
       "    <tr>\n",
       "      <th>10</th>\n",
       "      <td>Outlet_Type</td>\n",
       "      <td>4</td>\n",
       "      <td>0.0469</td>\n",
       "    </tr>\n",
       "    <tr>\n",
       "      <th>11</th>\n",
       "      <td>Item_Outlet_Sales</td>\n",
       "      <td>3493</td>\n",
       "      <td>40.9832</td>\n",
       "    </tr>\n",
       "  </tbody>\n",
       "</table>\n",
       "</div>"
      ],
      "text/plain": [
       "                     Features  Unique Values  Unique Values PCT\n",
       "0             Item_Identifier           1559            18.2917\n",
       "1                 Item_Weight            415             4.8692\n",
       "2            Item_Fat_Content              5             0.0587\n",
       "3             Item_Visibility           7880            92.4557\n",
       "4                   Item_Type             16             0.1877\n",
       "5                    Item_MRP           5938            69.6703\n",
       "6           Outlet_Identifier             10             0.1173\n",
       "7   Outlet_Establishment_Year              9             0.1056\n",
       "8                 Outlet_Size              3             0.0352\n",
       "9        Outlet_Location_Type              3             0.0352\n",
       "10                Outlet_Type              4             0.0469\n",
       "11          Item_Outlet_Sales           3493            40.9832"
      ]
     },
     "execution_count": 9,
     "metadata": {},
     "output_type": "execute_result"
    }
   ],
   "source": [
    "unq_cnt = df.nunique().reset_index().rename(columns={'index':'Features', 0:'Unique Values'})\n",
    "unq_cnt['Unique Values PCT'] = unq_cnt['Unique Values'].apply(lambda x: (x/df.shape[0])*100)\n",
    "unq_cnt"
   ]
  },
  {
   "cell_type": "markdown",
   "id": "e206f192-1b1e-4cfb-a785-641e97c66252",
   "metadata": {},
   "source": [
    "### 3.6 Checking Any Duplicate Records"
   ]
  },
  {
   "cell_type": "code",
   "execution_count": 10,
   "id": "b5eab8f8-c8a1-4270-8c5f-addadc8e4279",
   "metadata": {},
   "outputs": [
    {
     "name": "stdout",
     "output_type": "stream",
     "text": [
      "Total No. of Duplicated Observations in the Dataset : 0\n"
     ]
    }
   ],
   "source": [
    "print(f'Total No. of Duplicated Observations in the Dataset : {df.duplicated().sum()}')"
   ]
  },
  {
   "cell_type": "markdown",
   "id": "9dcced66-5ac4-4d10-9b3a-881e8d76bcc4",
   "metadata": {},
   "source": [
    "### 3.7 Generating Statistical Summary on Numerical Columns"
   ]
  },
  {
   "cell_type": "code",
   "execution_count": 11,
   "id": "a09922d4-74e6-475d-91ed-1f96d370ed3c",
   "metadata": {},
   "outputs": [
    {
     "data": {
      "text/html": [
       "<div>\n",
       "<style scoped>\n",
       "    .dataframe tbody tr th:only-of-type {\n",
       "        vertical-align: middle;\n",
       "    }\n",
       "\n",
       "    .dataframe tbody tr th {\n",
       "        vertical-align: top;\n",
       "    }\n",
       "\n",
       "    .dataframe thead th {\n",
       "        text-align: right;\n",
       "    }\n",
       "</style>\n",
       "<table border=\"1\" class=\"dataframe\">\n",
       "  <thead>\n",
       "    <tr style=\"text-align: right;\">\n",
       "      <th></th>\n",
       "      <th>Item_Weight</th>\n",
       "      <th>Item_Visibility</th>\n",
       "      <th>Item_MRP</th>\n",
       "      <th>Outlet_Establishment_Year</th>\n",
       "      <th>Item_Outlet_Sales</th>\n",
       "    </tr>\n",
       "  </thead>\n",
       "  <tbody>\n",
       "    <tr>\n",
       "      <th>count</th>\n",
       "      <td>7060.0000</td>\n",
       "      <td>8523.0000</td>\n",
       "      <td>8523.0000</td>\n",
       "      <td>8523.0000</td>\n",
       "      <td>8523.0000</td>\n",
       "    </tr>\n",
       "    <tr>\n",
       "      <th>mean</th>\n",
       "      <td>12.8576</td>\n",
       "      <td>0.0661</td>\n",
       "      <td>140.9928</td>\n",
       "      <td>1997.8319</td>\n",
       "      <td>2181.2889</td>\n",
       "    </tr>\n",
       "    <tr>\n",
       "      <th>std</th>\n",
       "      <td>4.6435</td>\n",
       "      <td>0.0516</td>\n",
       "      <td>62.2751</td>\n",
       "      <td>8.3718</td>\n",
       "      <td>1706.4996</td>\n",
       "    </tr>\n",
       "    <tr>\n",
       "      <th>min</th>\n",
       "      <td>4.5550</td>\n",
       "      <td>0.0000</td>\n",
       "      <td>31.2900</td>\n",
       "      <td>1985.0000</td>\n",
       "      <td>33.2900</td>\n",
       "    </tr>\n",
       "    <tr>\n",
       "      <th>25%</th>\n",
       "      <td>8.7737</td>\n",
       "      <td>0.0270</td>\n",
       "      <td>93.8265</td>\n",
       "      <td>1987.0000</td>\n",
       "      <td>834.2474</td>\n",
       "    </tr>\n",
       "    <tr>\n",
       "      <th>50%</th>\n",
       "      <td>12.6000</td>\n",
       "      <td>0.0539</td>\n",
       "      <td>143.0128</td>\n",
       "      <td>1999.0000</td>\n",
       "      <td>1794.3310</td>\n",
       "    </tr>\n",
       "    <tr>\n",
       "      <th>75%</th>\n",
       "      <td>16.8500</td>\n",
       "      <td>0.0946</td>\n",
       "      <td>185.6437</td>\n",
       "      <td>2004.0000</td>\n",
       "      <td>3101.2964</td>\n",
       "    </tr>\n",
       "    <tr>\n",
       "      <th>max</th>\n",
       "      <td>21.3500</td>\n",
       "      <td>0.3284</td>\n",
       "      <td>266.8884</td>\n",
       "      <td>2009.0000</td>\n",
       "      <td>13086.9648</td>\n",
       "    </tr>\n",
       "  </tbody>\n",
       "</table>\n",
       "</div>"
      ],
      "text/plain": [
       "       Item_Weight  Item_Visibility   Item_MRP  Outlet_Establishment_Year  \\\n",
       "count    7060.0000        8523.0000  8523.0000                  8523.0000   \n",
       "mean       12.8576           0.0661   140.9928                  1997.8319   \n",
       "std         4.6435           0.0516    62.2751                     8.3718   \n",
       "min         4.5550           0.0000    31.2900                  1985.0000   \n",
       "25%         8.7737           0.0270    93.8265                  1987.0000   \n",
       "50%        12.6000           0.0539   143.0128                  1999.0000   \n",
       "75%        16.8500           0.0946   185.6437                  2004.0000   \n",
       "max        21.3500           0.3284   266.8884                  2009.0000   \n",
       "\n",
       "       Item_Outlet_Sales  \n",
       "count          8523.0000  \n",
       "mean           2181.2889  \n",
       "std            1706.4996  \n",
       "min              33.2900  \n",
       "25%             834.2474  \n",
       "50%            1794.3310  \n",
       "75%            3101.2964  \n",
       "max           13086.9648  "
      ]
     },
     "execution_count": 11,
     "metadata": {},
     "output_type": "execute_result"
    }
   ],
   "source": [
    "df.describe()"
   ]
  },
  {
   "cell_type": "markdown",
   "id": "ac464aa2-805d-4c0c-b072-eb87f59bb937",
   "metadata": {},
   "source": [
    "### 3.8 Features Specific to a Datatype"
   ]
  },
  {
   "cell_type": "code",
   "execution_count": 12,
   "id": "82d1983e-fa07-472f-90d7-3a133da33e14",
   "metadata": {
    "tags": []
   },
   "outputs": [
    {
     "name": "stdout",
     "output_type": "stream",
     "text": [
      "Number of Unique Data Types : 3\n",
      "Unique Data Types : [dtype('O'), dtype('float64'), dtype('int64')]\n"
     ]
    }
   ],
   "source": [
    "print(f'Number of Unique Data Types : {df.dtypes.nunique()}')\n",
    "print(f'Unique Data Types : {df.dtypes.unique().tolist()}')"
   ]
  },
  {
   "cell_type": "code",
   "execution_count": 13,
   "id": "3b1827db-b6eb-4323-9746-8c8e08359dce",
   "metadata": {},
   "outputs": [
    {
     "name": "stdout",
     "output_type": "stream",
     "text": [
      "Integer Type Features  : 1 \n",
      "['Outlet_Establishment_Year'] \n",
      "\n",
      "\n",
      "Float Type Features    : 4 \n",
      "['Item_Weight', 'Item_Visibility', 'Item_MRP', 'Item_Outlet_Sales'] \n",
      "\n",
      "\n",
      "Float Type Features    : 7 \n",
      "['Item_Identifier', 'Item_Fat_Content', 'Item_Type', 'Outlet_Identifier', 'Outlet_Size', 'Outlet_Location_Type', 'Outlet_Type']\n"
     ]
    }
   ],
   "source": [
    "fea_int = df.select_dtypes(include='int64').columns.values.tolist()\n",
    "fea_flo = df.select_dtypes(include='float64').columns.values.tolist()\n",
    "fea_obj = df.select_dtypes(include='object').columns.values.tolist()\n",
    "\n",
    "print(f'Integer Type Features  : {len(fea_int)} \\n{fea_int} \\n\\n')\n",
    "print(f'Float Type Features    : {len(fea_flo)} \\n{fea_flo} \\n\\n')\n",
    "print(f'Float Type Features    : {len(fea_obj)} \\n{fea_obj}')"
   ]
  },
  {
   "cell_type": "code",
   "execution_count": null,
   "id": "b2444de6-eb92-4466-97bb-fe2036e45303",
   "metadata": {},
   "outputs": [],
   "source": []
  }
 ],
 "metadata": {
  "kernelspec": {
   "display_name": "Python 3 (ipykernel)",
   "language": "python",
   "name": "python3"
  },
  "language_info": {
   "codemirror_mode": {
    "name": "ipython",
    "version": 3
   },
   "file_extension": ".py",
   "mimetype": "text/x-python",
   "name": "python",
   "nbconvert_exporter": "python",
   "pygments_lexer": "ipython3",
   "version": "3.10.10"
  }
 },
 "nbformat": 4,
 "nbformat_minor": 5
}
