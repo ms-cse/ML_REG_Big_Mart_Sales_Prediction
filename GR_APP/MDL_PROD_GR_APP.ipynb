{
 "cells": [
  {
   "cell_type": "markdown",
   "id": "75a0ba21-e186-4f12-97e0-8711764f45db",
   "metadata": {},
   "source": [
    "# ML DEPLOYMENT WITH GRADIO - {\"BIGMART SALES\" DATASET}"
   ]
  },
  {
   "cell_type": "markdown",
   "id": "35962799-8b05-4e63-bc25-ed8c3bca55a0",
   "metadata": {},
   "source": [
    "## 1. Importing Modules"
   ]
  },
  {
   "cell_type": "code",
   "execution_count": 1,
   "id": "ad956dd3-454e-478f-870b-7b63b3ed83d3",
   "metadata": {},
   "outputs": [],
   "source": [
    "import numpy as np\n",
    "import pandas as pd\n",
    "\n",
    "from pickle import dump, load\n",
    "\n",
    "import gradio as gr\n",
    "\n",
    "import warnings\n",
    "warnings.filterwarnings('ignore')"
   ]
  },
  {
   "cell_type": "markdown",
   "id": "812c6698-2be8-4c02-8e8a-daf818dab8b8",
   "metadata": {},
   "source": [
    "## 2. Loading Data and Model"
   ]
  },
  {
   "cell_type": "markdown",
   "id": "7ec6fee8-cf34-43dc-b87c-7ca1cb3b9c84",
   "metadata": {},
   "source": [
    "### 2.1 Loading Xtrain and Model"
   ]
  },
  {
   "cell_type": "code",
   "execution_count": 2,
   "id": "835c3ce4-d03f-4176-ae97-870c99b5580c",
   "metadata": {
    "tags": []
   },
   "outputs": [],
   "source": [
    "def ft_exp(x):\n",
    "    y = x**(1/1.2)\n",
    "    return y\n",
    "\n",
    "def ft_sqrt(x):\n",
    "    y = x**(1/2)  \n",
    "    return y"
   ]
  },
  {
   "cell_type": "code",
   "execution_count": 3,
   "id": "52f06387-e3c3-4e21-81e1-54502c217ba8",
   "metadata": {},
   "outputs": [],
   "source": [
    "X = load(open('bms_X_prod.pkl','rb'))\n",
    "pipe = load(open('bms_mdl_prod.pkl','rb'))"
   ]
  },
  {
   "cell_type": "markdown",
   "id": "6b66d8e8-22b1-4607-b93d-dc87dea8eecf",
   "metadata": {},
   "source": [
    "### 2.2 Loading Test Data"
   ]
  },
  {
   "cell_type": "code",
   "execution_count": 4,
   "id": "b1e5f834-54e4-499a-b658-77d75e76a34d",
   "metadata": {
    "tags": []
   },
   "outputs": [
    {
     "name": "stdout",
     "output_type": "stream",
     "text": [
      "Shape of the test dataset : (100, 11)\n"
     ]
    }
   ],
   "source": [
    "te = pd.read_pickle('bms_FE_test_final.pkl')\n",
    "\n",
    "print(f'Shape of the test dataset : {te.shape}')"
   ]
  },
  {
   "cell_type": "code",
   "execution_count": 5,
   "id": "f21e2fad-2eae-43f4-a3f5-ba6a88c46155",
   "metadata": {
    "tags": []
   },
   "outputs": [
    {
     "data": {
      "text/html": [
       "<div>\n",
       "<style scoped>\n",
       "    .dataframe tbody tr th:only-of-type {\n",
       "        vertical-align: middle;\n",
       "    }\n",
       "\n",
       "    .dataframe tbody tr th {\n",
       "        vertical-align: top;\n",
       "    }\n",
       "\n",
       "    .dataframe thead th {\n",
       "        text-align: right;\n",
       "    }\n",
       "</style>\n",
       "<table border=\"1\" class=\"dataframe\">\n",
       "  <thead>\n",
       "    <tr style=\"text-align: right;\">\n",
       "      <th></th>\n",
       "      <th>Item_Weight</th>\n",
       "      <th>Item_Fat_Content</th>\n",
       "      <th>Item_Visibility</th>\n",
       "      <th>Item_Type</th>\n",
       "      <th>Item_MRP</th>\n",
       "      <th>Outlet_Size</th>\n",
       "      <th>Outlet_Location_Type</th>\n",
       "      <th>Outlet_Type</th>\n",
       "      <th>Item_Outlet_Sales</th>\n",
       "      <th>Item_Category</th>\n",
       "      <th>Outlet_Age</th>\n",
       "    </tr>\n",
       "  </thead>\n",
       "  <tbody>\n",
       "    <tr>\n",
       "      <th>2412</th>\n",
       "      <td>13.000</td>\n",
       "      <td>Non Edible</td>\n",
       "      <td>0.041817</td>\n",
       "      <td>Household</td>\n",
       "      <td>254.5014</td>\n",
       "      <td>Small</td>\n",
       "      <td>Tier 2</td>\n",
       "      <td>Supermarket Type1</td>\n",
       "      <td>4845.0266</td>\n",
       "      <td>Non Consumables</td>\n",
       "      <td>9</td>\n",
       "    </tr>\n",
       "    <tr>\n",
       "      <th>4984</th>\n",
       "      <td>10.195</td>\n",
       "      <td>Low Fat</td>\n",
       "      <td>0.126383</td>\n",
       "      <td>Canned</td>\n",
       "      <td>112.1886</td>\n",
       "      <td>Small</td>\n",
       "      <td>Tier 1</td>\n",
       "      <td>Supermarket Type1</td>\n",
       "      <td>667.1316</td>\n",
       "      <td>Foods</td>\n",
       "      <td>16</td>\n",
       "    </tr>\n",
       "    <tr>\n",
       "      <th>953</th>\n",
       "      <td>17.750</td>\n",
       "      <td>Regular</td>\n",
       "      <td>0.112986</td>\n",
       "      <td>Baking Goods</td>\n",
       "      <td>185.4240</td>\n",
       "      <td>Small</td>\n",
       "      <td>Tier 3</td>\n",
       "      <td>Grocery Store</td>\n",
       "      <td>745.6960</td>\n",
       "      <td>Foods</td>\n",
       "      <td>15</td>\n",
       "    </tr>\n",
       "    <tr>\n",
       "      <th>5100</th>\n",
       "      <td>8.970</td>\n",
       "      <td>Non Edible</td>\n",
       "      <td>0.093159</td>\n",
       "      <td>Household</td>\n",
       "      <td>55.7956</td>\n",
       "      <td>Medium</td>\n",
       "      <td>Tier 1</td>\n",
       "      <td>Supermarket Type1</td>\n",
       "      <td>1037.3164</td>\n",
       "      <td>Non Consumables</td>\n",
       "      <td>14</td>\n",
       "    </tr>\n",
       "    <tr>\n",
       "      <th>4297</th>\n",
       "      <td>14.500</td>\n",
       "      <td>Regular</td>\n",
       "      <td>0.069042</td>\n",
       "      <td>Canned</td>\n",
       "      <td>41.4454</td>\n",
       "      <td>Small</td>\n",
       "      <td>Tier 3</td>\n",
       "      <td>Grocery Store</td>\n",
       "      <td>41.9454</td>\n",
       "      <td>Foods</td>\n",
       "      <td>15</td>\n",
       "    </tr>\n",
       "  </tbody>\n",
       "</table>\n",
       "</div>"
      ],
      "text/plain": [
       "      Item_Weight Item_Fat_Content  Item_Visibility     Item_Type  Item_MRP  \\\n",
       "2412       13.000       Non Edible         0.041817     Household  254.5014   \n",
       "4984       10.195          Low Fat         0.126383        Canned  112.1886   \n",
       "953        17.750          Regular         0.112986  Baking Goods  185.4240   \n",
       "5100        8.970       Non Edible         0.093159     Household   55.7956   \n",
       "4297       14.500          Regular         0.069042        Canned   41.4454   \n",
       "\n",
       "     Outlet_Size Outlet_Location_Type        Outlet_Type  Item_Outlet_Sales  \\\n",
       "2412       Small               Tier 2  Supermarket Type1          4845.0266   \n",
       "4984       Small               Tier 1  Supermarket Type1           667.1316   \n",
       "953        Small               Tier 3      Grocery Store           745.6960   \n",
       "5100      Medium               Tier 1  Supermarket Type1          1037.3164   \n",
       "4297       Small               Tier 3      Grocery Store            41.9454   \n",
       "\n",
       "        Item_Category  Outlet_Age  \n",
       "2412  Non Consumables           9  \n",
       "4984            Foods          16  \n",
       "953             Foods          15  \n",
       "5100  Non Consumables          14  \n",
       "4297            Foods          15  "
      ]
     },
     "execution_count": 5,
     "metadata": {},
     "output_type": "execute_result"
    }
   ],
   "source": [
    "te.head()"
   ]
  },
  {
   "cell_type": "markdown",
   "id": "572673d9-cd7f-4b3a-bfb2-1728a84ef318",
   "metadata": {},
   "source": [
    "### 2.3 Preparing App Samples from Test Data"
   ]
  },
  {
   "cell_type": "code",
   "execution_count": 6,
   "id": "588d9f8b-ecb7-4df1-918b-791765f405b0",
   "metadata": {
    "tags": []
   },
   "outputs": [
    {
     "name": "stdout",
     "output_type": "stream",
     "text": [
      "App Samples with Labels ...\n"
     ]
    }
   ],
   "source": [
    "Xte = te.drop(columns='Item_Outlet_Sales')\n",
    "yte = te['Item_Outlet_Sales']\n",
    "\n",
    "samp = Xte.sample(5).index.values.tolist()\n",
    "samp\n",
    "\n",
    "print('App Samples with Labels ...')\n",
    "te_df = pd.concat([Xte.loc[samp],yte.loc[samp]],axis=1).head(10)"
   ]
  },
  {
   "cell_type": "code",
   "execution_count": 7,
   "id": "028014d9-47b5-4ce0-94cb-6e54fbf234f0",
   "metadata": {
    "tags": []
   },
   "outputs": [
    {
     "name": "stdout",
     "output_type": "stream",
     "text": [
      "App Samples without Labels ...\n"
     ]
    }
   ],
   "source": [
    "print('App Samples without Labels ...')\n",
    "gr_samples = Xte.loc[samp].values.tolist()"
   ]
  },
  {
   "cell_type": "markdown",
   "id": "7102a810-851a-4099-90ed-5b216ade0da9",
   "metadata": {},
   "source": [
    "## 3. Gradio App Development"
   ]
  },
  {
   "cell_type": "markdown",
   "id": "434904ee-7594-442a-93fa-7da1385e52be",
   "metadata": {},
   "source": [
    "### 3.1 Gradio App Prediction Function"
   ]
  },
  {
   "cell_type": "code",
   "execution_count": 8,
   "id": "611cb88e-cac8-4044-b8d6-6d32be5df16f",
   "metadata": {},
   "outputs": [],
   "source": [
    "def bms_prediction(Item_Weight, Item_Fat_Content, Item_Visibility, Item_Type, Item_MRP, Outlet_Size, Outlet_Location_Type, Outlet_Type, Item_Category, Outlet_Age):\n",
    "    \n",
    "    Item_Weight = float(Item_Weight)\n",
    "    Item_Fat_Content = str(Item_Fat_Content)\n",
    "    Item_Visibility = float(Item_Visibility)\n",
    "    Item_Type = str(Item_Type)\n",
    "    Item_MRP = float(Item_MRP)\n",
    "    Outlet_Size = str(Outlet_Size)\n",
    "    Outlet_Location_Type = str(Outlet_Location_Type)\n",
    "    Outlet_Type = str(Outlet_Type)\n",
    "    Item_Category = str(Item_Category)\n",
    "    Outlet_Age = int(Outlet_Age)    \n",
    "    \n",
    "    data = np.array([Item_Weight, Item_Fat_Content, Item_Visibility, Item_Type, Item_MRP, Outlet_Size, Outlet_Location_Type, Outlet_Type, Item_Category, Outlet_Age],dtype=object).reshape(1,10)\n",
    "    # print(data)\n",
    "    res = pipe.predict(data)\n",
    "    # print(res)\n",
    "    \n",
    "    return f'Predicted Sales : {round(res[0],4)}'"
   ]
  },
  {
   "cell_type": "code",
   "execution_count": 9,
   "id": "dc8c6d19-d5c2-4828-9c41-c4fbe1cda66e",
   "metadata": {
    "tags": []
   },
   "outputs": [
    {
     "name": "stdout",
     "output_type": "stream",
     "text": [
      "Predicted Sales : 1895.8969\n"
     ]
    }
   ],
   "source": [
    "res = bms_prediction(5.985, 'Low Fat', 0.096337184, 'Frozen Foods', 125.2678, 'Small', 'Tier 2', 'Supermarket Type1', 'Foods', 6)\n",
    "print(res)"
   ]
  },
  {
   "cell_type": "markdown",
   "id": "124b24f1-fed8-4e64-9609-3fb4074c90b0",
   "metadata": {},
   "source": [
    "### 3.2 Gradio App Interface for Input and Output"
   ]
  },
  {
   "cell_type": "code",
   "execution_count": 10,
   "id": "8659c74b-2a7d-4212-9ffb-79df88db80c3",
   "metadata": {},
   "outputs": [],
   "source": [
    "iface = gr.Interface(bms_prediction, \n",
    "        inputs=[\n",
    "                gr.Textbox(default=None, label='Item Weight', info='Weight of the item'),                     # item_weight\n",
    "                gr.Dropdown(X[X.columns.tolist()[1]].unique().tolist(), label='Item Fat Content', info='Fat content type of the item'),\n",
    "                gr.Textbox(default=None, label='Item Visibility', info='Visibility value of the item'),       # item_vis\n",
    "                gr.Dropdown(X[X.columns.tolist()[3]].unique().tolist(), label='Item Type', info='Type of the item'),\n",
    "                gr.Textbox(default=None, label='Item MRP', info='MRP value of the item'),                          # item_mrp\n",
    "                gr.Dropdown(X[X.columns.tolist()[5]].unique().tolist(), label='Outlet Size', info='Size of the outlet'),\n",
    "                gr.Dropdown(X[X.columns.tolist()[6]].unique().tolist(), label='Outlet Location Type', info='Location type of the outlet'),\n",
    "                gr.Dropdown(X[X.columns.tolist()[7]].unique().tolist(), label='Outlet Type', info='Type of the outlet'),\n",
    "                gr.Dropdown(X[X.columns.tolist()[8]].unique().tolist(), label='Item Category', info='Category of the item'),\n",
    "                gr.Slider(X[X.columns[9]].min(),X[X.columns[9]].max(),4, step=1, label='Outlet Age', info='Age of the outlet')   \n",
    "               ], \n",
    "        outputs=\"text\",\n",
    "        layout='horizontal', theme='soft', \n",
    "        title='BigMart Sales Predictor App', \n",
    "        description='Provide Details of the Item and Outlet', \n",
    "        article='Created by: Manish Sharma',\n",
    "        examples=gr_samples) "
   ]
  },
  {
   "cell_type": "markdown",
   "id": "aefa5c17-2058-438a-b519-a054001e0962",
   "metadata": {},
   "source": [
    "### 3.3 Gradio App Launch"
   ]
  },
  {
   "cell_type": "code",
   "execution_count": 14,
   "id": "9dd5ddb5-5656-42b6-8bcc-c09c7401b380",
   "metadata": {
    "tags": []
   },
   "outputs": [
    {
     "name": "stdout",
     "output_type": "stream",
     "text": [
      "[[11.65, 'Regular', 0.058719726, 'Baking Goods', 171.1422, 'Small', 'Tier 2', 'Supermarket Type1', 'Foods', 9]]\n"
     ]
    }
   ],
   "source": [
    "print(gr_samples[:1])"
   ]
  },
  {
   "cell_type": "code",
   "execution_count": 15,
   "id": "10375a13-6722-4be7-b46c-db93d1e3794f",
   "metadata": {},
   "outputs": [
    {
     "name": "stdout",
     "output_type": "stream",
     "text": [
      "Running on local URL:  http://127.0.0.1:7861\n",
      "\n",
      "To create a public link, set `share=True` in `launch()`.\n"
     ]
    },
    {
     "data": {
      "text/html": [
       "<div><iframe src=\"http://127.0.0.1:7861/\" width=\"1125\" height=\"750\" allow=\"autoplay; camera; microphone; clipboard-read; clipboard-write;\" frameborder=\"0\" allowfullscreen></iframe></div>"
      ],
      "text/plain": [
       "<IPython.core.display.HTML object>"
      ]
     },
     "metadata": {},
     "output_type": "display_data"
    },
    {
     "name": "stdout",
     "output_type": "stream",
     "text": [
      "Keyboard interruption in main thread... closing server.\n"
     ]
    },
    {
     "data": {
      "text/plain": []
     },
     "execution_count": 15,
     "metadata": {},
     "output_type": "execute_result"
    }
   ],
   "source": [
    "iface.launch(share=False, debug=True, width=1125, height=750)"
   ]
  },
  {
   "cell_type": "code",
   "execution_count": null,
   "id": "59c10bbc-c03c-40d4-88cf-0395fda3a90c",
   "metadata": {},
   "outputs": [],
   "source": []
  }
 ],
 "metadata": {
  "kernelspec": {
   "display_name": "Python 3 (ipykernel)",
   "language": "python",
   "name": "python3"
  },
  "language_info": {
   "codemirror_mode": {
    "name": "ipython",
    "version": 3
   },
   "file_extension": ".py",
   "mimetype": "text/x-python",
   "name": "python",
   "nbconvert_exporter": "python",
   "pygments_lexer": "ipython3",
   "version": "3.10.10"
  }
 },
 "nbformat": 4,
 "nbformat_minor": 5
}
