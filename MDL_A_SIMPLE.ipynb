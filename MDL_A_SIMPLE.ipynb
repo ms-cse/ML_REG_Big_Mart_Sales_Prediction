{
 "cells": [
  {
   "cell_type": "markdown",
   "id": "f6079c98-4e48-499e-894f-c50109507c87",
   "metadata": {},
   "source": [
    "# ML REGRESSION - {\"BIGMART SALES\" DATASET}"
   ]
  },
  {
   "cell_type": "markdown",
   "id": "a6709c06-804a-47d1-b0df-5aee8b18f5a3",
   "metadata": {},
   "source": [
    "## 1. Importing Modules and Setting Configurations"
   ]
  },
  {
   "cell_type": "code",
   "execution_count": 1,
   "id": "36db63e5-2d56-407a-b8c0-22812c099423",
   "metadata": {
    "tags": []
   },
   "outputs": [],
   "source": [
    "import numpy as np\n",
    "import pandas as pd\n",
    "\n",
    "import matplotlib.pyplot as plt\n",
    "import seaborn as sb\n",
    "\n",
    "from pickle import dump, load\n",
    "from math import sqrt\n",
    "\n",
    "from sklearn.compose import ColumnTransformer\n",
    "\n",
    "from sklearn.preprocessing import PowerTransformer, FunctionTransformer\n",
    "from sklearn.preprocessing import StandardScaler\n",
    "\n",
    "from sklearn.preprocessing import OrdinalEncoder\n",
    "from sklearn.preprocessing import OneHotEncoder\n",
    "\n",
    "from sklearn.feature_selection import SelectKBest, mutual_info_regression\n",
    "\n",
    "from sklearn.linear_model import LinearRegression\n",
    "\n",
    "from sklearn.pipeline import Pipeline\n",
    "\n",
    "from sklearn.compose import TransformedTargetRegressor\n",
    "\n",
    "from sklearn.metrics import r2_score, mean_squared_error\n",
    "\n",
    "from sklearn.model_selection import KFold, cross_val_score, cross_validate\n",
    "\n",
    "\n",
    "import warnings\n",
    "warnings.filterwarnings('ignore')\n",
    "\n",
    "from sklearn import set_config\n",
    "set_config(display='diagram')"
   ]
  },
  {
   "cell_type": "code",
   "execution_count": 2,
   "id": "4b8cd288-5945-4063-9e00-9fbaeafdef8e",
   "metadata": {
    "tags": []
   },
   "outputs": [],
   "source": [
    "# PD Options\n",
    "\n",
    "pd.set_option('display.min_rows', 5)\n",
    "pd.set_option('display.max_rows', 25)\n",
    "pd.set_option('display.precision', 4)"
   ]
  },
  {
   "cell_type": "code",
   "execution_count": 3,
   "id": "858f3ead-7968-409b-8b3e-f62c9658ccd6",
   "metadata": {
    "tags": []
   },
   "outputs": [],
   "source": [
    "# SB Options\n",
    "\n",
    "sb.set_theme(context='notebook', style='whitegrid', palette='pastel', font='times new roman', font_scale=1.25)"
   ]
  },
  {
   "cell_type": "code",
   "execution_count": 4,
   "id": "393ede34-ae50-4b83-8ea7-431ae69f6204",
   "metadata": {},
   "outputs": [],
   "source": [
    "from sklearn import set_config\n",
    "set_config(display='diagram')"
   ]
  },
  {
   "cell_type": "markdown",
   "id": "5b60c742-f76a-4463-aff4-81be0075736f",
   "metadata": {},
   "source": [
    "## 2. Importing Dataset"
   ]
  },
  {
   "cell_type": "markdown",
   "id": "8ee88fa6-6c43-4cf4-8606-c720aa6d03fe",
   "metadata": {},
   "source": [
    "### 2.1 Train Dataset"
   ]
  },
  {
   "cell_type": "code",
   "execution_count": 5,
   "id": "7477acaa-833f-45c3-beeb-7a05904d1459",
   "metadata": {
    "tags": []
   },
   "outputs": [
    {
     "name": "stdout",
     "output_type": "stream",
     "text": [
      "Shape of the train dataset : (8323, 11)\n"
     ]
    },
    {
     "data": {
      "text/html": [
       "<div>\n",
       "<style scoped>\n",
       "    .dataframe tbody tr th:only-of-type {\n",
       "        vertical-align: middle;\n",
       "    }\n",
       "\n",
       "    .dataframe tbody tr th {\n",
       "        vertical-align: top;\n",
       "    }\n",
       "\n",
       "    .dataframe thead th {\n",
       "        text-align: right;\n",
       "    }\n",
       "</style>\n",
       "<table border=\"1\" class=\"dataframe\">\n",
       "  <thead>\n",
       "    <tr style=\"text-align: right;\">\n",
       "      <th></th>\n",
       "      <th>Item_Weight</th>\n",
       "      <th>Item_Fat_Content</th>\n",
       "      <th>Item_Visibility</th>\n",
       "      <th>Item_Type</th>\n",
       "      <th>Item_MRP</th>\n",
       "      <th>Outlet_Size</th>\n",
       "      <th>Outlet_Location_Type</th>\n",
       "      <th>Outlet_Type</th>\n",
       "      <th>Item_Category</th>\n",
       "      <th>Outlet_Age</th>\n",
       "      <th>Item_Outlet_Sales</th>\n",
       "    </tr>\n",
       "  </thead>\n",
       "  <tbody>\n",
       "    <tr>\n",
       "      <th>2171</th>\n",
       "      <td>13.65</td>\n",
       "      <td>Regular</td>\n",
       "      <td>0.0808</td>\n",
       "      <td>Frozen Foods</td>\n",
       "      <td>262.8936</td>\n",
       "      <td>Medium</td>\n",
       "      <td>Tier 1</td>\n",
       "      <td>Supermarket Type1</td>\n",
       "      <td>Foods</td>\n",
       "      <td>14.0</td>\n",
       "      <td>4958.8784</td>\n",
       "    </tr>\n",
       "    <tr>\n",
       "      <th>5657</th>\n",
       "      <td>6.98</td>\n",
       "      <td>Low Fat</td>\n",
       "      <td>0.0412</td>\n",
       "      <td>Canned</td>\n",
       "      <td>82.8934</td>\n",
       "      <td>Small</td>\n",
       "      <td>Tier 2</td>\n",
       "      <td>Supermarket Type1</td>\n",
       "      <td>Foods</td>\n",
       "      <td>11.0</td>\n",
       "      <td>818.9340</td>\n",
       "    </tr>\n",
       "    <tr>\n",
       "      <th>2156</th>\n",
       "      <td>20.10</td>\n",
       "      <td>Low Fat</td>\n",
       "      <td>0.0746</td>\n",
       "      <td>Dairy Foods</td>\n",
       "      <td>110.3228</td>\n",
       "      <td>Small</td>\n",
       "      <td>Tier 1</td>\n",
       "      <td>Supermarket Type1</td>\n",
       "      <td>Foods</td>\n",
       "      <td>16.0</td>\n",
       "      <td>1768.3648</td>\n",
       "    </tr>\n",
       "    <tr>\n",
       "      <th>110</th>\n",
       "      <td>13.30</td>\n",
       "      <td>Low Fat</td>\n",
       "      <td>0.0798</td>\n",
       "      <td>Dairy Foods</td>\n",
       "      <td>232.5300</td>\n",
       "      <td>Small</td>\n",
       "      <td>Tier 1</td>\n",
       "      <td>Supermarket Type1</td>\n",
       "      <td>Foods</td>\n",
       "      <td>16.0</td>\n",
       "      <td>699.0900</td>\n",
       "    </tr>\n",
       "    <tr>\n",
       "      <th>6709</th>\n",
       "      <td>10.10</td>\n",
       "      <td>Non Edible</td>\n",
       "      <td>0.0301</td>\n",
       "      <td>Health and Hygiene</td>\n",
       "      <td>154.3656</td>\n",
       "      <td>Medium</td>\n",
       "      <td>Tier 3</td>\n",
       "      <td>Supermarket Type3</td>\n",
       "      <td>Non Consumables</td>\n",
       "      <td>28.0</td>\n",
       "      <td>2471.4496</td>\n",
       "    </tr>\n",
       "  </tbody>\n",
       "</table>\n",
       "</div>"
      ],
      "text/plain": [
       "      Item_Weight Item_Fat_Content  Item_Visibility           Item_Type  \\\n",
       "2171        13.65          Regular           0.0808        Frozen Foods   \n",
       "5657         6.98          Low Fat           0.0412              Canned   \n",
       "2156        20.10          Low Fat           0.0746         Dairy Foods   \n",
       "110         13.30          Low Fat           0.0798         Dairy Foods   \n",
       "6709        10.10       Non Edible           0.0301  Health and Hygiene   \n",
       "\n",
       "      Item_MRP Outlet_Size Outlet_Location_Type        Outlet_Type  \\\n",
       "2171  262.8936      Medium               Tier 1  Supermarket Type1   \n",
       "5657   82.8934       Small               Tier 2  Supermarket Type1   \n",
       "2156  110.3228       Small               Tier 1  Supermarket Type1   \n",
       "110   232.5300       Small               Tier 1  Supermarket Type1   \n",
       "6709  154.3656      Medium               Tier 3  Supermarket Type3   \n",
       "\n",
       "        Item_Category  Outlet_Age  Item_Outlet_Sales  \n",
       "2171            Foods        14.0          4958.8784  \n",
       "5657            Foods        11.0           818.9340  \n",
       "2156            Foods        16.0          1768.3648  \n",
       "110             Foods        16.0           699.0900  \n",
       "6709  Non Consumables        28.0          2471.4496  "
      ]
     },
     "execution_count": 5,
     "metadata": {},
     "output_type": "execute_result"
    }
   ],
   "source": [
    "tr = pd.read_pickle('bms_FE_train_final.pkl')\n",
    "\n",
    "\n",
    "print(f'Shape of the train dataset : {tr.shape}')\n",
    "tr.head(5)"
   ]
  },
  {
   "cell_type": "code",
   "execution_count": 6,
   "id": "351be28c-936c-4c64-9461-e3c0da5e77c7",
   "metadata": {
    "tags": []
   },
   "outputs": [],
   "source": [
    "Xtr = tr.drop(columns='Item_Outlet_Sales')\n",
    "ytr = tr['Item_Outlet_Sales']"
   ]
  },
  {
   "cell_type": "markdown",
   "id": "469a826a-8457-4967-ba18-72a8b765d887",
   "metadata": {},
   "source": [
    "### 2.2 Validation Dataset"
   ]
  },
  {
   "cell_type": "code",
   "execution_count": 7,
   "id": "9494bb0a-634d-4786-826f-d2bda125df96",
   "metadata": {
    "tags": []
   },
   "outputs": [
    {
     "name": "stdout",
     "output_type": "stream",
     "text": [
      "Shape of the validation dataset : (100, 11)\n"
     ]
    },
    {
     "data": {
      "text/html": [
       "<div>\n",
       "<style scoped>\n",
       "    .dataframe tbody tr th:only-of-type {\n",
       "        vertical-align: middle;\n",
       "    }\n",
       "\n",
       "    .dataframe tbody tr th {\n",
       "        vertical-align: top;\n",
       "    }\n",
       "\n",
       "    .dataframe thead th {\n",
       "        text-align: right;\n",
       "    }\n",
       "</style>\n",
       "<table border=\"1\" class=\"dataframe\">\n",
       "  <thead>\n",
       "    <tr style=\"text-align: right;\">\n",
       "      <th></th>\n",
       "      <th>Item_Weight</th>\n",
       "      <th>Item_Fat_Content</th>\n",
       "      <th>Item_Visibility</th>\n",
       "      <th>Item_Type</th>\n",
       "      <th>Item_MRP</th>\n",
       "      <th>Outlet_Size</th>\n",
       "      <th>Outlet_Location_Type</th>\n",
       "      <th>Outlet_Type</th>\n",
       "      <th>Item_Outlet_Sales</th>\n",
       "      <th>Item_Category</th>\n",
       "      <th>Outlet_Age</th>\n",
       "    </tr>\n",
       "  </thead>\n",
       "  <tbody>\n",
       "    <tr>\n",
       "      <th>945</th>\n",
       "      <td>13.650</td>\n",
       "      <td>Regular</td>\n",
       "      <td>0.0213</td>\n",
       "      <td>Snack Foods</td>\n",
       "      <td>58.3588</td>\n",
       "      <td>Small</td>\n",
       "      <td>Tier 3</td>\n",
       "      <td>Grocery Store</td>\n",
       "      <td>114.5176</td>\n",
       "      <td>Foods</td>\n",
       "      <td>15</td>\n",
       "    </tr>\n",
       "    <tr>\n",
       "      <th>1794</th>\n",
       "      <td>7.300</td>\n",
       "      <td>Low Fat</td>\n",
       "      <td>0.0861</td>\n",
       "      <td>Frozen Foods</td>\n",
       "      <td>149.8076</td>\n",
       "      <td>High</td>\n",
       "      <td>Tier 3</td>\n",
       "      <td>Supermarket Type1</td>\n",
       "      <td>2808.3444</td>\n",
       "      <td>Foods</td>\n",
       "      <td>26</td>\n",
       "    </tr>\n",
       "    <tr>\n",
       "      <th>3022</th>\n",
       "      <td>11.300</td>\n",
       "      <td>Regular</td>\n",
       "      <td>0.0667</td>\n",
       "      <td>Frozen Foods</td>\n",
       "      <td>257.2962</td>\n",
       "      <td>Small</td>\n",
       "      <td>Tier 1</td>\n",
       "      <td>Supermarket Type1</td>\n",
       "      <td>4920.9278</td>\n",
       "      <td>Foods</td>\n",
       "      <td>16</td>\n",
       "    </tr>\n",
       "    <tr>\n",
       "      <th>23</th>\n",
       "      <td>15.500</td>\n",
       "      <td>Low Fat</td>\n",
       "      <td>0.0576</td>\n",
       "      <td>Baking Goods</td>\n",
       "      <td>107.6938</td>\n",
       "      <td>Small</td>\n",
       "      <td>Tier 1</td>\n",
       "      <td>Grocery Store</td>\n",
       "      <td>214.3876</td>\n",
       "      <td>Foods</td>\n",
       "      <td>28</td>\n",
       "    </tr>\n",
       "    <tr>\n",
       "      <th>2601</th>\n",
       "      <td>9.195</td>\n",
       "      <td>Low Fat</td>\n",
       "      <td>0.1149</td>\n",
       "      <td>Frozen Foods</td>\n",
       "      <td>59.0246</td>\n",
       "      <td>Small</td>\n",
       "      <td>Tier 2</td>\n",
       "      <td>Supermarket Type1</td>\n",
       "      <td>1853.5872</td>\n",
       "      <td>Foods</td>\n",
       "      <td>9</td>\n",
       "    </tr>\n",
       "  </tbody>\n",
       "</table>\n",
       "</div>"
      ],
      "text/plain": [
       "      Item_Weight Item_Fat_Content  Item_Visibility     Item_Type  Item_MRP  \\\n",
       "945        13.650          Regular           0.0213   Snack Foods   58.3588   \n",
       "1794        7.300          Low Fat           0.0861  Frozen Foods  149.8076   \n",
       "3022       11.300          Regular           0.0667  Frozen Foods  257.2962   \n",
       "23         15.500          Low Fat           0.0576  Baking Goods  107.6938   \n",
       "2601        9.195          Low Fat           0.1149  Frozen Foods   59.0246   \n",
       "\n",
       "     Outlet_Size Outlet_Location_Type        Outlet_Type  Item_Outlet_Sales  \\\n",
       "945        Small               Tier 3      Grocery Store           114.5176   \n",
       "1794        High               Tier 3  Supermarket Type1          2808.3444   \n",
       "3022       Small               Tier 1  Supermarket Type1          4920.9278   \n",
       "23         Small               Tier 1      Grocery Store           214.3876   \n",
       "2601       Small               Tier 2  Supermarket Type1          1853.5872   \n",
       "\n",
       "     Item_Category  Outlet_Age  \n",
       "945          Foods          15  \n",
       "1794         Foods          26  \n",
       "3022         Foods          16  \n",
       "23           Foods          28  \n",
       "2601         Foods           9  "
      ]
     },
     "execution_count": 7,
     "metadata": {},
     "output_type": "execute_result"
    }
   ],
   "source": [
    "val = pd.read_pickle('bms_FE_valid_final.pkl')\n",
    "\n",
    "print(f'Shape of the validation dataset : {val.shape}')\n",
    "val.head(5)"
   ]
  },
  {
   "cell_type": "code",
   "execution_count": 8,
   "id": "1ce91ae9-63cb-48a8-ad86-94c558549b98",
   "metadata": {
    "tags": []
   },
   "outputs": [],
   "source": [
    "Xval = val.drop(columns='Item_Outlet_Sales')\n",
    "yval = val['Item_Outlet_Sales']"
   ]
  },
  {
   "cell_type": "markdown",
   "id": "07dd8351-a616-4074-9969-231f6f77f0ab",
   "metadata": {},
   "source": [
    "## 3. Pipeline Creation for Model Building"
   ]
  },
  {
   "cell_type": "code",
   "execution_count": 9,
   "id": "d9c654f2-9c61-450c-b1c4-3dceb3c92862",
   "metadata": {
    "tags": []
   },
   "outputs": [],
   "source": [
    "def ft_exp(x):\n",
    "    y = x**(1/1.2)\n",
    "    return y\n",
    "\n",
    "\n",
    "def ft_sqrt(x):\n",
    "    y = x**(1/2)  \n",
    "    return y\n",
    "\n",
    "ft_mrp_exp = FunctionTransformer(func=ft_exp)\n",
    "ft_age_sqrt = FunctionTransformer(func=ft_sqrt)\n",
    "\n",
    "pre_proc_num = ColumnTransformer(transformers=[\n",
    "                ('pt_it_vis',PowerTransformer(method='yeo-johnson', standardize=False),[2]),\n",
    "                ('ft_it_mrp',ft_mrp_exp,[4]),\n",
    "                ('ft_ol_age',ft_age_sqrt,[9])\n",
    "                ],\n",
    "                remainder='passthrough')"
   ]
  },
  {
   "cell_type": "code",
   "execution_count": 10,
   "id": "97ecf593-e7f3-4ea4-afcb-ee6776eb01d3",
   "metadata": {
    "tags": []
   },
   "outputs": [],
   "source": [
    "pre_proc_ss = ColumnTransformer(transformers=[\n",
    "                ('ss',StandardScaler(),[0,1,2,3])\n",
    "                ],\n",
    "                remainder='passthrough')"
   ]
  },
  {
   "cell_type": "code",
   "execution_count": 11,
   "id": "6845fdfa-4076-4d33-8ef9-4464f25c3576",
   "metadata": {
    "tags": []
   },
   "outputs": [],
   "source": [
    "pre_proc_cat = ColumnTransformer(transformers=[\n",
    "                ('oe',OrdinalEncoder(categories=[['Small','Medium','High'], ['Tier 3','Tier 2','Tier 1'], \n",
    "                        ['Grocery Store','Supermarket Type3','Supermarket Type2','Supermarket Type1']], dtype='object'),[6,7,8]),\n",
    "                ('ohe',OneHotEncoder(drop='first', sparse_output=False, dtype='int8'),[4,5,9]),\n",
    "                ],\n",
    "                remainder='passthrough')"
   ]
  },
  {
   "cell_type": "code",
   "execution_count": 12,
   "id": "849c9f40-5315-4a7e-98cb-1f4959f5c5d1",
   "metadata": {},
   "outputs": [],
   "source": [
    "skb = SelectKBest(mutual_info_regression, k='all')"
   ]
  },
  {
   "cell_type": "code",
   "execution_count": 13,
   "id": "507a6004-b4c8-4f43-a6d7-76ac353a1636",
   "metadata": {
    "tags": []
   },
   "outputs": [],
   "source": [
    "mdl = LinearRegression()"
   ]
  },
  {
   "cell_type": "code",
   "execution_count": 14,
   "id": "912dfe30-925f-4018-955e-8ef1f44efbc4",
   "metadata": {
    "tags": []
   },
   "outputs": [],
   "source": [
    "steps = [('num',pre_proc_num),\n",
    "         ('ss',pre_proc_ss),\n",
    "         ('cat',pre_proc_cat),\n",
    "         ('skb',skb),\n",
    "         ('mdl',mdl)]\n",
    "\n",
    "pipe_mdl = Pipeline(steps)"
   ]
  },
  {
   "cell_type": "markdown",
   "id": "ef5ab645-6edf-4228-828f-65c638b92dc5",
   "metadata": {},
   "source": [
    "## 4. Model Training"
   ]
  },
  {
   "cell_type": "code",
   "execution_count": 15,
   "id": "7d8fdf6b-5d32-4b1a-8644-a1ce8afe7eab",
   "metadata": {
    "tags": []
   },
   "outputs": [
    {
     "data": {
      "text/html": [
       "<style>#sk-container-id-1 {color: black;background-color: white;}#sk-container-id-1 pre{padding: 0;}#sk-container-id-1 div.sk-toggleable {background-color: white;}#sk-container-id-1 label.sk-toggleable__label {cursor: pointer;display: block;width: 100%;margin-bottom: 0;padding: 0.3em;box-sizing: border-box;text-align: center;}#sk-container-id-1 label.sk-toggleable__label-arrow:before {content: \"▸\";float: left;margin-right: 0.25em;color: #696969;}#sk-container-id-1 label.sk-toggleable__label-arrow:hover:before {color: black;}#sk-container-id-1 div.sk-estimator:hover label.sk-toggleable__label-arrow:before {color: black;}#sk-container-id-1 div.sk-toggleable__content {max-height: 0;max-width: 0;overflow: hidden;text-align: left;background-color: #f0f8ff;}#sk-container-id-1 div.sk-toggleable__content pre {margin: 0.2em;color: black;border-radius: 0.25em;background-color: #f0f8ff;}#sk-container-id-1 input.sk-toggleable__control:checked~div.sk-toggleable__content {max-height: 200px;max-width: 100%;overflow: auto;}#sk-container-id-1 input.sk-toggleable__control:checked~label.sk-toggleable__label-arrow:before {content: \"▾\";}#sk-container-id-1 div.sk-estimator input.sk-toggleable__control:checked~label.sk-toggleable__label {background-color: #d4ebff;}#sk-container-id-1 div.sk-label input.sk-toggleable__control:checked~label.sk-toggleable__label {background-color: #d4ebff;}#sk-container-id-1 input.sk-hidden--visually {border: 0;clip: rect(1px 1px 1px 1px);clip: rect(1px, 1px, 1px, 1px);height: 1px;margin: -1px;overflow: hidden;padding: 0;position: absolute;width: 1px;}#sk-container-id-1 div.sk-estimator {font-family: monospace;background-color: #f0f8ff;border: 1px dotted black;border-radius: 0.25em;box-sizing: border-box;margin-bottom: 0.5em;}#sk-container-id-1 div.sk-estimator:hover {background-color: #d4ebff;}#sk-container-id-1 div.sk-parallel-item::after {content: \"\";width: 100%;border-bottom: 1px solid gray;flex-grow: 1;}#sk-container-id-1 div.sk-label:hover label.sk-toggleable__label {background-color: #d4ebff;}#sk-container-id-1 div.sk-serial::before {content: \"\";position: absolute;border-left: 1px solid gray;box-sizing: border-box;top: 0;bottom: 0;left: 50%;z-index: 0;}#sk-container-id-1 div.sk-serial {display: flex;flex-direction: column;align-items: center;background-color: white;padding-right: 0.2em;padding-left: 0.2em;position: relative;}#sk-container-id-1 div.sk-item {position: relative;z-index: 1;}#sk-container-id-1 div.sk-parallel {display: flex;align-items: stretch;justify-content: center;background-color: white;position: relative;}#sk-container-id-1 div.sk-item::before, #sk-container-id-1 div.sk-parallel-item::before {content: \"\";position: absolute;border-left: 1px solid gray;box-sizing: border-box;top: 0;bottom: 0;left: 50%;z-index: -1;}#sk-container-id-1 div.sk-parallel-item {display: flex;flex-direction: column;z-index: 1;position: relative;background-color: white;}#sk-container-id-1 div.sk-parallel-item:first-child::after {align-self: flex-end;width: 50%;}#sk-container-id-1 div.sk-parallel-item:last-child::after {align-self: flex-start;width: 50%;}#sk-container-id-1 div.sk-parallel-item:only-child::after {width: 0;}#sk-container-id-1 div.sk-dashed-wrapped {border: 1px dashed gray;margin: 0 0.4em 0.5em 0.4em;box-sizing: border-box;padding-bottom: 0.4em;background-color: white;}#sk-container-id-1 div.sk-label label {font-family: monospace;font-weight: bold;display: inline-block;line-height: 1.2em;}#sk-container-id-1 div.sk-label-container {text-align: center;}#sk-container-id-1 div.sk-container {/* jupyter's `normalize.less` sets `[hidden] { display: none; }` but bootstrap.min.css set `[hidden] { display: none !important; }` so we also need the `!important` here to be able to override the default hidden behavior on the sphinx rendered scikit-learn.org. See: https://github.com/scikit-learn/scikit-learn/issues/21755 */display: inline-block !important;position: relative;}#sk-container-id-1 div.sk-text-repr-fallback {display: none;}</style><div id=\"sk-container-id-1\" class=\"sk-top-container\"><div class=\"sk-text-repr-fallback\"><pre>TransformedTargetRegressor(regressor=Pipeline(steps=[(&#x27;num&#x27;,\n",
       "                                                      ColumnTransformer(remainder=&#x27;passthrough&#x27;,\n",
       "                                                                        transformers=[(&#x27;pt_it_vis&#x27;,\n",
       "                                                                                       PowerTransformer(standardize=False),\n",
       "                                                                                       [2]),\n",
       "                                                                                      (&#x27;ft_it_mrp&#x27;,\n",
       "                                                                                       FunctionTransformer(func=&lt;function ft_exp at 0x00000236D8A143A0&gt;),\n",
       "                                                                                       [4]),\n",
       "                                                                                      (&#x27;ft_ol_age&#x27;,\n",
       "                                                                                       FunctionTransformer(func=&lt;function ft_sqrt at 0x00000236D8A14550&gt;),\n",
       "                                                                                       [9])])),\n",
       "                                                     (&#x27;ss&#x27;,\n",
       "                                                      ColumnTr...\n",
       "                                                                                                                   &#x27;Tier &#x27;\n",
       "                                                                                                                   &#x27;1&#x27;],\n",
       "                                                                                                                  [&#x27;Grocery &#x27;\n",
       "                                                                                                                   &#x27;Store&#x27;,\n",
       "                                                                                                                   &#x27;Supermarket &#x27;\n",
       "                                                                                                                   &#x27;Type3&#x27;,\n",
       "                                                                                                                   &#x27;Supermarket &#x27;\n",
       "                                                                                                                   &#x27;Type2&#x27;,\n",
       "                                                                                                                   &#x27;Supermarket &#x27;\n",
       "                                                                                                                   &#x27;Type1&#x27;]],\n",
       "                                                                                                      dtype=&#x27;object&#x27;),\n",
       "                                                                                       [6,\n",
       "                                                                                        7,\n",
       "                                                                                        8]),\n",
       "                                                                                      (&#x27;ohe&#x27;,\n",
       "                                                                                       OneHotEncoder(drop=&#x27;first&#x27;,\n",
       "                                                                                                     dtype=&#x27;int8&#x27;,\n",
       "                                                                                                     sparse_output=False),\n",
       "                                                                                       [4,\n",
       "                                                                                        5,\n",
       "                                                                                        9])])),\n",
       "                                                     (&#x27;skb&#x27;,\n",
       "                                                      SelectKBest(k=&#x27;all&#x27;,\n",
       "                                                                  score_func=&lt;function mutual_info_regression at 0x00000236D89C4A60&gt;)),\n",
       "                                                     (&#x27;mdl&#x27;,\n",
       "                                                      LinearRegression())]),\n",
       "                           transformer=PowerTransformer())</pre><b>In a Jupyter environment, please rerun this cell to show the HTML representation or trust the notebook. <br />On GitHub, the HTML representation is unable to render, please try loading this page with nbviewer.org.</b></div><div class=\"sk-container\" hidden><div class=\"sk-item sk-dashed-wrapped\"><div class=\"sk-label-container\"><div class=\"sk-label sk-toggleable\"><input class=\"sk-toggleable__control sk-hidden--visually\" id=\"sk-estimator-id-1\" type=\"checkbox\" ><label for=\"sk-estimator-id-1\" class=\"sk-toggleable__label sk-toggleable__label-arrow\">TransformedTargetRegressor</label><div class=\"sk-toggleable__content\"><pre>TransformedTargetRegressor(regressor=Pipeline(steps=[(&#x27;num&#x27;,\n",
       "                                                      ColumnTransformer(remainder=&#x27;passthrough&#x27;,\n",
       "                                                                        transformers=[(&#x27;pt_it_vis&#x27;,\n",
       "                                                                                       PowerTransformer(standardize=False),\n",
       "                                                                                       [2]),\n",
       "                                                                                      (&#x27;ft_it_mrp&#x27;,\n",
       "                                                                                       FunctionTransformer(func=&lt;function ft_exp at 0x00000236D8A143A0&gt;),\n",
       "                                                                                       [4]),\n",
       "                                                                                      (&#x27;ft_ol_age&#x27;,\n",
       "                                                                                       FunctionTransformer(func=&lt;function ft_sqrt at 0x00000236D8A14550&gt;),\n",
       "                                                                                       [9])])),\n",
       "                                                     (&#x27;ss&#x27;,\n",
       "                                                      ColumnTr...\n",
       "                                                                                                                   &#x27;Tier &#x27;\n",
       "                                                                                                                   &#x27;1&#x27;],\n",
       "                                                                                                                  [&#x27;Grocery &#x27;\n",
       "                                                                                                                   &#x27;Store&#x27;,\n",
       "                                                                                                                   &#x27;Supermarket &#x27;\n",
       "                                                                                                                   &#x27;Type3&#x27;,\n",
       "                                                                                                                   &#x27;Supermarket &#x27;\n",
       "                                                                                                                   &#x27;Type2&#x27;,\n",
       "                                                                                                                   &#x27;Supermarket &#x27;\n",
       "                                                                                                                   &#x27;Type1&#x27;]],\n",
       "                                                                                                      dtype=&#x27;object&#x27;),\n",
       "                                                                                       [6,\n",
       "                                                                                        7,\n",
       "                                                                                        8]),\n",
       "                                                                                      (&#x27;ohe&#x27;,\n",
       "                                                                                       OneHotEncoder(drop=&#x27;first&#x27;,\n",
       "                                                                                                     dtype=&#x27;int8&#x27;,\n",
       "                                                                                                     sparse_output=False),\n",
       "                                                                                       [4,\n",
       "                                                                                        5,\n",
       "                                                                                        9])])),\n",
       "                                                     (&#x27;skb&#x27;,\n",
       "                                                      SelectKBest(k=&#x27;all&#x27;,\n",
       "                                                                  score_func=&lt;function mutual_info_regression at 0x00000236D89C4A60&gt;)),\n",
       "                                                     (&#x27;mdl&#x27;,\n",
       "                                                      LinearRegression())]),\n",
       "                           transformer=PowerTransformer())</pre></div></div></div><div class=\"sk-parallel\"><div class=\"sk-parallel-item\"><div class=\"sk-item\"><div class=\"sk-label-container\"><div class=\"sk-label sk-toggleable\"><input class=\"sk-toggleable__control sk-hidden--visually\" id=\"sk-estimator-id-2\" type=\"checkbox\" ><label for=\"sk-estimator-id-2\" class=\"sk-toggleable__label sk-toggleable__label-arrow\">regressor: Pipeline</label><div class=\"sk-toggleable__content\"><pre>Pipeline(steps=[(&#x27;num&#x27;,\n",
       "                 ColumnTransformer(remainder=&#x27;passthrough&#x27;,\n",
       "                                   transformers=[(&#x27;pt_it_vis&#x27;,\n",
       "                                                  PowerTransformer(standardize=False),\n",
       "                                                  [2]),\n",
       "                                                 (&#x27;ft_it_mrp&#x27;,\n",
       "                                                  FunctionTransformer(func=&lt;function ft_exp at 0x00000236D8A143A0&gt;),\n",
       "                                                  [4]),\n",
       "                                                 (&#x27;ft_ol_age&#x27;,\n",
       "                                                  FunctionTransformer(func=&lt;function ft_sqrt at 0x00000236D8A14550&gt;),\n",
       "                                                  [9])])),\n",
       "                (&#x27;ss&#x27;,\n",
       "                 ColumnTransformer(remainder=&#x27;passthrough&#x27;,\n",
       "                                   tra...\n",
       "                                                                              &#x27;Medium&#x27;,\n",
       "                                                                              &#x27;High&#x27;],\n",
       "                                                                             [&#x27;Tier &#x27;\n",
       "                                                                              &#x27;3&#x27;,\n",
       "                                                                              &#x27;Tier &#x27;\n",
       "                                                                              &#x27;2&#x27;,\n",
       "                                                                              &#x27;Tier &#x27;\n",
       "                                                                              &#x27;1&#x27;],\n",
       "                                                                             [&#x27;Grocery &#x27;\n",
       "                                                                              &#x27;Store&#x27;,\n",
       "                                                                              &#x27;Supermarket &#x27;\n",
       "                                                                              &#x27;Type3&#x27;,\n",
       "                                                                              &#x27;Supermarket &#x27;\n",
       "                                                                              &#x27;Type2&#x27;,\n",
       "                                                                              &#x27;Supermarket &#x27;\n",
       "                                                                              &#x27;Type1&#x27;]],\n",
       "                                                                 dtype=&#x27;object&#x27;),\n",
       "                                                  [6, 7, 8]),\n",
       "                                                 (&#x27;ohe&#x27;,\n",
       "                                                  OneHotEncoder(drop=&#x27;first&#x27;,\n",
       "                                                                dtype=&#x27;int8&#x27;,\n",
       "                                                                sparse_output=False),\n",
       "                                                  [4, 5, 9])])),\n",
       "                (&#x27;skb&#x27;,\n",
       "                 SelectKBest(k=&#x27;all&#x27;,\n",
       "                             score_func=&lt;function mutual_info_regression at 0x00000236D89C4A60&gt;)),\n",
       "                (&#x27;mdl&#x27;, LinearRegression())])</pre></div></div></div><div class=\"sk-serial\"><div class=\"sk-item\"><div class=\"sk-serial\"><div class=\"sk-item sk-dashed-wrapped\"><div class=\"sk-label-container\"><div class=\"sk-label sk-toggleable\"><input class=\"sk-toggleable__control sk-hidden--visually\" id=\"sk-estimator-id-3\" type=\"checkbox\" ><label for=\"sk-estimator-id-3\" class=\"sk-toggleable__label sk-toggleable__label-arrow\">num: ColumnTransformer</label><div class=\"sk-toggleable__content\"><pre>ColumnTransformer(remainder=&#x27;passthrough&#x27;,\n",
       "                  transformers=[(&#x27;pt_it_vis&#x27;,\n",
       "                                 PowerTransformer(standardize=False), [2]),\n",
       "                                (&#x27;ft_it_mrp&#x27;,\n",
       "                                 FunctionTransformer(func=&lt;function ft_exp at 0x00000236D8A143A0&gt;),\n",
       "                                 [4]),\n",
       "                                (&#x27;ft_ol_age&#x27;,\n",
       "                                 FunctionTransformer(func=&lt;function ft_sqrt at 0x00000236D8A14550&gt;),\n",
       "                                 [9])])</pre></div></div></div><div class=\"sk-parallel\"><div class=\"sk-parallel-item\"><div class=\"sk-item\"><div class=\"sk-label-container\"><div class=\"sk-label sk-toggleable\"><input class=\"sk-toggleable__control sk-hidden--visually\" id=\"sk-estimator-id-4\" type=\"checkbox\" ><label for=\"sk-estimator-id-4\" class=\"sk-toggleable__label sk-toggleable__label-arrow\">pt_it_vis</label><div class=\"sk-toggleable__content\"><pre>[2]</pre></div></div></div><div class=\"sk-serial\"><div class=\"sk-item\"><div class=\"sk-estimator sk-toggleable\"><input class=\"sk-toggleable__control sk-hidden--visually\" id=\"sk-estimator-id-5\" type=\"checkbox\" ><label for=\"sk-estimator-id-5\" class=\"sk-toggleable__label sk-toggleable__label-arrow\">PowerTransformer</label><div class=\"sk-toggleable__content\"><pre>PowerTransformer(standardize=False)</pre></div></div></div></div></div></div><div class=\"sk-parallel-item\"><div class=\"sk-item\"><div class=\"sk-label-container\"><div class=\"sk-label sk-toggleable\"><input class=\"sk-toggleable__control sk-hidden--visually\" id=\"sk-estimator-id-6\" type=\"checkbox\" ><label for=\"sk-estimator-id-6\" class=\"sk-toggleable__label sk-toggleable__label-arrow\">ft_it_mrp</label><div class=\"sk-toggleable__content\"><pre>[4]</pre></div></div></div><div class=\"sk-serial\"><div class=\"sk-item\"><div class=\"sk-estimator sk-toggleable\"><input class=\"sk-toggleable__control sk-hidden--visually\" id=\"sk-estimator-id-7\" type=\"checkbox\" ><label for=\"sk-estimator-id-7\" class=\"sk-toggleable__label sk-toggleable__label-arrow\">FunctionTransformer</label><div class=\"sk-toggleable__content\"><pre>FunctionTransformer(func=&lt;function ft_exp at 0x00000236D8A143A0&gt;)</pre></div></div></div></div></div></div><div class=\"sk-parallel-item\"><div class=\"sk-item\"><div class=\"sk-label-container\"><div class=\"sk-label sk-toggleable\"><input class=\"sk-toggleable__control sk-hidden--visually\" id=\"sk-estimator-id-8\" type=\"checkbox\" ><label for=\"sk-estimator-id-8\" class=\"sk-toggleable__label sk-toggleable__label-arrow\">ft_ol_age</label><div class=\"sk-toggleable__content\"><pre>[9]</pre></div></div></div><div class=\"sk-serial\"><div class=\"sk-item\"><div class=\"sk-estimator sk-toggleable\"><input class=\"sk-toggleable__control sk-hidden--visually\" id=\"sk-estimator-id-9\" type=\"checkbox\" ><label for=\"sk-estimator-id-9\" class=\"sk-toggleable__label sk-toggleable__label-arrow\">FunctionTransformer</label><div class=\"sk-toggleable__content\"><pre>FunctionTransformer(func=&lt;function ft_sqrt at 0x00000236D8A14550&gt;)</pre></div></div></div></div></div></div><div class=\"sk-parallel-item\"><div class=\"sk-item\"><div class=\"sk-label-container\"><div class=\"sk-label sk-toggleable\"><input class=\"sk-toggleable__control sk-hidden--visually\" id=\"sk-estimator-id-10\" type=\"checkbox\" ><label for=\"sk-estimator-id-10\" class=\"sk-toggleable__label sk-toggleable__label-arrow\">remainder</label><div class=\"sk-toggleable__content\"><pre></pre></div></div></div><div class=\"sk-serial\"><div class=\"sk-item\"><div class=\"sk-estimator sk-toggleable\"><input class=\"sk-toggleable__control sk-hidden--visually\" id=\"sk-estimator-id-11\" type=\"checkbox\" ><label for=\"sk-estimator-id-11\" class=\"sk-toggleable__label sk-toggleable__label-arrow\">passthrough</label><div class=\"sk-toggleable__content\"><pre>passthrough</pre></div></div></div></div></div></div></div></div><div class=\"sk-item sk-dashed-wrapped\"><div class=\"sk-label-container\"><div class=\"sk-label sk-toggleable\"><input class=\"sk-toggleable__control sk-hidden--visually\" id=\"sk-estimator-id-12\" type=\"checkbox\" ><label for=\"sk-estimator-id-12\" class=\"sk-toggleable__label sk-toggleable__label-arrow\">ss: ColumnTransformer</label><div class=\"sk-toggleable__content\"><pre>ColumnTransformer(remainder=&#x27;passthrough&#x27;,\n",
       "                  transformers=[(&#x27;ss&#x27;, StandardScaler(), [0, 1, 2, 3])])</pre></div></div></div><div class=\"sk-parallel\"><div class=\"sk-parallel-item\"><div class=\"sk-item\"><div class=\"sk-label-container\"><div class=\"sk-label sk-toggleable\"><input class=\"sk-toggleable__control sk-hidden--visually\" id=\"sk-estimator-id-13\" type=\"checkbox\" ><label for=\"sk-estimator-id-13\" class=\"sk-toggleable__label sk-toggleable__label-arrow\">ss</label><div class=\"sk-toggleable__content\"><pre>[0, 1, 2, 3]</pre></div></div></div><div class=\"sk-serial\"><div class=\"sk-item\"><div class=\"sk-estimator sk-toggleable\"><input class=\"sk-toggleable__control sk-hidden--visually\" id=\"sk-estimator-id-14\" type=\"checkbox\" ><label for=\"sk-estimator-id-14\" class=\"sk-toggleable__label sk-toggleable__label-arrow\">StandardScaler</label><div class=\"sk-toggleable__content\"><pre>StandardScaler()</pre></div></div></div></div></div></div><div class=\"sk-parallel-item\"><div class=\"sk-item\"><div class=\"sk-label-container\"><div class=\"sk-label sk-toggleable\"><input class=\"sk-toggleable__control sk-hidden--visually\" id=\"sk-estimator-id-15\" type=\"checkbox\" ><label for=\"sk-estimator-id-15\" class=\"sk-toggleable__label sk-toggleable__label-arrow\">remainder</label><div class=\"sk-toggleable__content\"><pre></pre></div></div></div><div class=\"sk-serial\"><div class=\"sk-item\"><div class=\"sk-estimator sk-toggleable\"><input class=\"sk-toggleable__control sk-hidden--visually\" id=\"sk-estimator-id-16\" type=\"checkbox\" ><label for=\"sk-estimator-id-16\" class=\"sk-toggleable__label sk-toggleable__label-arrow\">passthrough</label><div class=\"sk-toggleable__content\"><pre>passthrough</pre></div></div></div></div></div></div></div></div><div class=\"sk-item sk-dashed-wrapped\"><div class=\"sk-label-container\"><div class=\"sk-label sk-toggleable\"><input class=\"sk-toggleable__control sk-hidden--visually\" id=\"sk-estimator-id-17\" type=\"checkbox\" ><label for=\"sk-estimator-id-17\" class=\"sk-toggleable__label sk-toggleable__label-arrow\">cat: ColumnTransformer</label><div class=\"sk-toggleable__content\"><pre>ColumnTransformer(remainder=&#x27;passthrough&#x27;,\n",
       "                  transformers=[(&#x27;oe&#x27;,\n",
       "                                 OrdinalEncoder(categories=[[&#x27;Small&#x27;, &#x27;Medium&#x27;,\n",
       "                                                             &#x27;High&#x27;],\n",
       "                                                            [&#x27;Tier 3&#x27;, &#x27;Tier 2&#x27;,\n",
       "                                                             &#x27;Tier 1&#x27;],\n",
       "                                                            [&#x27;Grocery Store&#x27;,\n",
       "                                                             &#x27;Supermarket &#x27;\n",
       "                                                             &#x27;Type3&#x27;,\n",
       "                                                             &#x27;Supermarket &#x27;\n",
       "                                                             &#x27;Type2&#x27;,\n",
       "                                                             &#x27;Supermarket &#x27;\n",
       "                                                             &#x27;Type1&#x27;]],\n",
       "                                                dtype=&#x27;object&#x27;),\n",
       "                                 [6, 7, 8]),\n",
       "                                (&#x27;ohe&#x27;,\n",
       "                                 OneHotEncoder(drop=&#x27;first&#x27;, dtype=&#x27;int8&#x27;,\n",
       "                                               sparse_output=False),\n",
       "                                 [4, 5, 9])])</pre></div></div></div><div class=\"sk-parallel\"><div class=\"sk-parallel-item\"><div class=\"sk-item\"><div class=\"sk-label-container\"><div class=\"sk-label sk-toggleable\"><input class=\"sk-toggleable__control sk-hidden--visually\" id=\"sk-estimator-id-18\" type=\"checkbox\" ><label for=\"sk-estimator-id-18\" class=\"sk-toggleable__label sk-toggleable__label-arrow\">oe</label><div class=\"sk-toggleable__content\"><pre>[6, 7, 8]</pre></div></div></div><div class=\"sk-serial\"><div class=\"sk-item\"><div class=\"sk-estimator sk-toggleable\"><input class=\"sk-toggleable__control sk-hidden--visually\" id=\"sk-estimator-id-19\" type=\"checkbox\" ><label for=\"sk-estimator-id-19\" class=\"sk-toggleable__label sk-toggleable__label-arrow\">OrdinalEncoder</label><div class=\"sk-toggleable__content\"><pre>OrdinalEncoder(categories=[[&#x27;Small&#x27;, &#x27;Medium&#x27;, &#x27;High&#x27;],\n",
       "                           [&#x27;Tier 3&#x27;, &#x27;Tier 2&#x27;, &#x27;Tier 1&#x27;],\n",
       "                           [&#x27;Grocery Store&#x27;, &#x27;Supermarket Type3&#x27;,\n",
       "                            &#x27;Supermarket Type2&#x27;, &#x27;Supermarket Type1&#x27;]],\n",
       "               dtype=&#x27;object&#x27;)</pre></div></div></div></div></div></div><div class=\"sk-parallel-item\"><div class=\"sk-item\"><div class=\"sk-label-container\"><div class=\"sk-label sk-toggleable\"><input class=\"sk-toggleable__control sk-hidden--visually\" id=\"sk-estimator-id-20\" type=\"checkbox\" ><label for=\"sk-estimator-id-20\" class=\"sk-toggleable__label sk-toggleable__label-arrow\">ohe</label><div class=\"sk-toggleable__content\"><pre>[4, 5, 9]</pre></div></div></div><div class=\"sk-serial\"><div class=\"sk-item\"><div class=\"sk-estimator sk-toggleable\"><input class=\"sk-toggleable__control sk-hidden--visually\" id=\"sk-estimator-id-21\" type=\"checkbox\" ><label for=\"sk-estimator-id-21\" class=\"sk-toggleable__label sk-toggleable__label-arrow\">OneHotEncoder</label><div class=\"sk-toggleable__content\"><pre>OneHotEncoder(drop=&#x27;first&#x27;, dtype=&#x27;int8&#x27;, sparse_output=False)</pre></div></div></div></div></div></div><div class=\"sk-parallel-item\"><div class=\"sk-item\"><div class=\"sk-label-container\"><div class=\"sk-label sk-toggleable\"><input class=\"sk-toggleable__control sk-hidden--visually\" id=\"sk-estimator-id-22\" type=\"checkbox\" ><label for=\"sk-estimator-id-22\" class=\"sk-toggleable__label sk-toggleable__label-arrow\">remainder</label><div class=\"sk-toggleable__content\"><pre></pre></div></div></div><div class=\"sk-serial\"><div class=\"sk-item\"><div class=\"sk-estimator sk-toggleable\"><input class=\"sk-toggleable__control sk-hidden--visually\" id=\"sk-estimator-id-23\" type=\"checkbox\" ><label for=\"sk-estimator-id-23\" class=\"sk-toggleable__label sk-toggleable__label-arrow\">passthrough</label><div class=\"sk-toggleable__content\"><pre>passthrough</pre></div></div></div></div></div></div></div></div><div class=\"sk-item\"><div class=\"sk-estimator sk-toggleable\"><input class=\"sk-toggleable__control sk-hidden--visually\" id=\"sk-estimator-id-24\" type=\"checkbox\" ><label for=\"sk-estimator-id-24\" class=\"sk-toggleable__label sk-toggleable__label-arrow\">SelectKBest</label><div class=\"sk-toggleable__content\"><pre>SelectKBest(k=&#x27;all&#x27;,\n",
       "            score_func=&lt;function mutual_info_regression at 0x00000236D89C4A60&gt;)</pre></div></div></div><div class=\"sk-item\"><div class=\"sk-estimator sk-toggleable\"><input class=\"sk-toggleable__control sk-hidden--visually\" id=\"sk-estimator-id-25\" type=\"checkbox\" ><label for=\"sk-estimator-id-25\" class=\"sk-toggleable__label sk-toggleable__label-arrow\">LinearRegression</label><div class=\"sk-toggleable__content\"><pre>LinearRegression()</pre></div></div></div></div></div></div></div></div><div class=\"sk-parallel-item\"><div class=\"sk-item\"><div class=\"sk-label-container\"><div class=\"sk-label sk-toggleable\"><input class=\"sk-toggleable__control sk-hidden--visually\" id=\"sk-estimator-id-26\" type=\"checkbox\" ><label for=\"sk-estimator-id-26\" class=\"sk-toggleable__label sk-toggleable__label-arrow\">transformer: PowerTransformer</label><div class=\"sk-toggleable__content\"><pre>PowerTransformer()</pre></div></div></div><div class=\"sk-serial\"><div class=\"sk-item\"><div class=\"sk-estimator sk-toggleable\"><input class=\"sk-toggleable__control sk-hidden--visually\" id=\"sk-estimator-id-27\" type=\"checkbox\" ><label for=\"sk-estimator-id-27\" class=\"sk-toggleable__label sk-toggleable__label-arrow\">PowerTransformer</label><div class=\"sk-toggleable__content\"><pre>PowerTransformer()</pre></div></div></div></div></div></div></div></div></div></div>"
      ],
      "text/plain": [
       "TransformedTargetRegressor(regressor=Pipeline(steps=[('num',\n",
       "                                                      ColumnTransformer(remainder='passthrough',\n",
       "                                                                        transformers=[('pt_it_vis',\n",
       "                                                                                       PowerTransformer(standardize=False),\n",
       "                                                                                       [2]),\n",
       "                                                                                      ('ft_it_mrp',\n",
       "                                                                                       FunctionTransformer(func=<function ft_exp at 0x00000236D8A143A0>),\n",
       "                                                                                       [4]),\n",
       "                                                                                      ('ft_ol_age',\n",
       "                                                                                       FunctionTransformer(func=<function ft_sqrt at 0x00000236D8A14550>),\n",
       "                                                                                       [9])])),\n",
       "                                                     ('ss',\n",
       "                                                      ColumnTr...\n",
       "                                                                                                                   'Tier '\n",
       "                                                                                                                   '1'],\n",
       "                                                                                                                  ['Grocery '\n",
       "                                                                                                                   'Store',\n",
       "                                                                                                                   'Supermarket '\n",
       "                                                                                                                   'Type3',\n",
       "                                                                                                                   'Supermarket '\n",
       "                                                                                                                   'Type2',\n",
       "                                                                                                                   'Supermarket '\n",
       "                                                                                                                   'Type1']],\n",
       "                                                                                                      dtype='object'),\n",
       "                                                                                       [6,\n",
       "                                                                                        7,\n",
       "                                                                                        8]),\n",
       "                                                                                      ('ohe',\n",
       "                                                                                       OneHotEncoder(drop='first',\n",
       "                                                                                                     dtype='int8',\n",
       "                                                                                                     sparse_output=False),\n",
       "                                                                                       [4,\n",
       "                                                                                        5,\n",
       "                                                                                        9])])),\n",
       "                                                     ('skb',\n",
       "                                                      SelectKBest(k='all',\n",
       "                                                                  score_func=<function mutual_info_regression at 0x00000236D89C4A60>)),\n",
       "                                                     ('mdl',\n",
       "                                                      LinearRegression())]),\n",
       "                           transformer=PowerTransformer())"
      ]
     },
     "execution_count": 15,
     "metadata": {},
     "output_type": "execute_result"
    }
   ],
   "source": [
    "pipe = TransformedTargetRegressor(regressor=pipe_mdl, transformer=PowerTransformer(method='yeo-johnson', standardize=True))\n",
    "\n",
    "pipe.fit(Xtr,ytr)"
   ]
  },
  {
   "cell_type": "markdown",
   "id": "5628989b-7103-4b03-90c3-accec5172bbf",
   "metadata": {},
   "source": [
    "## 5. Model Evaluation On Train and Test Data"
   ]
  },
  {
   "cell_type": "code",
   "execution_count": 16,
   "id": "5e560621-8cfb-4ba7-84b4-14db175d6a8b",
   "metadata": {
    "tags": []
   },
   "outputs": [
    {
     "name": "stdout",
     "output_type": "stream",
     "text": [
      "Train Dataset R2 score : 0.3536\n",
      "Train Dataset RMSE : 1372.1487 \n",
      "\n",
      "Validation Dataset R2 score : 0.2358\n",
      "Validation Dataset RMSE : 1303.4476\n"
     ]
    }
   ],
   "source": [
    "yhat_tr = pipe.predict(Xtr)\n",
    "yhat_val = pipe.predict(Xval)\n",
    "\n",
    "print(f'Train Dataset R2 score : {round(r2_score(ytr,yhat_tr),4)}')\n",
    "print(f'Train Dataset RMSE : {round(sqrt(mean_squared_error(ytr,yhat_tr)),4)} \\n')\n",
    "\n",
    "print(f'Validation Dataset R2 score : {round(r2_score(yval,yhat_val),4)}')\n",
    "print(f'Validation Dataset RMSE : {round(sqrt(mean_squared_error(yval,yhat_val)),4)}')"
   ]
  },
  {
   "cell_type": "markdown",
   "id": "78b8bd60-8d5c-4b9e-9bad-78824a5dfb4a",
   "metadata": {},
   "source": [
    "## 6. Cross Validation"
   ]
  },
  {
   "cell_type": "code",
   "execution_count": 17,
   "id": "14b2d966-bf40-4cb4-9763-1a79d145f8ba",
   "metadata": {
    "tags": []
   },
   "outputs": [
    {
     "name": "stdout",
     "output_type": "stream",
     "text": [
      "Cross Validation Results : ------------------------------------------------------------------------\n",
      "R2 Scores : [0.30364599 0.38922311 0.33698634 0.3620866  0.34113367]\n",
      "Mean R2 Score : 0.3466151419365644, St.Dev R2 Score : 0.0283686915120103 \n",
      " ----------------------------------------\n",
      "MSE Scores : [2040805.0392226044, 1793964.2410646083, 1959576.0950385523, 1853359.1817296331, 1865347.6386938256]\n",
      "Mean MSE Score : 1902610.439149845, St.Dev MSE Score : 87133.26856462358 \n",
      " ------------------------------------\n",
      "RMSE Scores : [1428.5674780081633, 1339.3895031187187, 1399.8485971841928, 1361.3813505883033, 1365.7773020129694]\n",
      "Mean RMSE Score : 1378.9928461824697, St.Dev RMSE Score : 31.451062421112137\n"
     ]
    }
   ],
   "source": [
    "print('Cross Validation Results : ------------------------------------------------------------------------')\n",
    "\n",
    "kfold = KFold(n_splits=5, shuffle=True, random_state=46)\n",
    "scoring = ['r2','neg_mean_squared_error','neg_root_mean_squared_error']\n",
    "cv_scores = cross_validate(pipe, Xtr, ytr, cv=kfold, scoring=scoring)\n",
    "\n",
    "r2_scores = cv_scores['test_r2']\n",
    "print(f'R2 Scores : {r2_scores}')\n",
    "print(f'Mean R2 Score : {np.mean(r2_scores)}, St.Dev R2 Score : {np.std(r2_scores)} \\n ----------------------------------------')\n",
    "\n",
    "mse_scores = cv_scores['test_neg_mean_squared_error']\n",
    "mse_scores = [-1*score for score in mse_scores]\n",
    "print(f'MSE Scores : {mse_scores}')\n",
    "print(f'Mean MSE Score : {np.mean(mse_scores)}, St.Dev MSE Score : {np.std(mse_scores)} \\n ------------------------------------')\n",
    "\n",
    "rmse_scores = cv_scores['test_neg_root_mean_squared_error']\n",
    "rmse_scores = [-1*score for score in rmse_scores]\n",
    "print(f'RMSE Scores : {rmse_scores}')\n",
    "print(f'Mean RMSE Score : {np.mean(rmse_scores)}, St.Dev RMSE Score : {np.std(rmse_scores)}')"
   ]
  },
  {
   "cell_type": "markdown",
   "id": "cd4fad69-8542-4bc4-aa44-7fc5a3dae385",
   "metadata": {},
   "source": [
    "## 7. Model Save/Export"
   ]
  },
  {
   "cell_type": "code",
   "execution_count": 18,
   "id": "4cb5df2f-3141-4242-b163-5668530466f0",
   "metadata": {
    "tags": []
   },
   "outputs": [
    {
     "name": "stdout",
     "output_type": "stream",
     "text": [
      "Model Object Saved Successfully \n",
      "\n",
      "\"Xtr\" Features Saved Successfully\n"
     ]
    }
   ],
   "source": [
    "dump(pipe, open('bms_mdl_simple.pkl','wb'))\n",
    "print('Model Object Saved Successfully \\n')\n",
    "\n",
    "dump(Xtr, open('bms_X_simple.pkl','wb'))\n",
    "print('\"Xtr\" Features Saved Successfully')"
   ]
  },
  {
   "cell_type": "markdown",
   "id": "7c875e8c-515b-4248-b7c2-06f808b319fd",
   "metadata": {},
   "source": [
    "## 8. Simple Prediction System"
   ]
  },
  {
   "cell_type": "markdown",
   "id": "887c35e9-897f-4a99-b886-698c676aeefd",
   "metadata": {},
   "source": [
    "### 8.1 Combining Xval and yval"
   ]
  },
  {
   "cell_type": "code",
   "execution_count": 19,
   "id": "3c8e2196-b044-4ea3-b183-ea1dbf1fc74c",
   "metadata": {
    "tags": []
   },
   "outputs": [
    {
     "data": {
      "text/plain": [
       "[3585, 2780, 1075, 3641, 7887, 4156, 5530, 863, 5457, 3402]"
      ]
     },
     "execution_count": 19,
     "metadata": {},
     "output_type": "execute_result"
    }
   ],
   "source": [
    "samp = Xval.sample(10).index.values.tolist()\n",
    "samp"
   ]
  },
  {
   "cell_type": "code",
   "execution_count": 20,
   "id": "4dcd4fa3-6cc1-44a6-967f-864f13114786",
   "metadata": {
    "tags": []
   },
   "outputs": [
    {
     "data": {
      "text/html": [
       "<div>\n",
       "<style scoped>\n",
       "    .dataframe tbody tr th:only-of-type {\n",
       "        vertical-align: middle;\n",
       "    }\n",
       "\n",
       "    .dataframe tbody tr th {\n",
       "        vertical-align: top;\n",
       "    }\n",
       "\n",
       "    .dataframe thead th {\n",
       "        text-align: right;\n",
       "    }\n",
       "</style>\n",
       "<table border=\"1\" class=\"dataframe\">\n",
       "  <thead>\n",
       "    <tr style=\"text-align: right;\">\n",
       "      <th></th>\n",
       "      <th>Item_Weight</th>\n",
       "      <th>Item_Fat_Content</th>\n",
       "      <th>Item_Visibility</th>\n",
       "      <th>Item_Type</th>\n",
       "      <th>Item_MRP</th>\n",
       "      <th>Outlet_Size</th>\n",
       "      <th>Outlet_Location_Type</th>\n",
       "      <th>Outlet_Type</th>\n",
       "      <th>Item_Category</th>\n",
       "      <th>Outlet_Age</th>\n",
       "      <th>Item_Outlet_Sales</th>\n",
       "    </tr>\n",
       "  </thead>\n",
       "  <tbody>\n",
       "    <tr>\n",
       "      <th>3585</th>\n",
       "      <td>5.175</td>\n",
       "      <td>Low Fat</td>\n",
       "      <td>0.0372</td>\n",
       "      <td>Canned</td>\n",
       "      <td>86.8224</td>\n",
       "      <td>Medium</td>\n",
       "      <td>Tier 3</td>\n",
       "      <td>Supermarket Type3</td>\n",
       "      <td>Foods</td>\n",
       "      <td>28</td>\n",
       "      <td>1448.7808</td>\n",
       "    </tr>\n",
       "    <tr>\n",
       "      <th>2780</th>\n",
       "      <td>19.000</td>\n",
       "      <td>Low Fat</td>\n",
       "      <td>0.1119</td>\n",
       "      <td>Frozen Foods</td>\n",
       "      <td>106.5622</td>\n",
       "      <td>Small</td>\n",
       "      <td>Tier 1</td>\n",
       "      <td>Supermarket Type1</td>\n",
       "      <td>Foods</td>\n",
       "      <td>16</td>\n",
       "      <td>2117.2440</td>\n",
       "    </tr>\n",
       "    <tr>\n",
       "      <th>1075</th>\n",
       "      <td>9.800</td>\n",
       "      <td>Regular</td>\n",
       "      <td>0.1406</td>\n",
       "      <td>Baking Goods</td>\n",
       "      <td>49.8008</td>\n",
       "      <td>Small</td>\n",
       "      <td>Tier 1</td>\n",
       "      <td>Supermarket Type1</td>\n",
       "      <td>Foods</td>\n",
       "      <td>16</td>\n",
       "      <td>809.6128</td>\n",
       "    </tr>\n",
       "    <tr>\n",
       "      <th>3641</th>\n",
       "      <td>16.000</td>\n",
       "      <td>Regular</td>\n",
       "      <td>0.1067</td>\n",
       "      <td>Baking Goods</td>\n",
       "      <td>183.6634</td>\n",
       "      <td>Small</td>\n",
       "      <td>Tier 2</td>\n",
       "      <td>Supermarket Type1</td>\n",
       "      <td>Foods</td>\n",
       "      <td>9</td>\n",
       "      <td>2544.6876</td>\n",
       "    </tr>\n",
       "    <tr>\n",
       "      <th>7887</th>\n",
       "      <td>17.750</td>\n",
       "      <td>Non Edible</td>\n",
       "      <td>0.0534</td>\n",
       "      <td>Others</td>\n",
       "      <td>181.7660</td>\n",
       "      <td>Small</td>\n",
       "      <td>Tier 1</td>\n",
       "      <td>Grocery Store</td>\n",
       "      <td>Non Consumables</td>\n",
       "      <td>28</td>\n",
       "      <td>179.7660</td>\n",
       "    </tr>\n",
       "    <tr>\n",
       "      <th>4156</th>\n",
       "      <td>9.500</td>\n",
       "      <td>Regular</td>\n",
       "      <td>0.0488</td>\n",
       "      <td>Starchy Foods</td>\n",
       "      <td>186.5898</td>\n",
       "      <td>Medium</td>\n",
       "      <td>Tier 1</td>\n",
       "      <td>Supermarket Type1</td>\n",
       "      <td>Foods</td>\n",
       "      <td>14</td>\n",
       "      <td>5238.5144</td>\n",
       "    </tr>\n",
       "    <tr>\n",
       "      <th>5530</th>\n",
       "      <td>18.750</td>\n",
       "      <td>Non Edible</td>\n",
       "      <td>0.0523</td>\n",
       "      <td>Health and Hygiene</td>\n",
       "      <td>105.7280</td>\n",
       "      <td>Medium</td>\n",
       "      <td>Tier 3</td>\n",
       "      <td>Supermarket Type2</td>\n",
       "      <td>Non Consumables</td>\n",
       "      <td>4</td>\n",
       "      <td>1704.4480</td>\n",
       "    </tr>\n",
       "    <tr>\n",
       "      <th>863</th>\n",
       "      <td>8.050</td>\n",
       "      <td>Regular</td>\n",
       "      <td>0.1645</td>\n",
       "      <td>Dairy Foods</td>\n",
       "      <td>112.2518</td>\n",
       "      <td>High</td>\n",
       "      <td>Tier 3</td>\n",
       "      <td>Supermarket Type1</td>\n",
       "      <td>Foods</td>\n",
       "      <td>26</td>\n",
       "      <td>1707.7770</td>\n",
       "    </tr>\n",
       "    <tr>\n",
       "      <th>5457</th>\n",
       "      <td>21.250</td>\n",
       "      <td>Non Edible</td>\n",
       "      <td>0.0247</td>\n",
       "      <td>Household</td>\n",
       "      <td>145.1102</td>\n",
       "      <td>Small</td>\n",
       "      <td>Tier 2</td>\n",
       "      <td>Supermarket Type1</td>\n",
       "      <td>Non Consumables</td>\n",
       "      <td>11</td>\n",
       "      <td>1603.9122</td>\n",
       "    </tr>\n",
       "    <tr>\n",
       "      <th>3402</th>\n",
       "      <td>19.600</td>\n",
       "      <td>Non Edible</td>\n",
       "      <td>0.0661</td>\n",
       "      <td>Health and Hygiene</td>\n",
       "      <td>150.3024</td>\n",
       "      <td>Medium</td>\n",
       "      <td>Tier 3</td>\n",
       "      <td>Supermarket Type2</td>\n",
       "      <td>Non Consumables</td>\n",
       "      <td>4</td>\n",
       "      <td>2580.6408</td>\n",
       "    </tr>\n",
       "  </tbody>\n",
       "</table>\n",
       "</div>"
      ],
      "text/plain": [
       "      Item_Weight Item_Fat_Content  Item_Visibility           Item_Type  \\\n",
       "3585        5.175          Low Fat           0.0372              Canned   \n",
       "2780       19.000          Low Fat           0.1119        Frozen Foods   \n",
       "1075        9.800          Regular           0.1406        Baking Goods   \n",
       "3641       16.000          Regular           0.1067        Baking Goods   \n",
       "7887       17.750       Non Edible           0.0534              Others   \n",
       "4156        9.500          Regular           0.0488       Starchy Foods   \n",
       "5530       18.750       Non Edible           0.0523  Health and Hygiene   \n",
       "863         8.050          Regular           0.1645         Dairy Foods   \n",
       "5457       21.250       Non Edible           0.0247           Household   \n",
       "3402       19.600       Non Edible           0.0661  Health and Hygiene   \n",
       "\n",
       "      Item_MRP Outlet_Size Outlet_Location_Type        Outlet_Type  \\\n",
       "3585   86.8224      Medium               Tier 3  Supermarket Type3   \n",
       "2780  106.5622       Small               Tier 1  Supermarket Type1   \n",
       "1075   49.8008       Small               Tier 1  Supermarket Type1   \n",
       "3641  183.6634       Small               Tier 2  Supermarket Type1   \n",
       "7887  181.7660       Small               Tier 1      Grocery Store   \n",
       "4156  186.5898      Medium               Tier 1  Supermarket Type1   \n",
       "5530  105.7280      Medium               Tier 3  Supermarket Type2   \n",
       "863   112.2518        High               Tier 3  Supermarket Type1   \n",
       "5457  145.1102       Small               Tier 2  Supermarket Type1   \n",
       "3402  150.3024      Medium               Tier 3  Supermarket Type2   \n",
       "\n",
       "        Item_Category  Outlet_Age  Item_Outlet_Sales  \n",
       "3585            Foods          28          1448.7808  \n",
       "2780            Foods          16          2117.2440  \n",
       "1075            Foods          16           809.6128  \n",
       "3641            Foods           9          2544.6876  \n",
       "7887  Non Consumables          28           179.7660  \n",
       "4156            Foods          14          5238.5144  \n",
       "5530  Non Consumables           4          1704.4480  \n",
       "863             Foods          26          1707.7770  \n",
       "5457  Non Consumables          11          1603.9122  \n",
       "3402  Non Consumables           4          2580.6408  "
      ]
     },
     "execution_count": 20,
     "metadata": {},
     "output_type": "execute_result"
    }
   ],
   "source": [
    "val_df = pd.concat([Xval.loc[samp],yval.loc[samp]],axis=1)\n",
    "val_df.head(10)"
   ]
  },
  {
   "cell_type": "markdown",
   "id": "aa4d9217-7e27-4154-8d90-87302a77344d",
   "metadata": {},
   "source": [
    "### 8.2 Prediction on Validation Data"
   ]
  },
  {
   "cell_type": "code",
   "execution_count": 21,
   "id": "d5d657fd-91da-46e2-a368-f0907a60db41",
   "metadata": {
    "tags": []
   },
   "outputs": [
    {
     "name": "stdout",
     "output_type": "stream",
     "text": [
      "Validation Data with Index : 863 is Selected for Prediction: \n",
      "\n",
      "\"Item_Weight\" ---:--- 8.05\n",
      "\"Item_Fat_Content\" ---:--- Regular\n",
      "\"Item_Visibility\" ---:--- 0.164542555\n",
      "\"Item_Type\" ---:--- Dairy Foods\n",
      "\"Item_MRP\" ---:--- 112.2518\n",
      "\"Outlet_Size\" ---:--- High\n",
      "\"Outlet_Location_Type\" ---:--- Tier 3\n",
      "\"Outlet_Type\" ---:--- Supermarket Type1\n",
      "\"Item_Category\" ---:--- Foods\n",
      "\"Outlet_Age\" ---:--- 26\n"
     ]
    }
   ],
   "source": [
    "#inp_data = (13.7,0.415,0.68,2.9,0.085,17.0,43.0,1.0014,3.06,0.80,10.0)\n",
    "#inp_data = np.array(inp_data).reshape(1,-1)\n",
    "\n",
    "idx = val_df.sample().index.values\n",
    "inp_data = Xval.loc[idx].values  \n",
    "\n",
    "print(f'Validation Data with Index : {idx[0]} is Selected for Prediction: \\n')\n",
    "\n",
    "for fea_name, fea_val in zip(Xval.columns.tolist(), inp_data[0]):\n",
    "    print(f'\"{fea_name}\" ---:--- {fea_val}')"
   ]
  },
  {
   "cell_type": "code",
   "execution_count": 22,
   "id": "bb84cb8a-b716-4b67-a172-bc548b7a69a3",
   "metadata": {
    "tags": []
   },
   "outputs": [
    {
     "name": "stdout",
     "output_type": "stream",
     "text": [
      "------------- Prediction for Validation Data with Index : 863 --------------------\n",
      "\n",
      "Actual Sales for the Selected Data : 1707.777 \n",
      "\n",
      "Predicted Sales for the Selected Data : 2352.245234763344\n"
     ]
    }
   ],
   "source": [
    "print(f'------------- Prediction for Validation Data with Index : {idx[0]} --------------------\\n')\n",
    "\n",
    "print(f'Actual Sales for the Selected Data : {yval[idx[0]]} \\n')\n",
    "\n",
    "pipe = load(open('bms_mdl_simple.pkl','rb'))\n",
    "pred = pipe.predict(inp_data)\n",
    "\n",
    "print(f'Predicted Sales for the Selected Data : {pred[0]}')"
   ]
  },
  {
   "cell_type": "code",
   "execution_count": null,
   "id": "2a7b03e0-f5e5-426e-98a9-04aa9b4095aa",
   "metadata": {},
   "outputs": [],
   "source": []
  }
 ],
 "metadata": {
  "kernelspec": {
   "display_name": "Python 3 (ipykernel)",
   "language": "python",
   "name": "python3"
  },
  "language_info": {
   "codemirror_mode": {
    "name": "ipython",
    "version": 3
   },
   "file_extension": ".py",
   "mimetype": "text/x-python",
   "name": "python",
   "nbconvert_exporter": "python",
   "pygments_lexer": "ipython3",
   "version": "3.10.10"
  }
 },
 "nbformat": 4,
 "nbformat_minor": 5
}
