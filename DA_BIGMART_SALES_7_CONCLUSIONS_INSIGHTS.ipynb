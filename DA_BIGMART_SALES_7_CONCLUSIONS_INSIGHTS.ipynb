{
 "cells": [
  {
   "cell_type": "markdown",
   "id": "38a4ff0d-93a7-4d10-8806-11e6eae345c2",
   "metadata": {},
   "source": [
    "# CONCLUSIONS AND INSIGHTS - {\"BIGMART SALES\" DATASET}"
   ]
  },
  {
   "cell_type": "markdown",
   "id": "5683c1bb-e259-409e-8d8b-c17d9c5522a6",
   "metadata": {
    "tags": [],
    "toc-hr-collapsed": true
   },
   "source": [
    "## A. UNI-VARIATE EDA"
   ]
  },
  {
   "cell_type": "markdown",
   "id": "916e9edd-4be0-4e9e-a293-f248e4a3363f",
   "metadata": {
    "tags": [],
    "toc-hr-collapsed": true
   },
   "source": [
    "### a. 'numeric' type features"
   ]
  },
  {
   "cell_type": "markdown",
   "id": "3f8085c3-869a-44b6-a432-b4e987a11a71",
   "metadata": {},
   "source": [
    "#### 1. 'Item_Weight'\n",
    "\n",
    "##### - skew = 0.06  (negligible right/positively skewed) as between 0.0-0.1.\n",
    "##### - kurt = -1.22 (platykurtic/negative kurtosis) as below 3.\n",
    "\n",
    "##### - missing values = 0 = 0.0 %\n",
    "\n",
    "##### - outliers = 0 = 0+0 (lb+ub) = 0 %\n",
    "\n",
    "##### - more data points are available around (6-10, 12-13, 15-18) of Item_Weight."
   ]
  },
  {
   "cell_type": "markdown",
   "id": "ace9473b-3dd4-4148-9f09-13bd6b94febb",
   "metadata": {},
   "source": [
    "#### 2. 'Item_Visibility'\n",
    "\n",
    "##### - skew = 1.29 (highly right/positively skewed) as greater than 1.\n",
    "##### - kurt = 2.21 (platykurtic/negative kurtosis) as below 3.\n",
    "\n",
    "##### - missing values = 0 = 0.0 %\n",
    "\n",
    "##### - outliers = 172 = 0+172 (lb+ub) = 2.06 %\n",
    "\n",
    "##### - more data points are available around (0.02-0.04, 0.04-0.06, 0.06-0.08) of Item_Visibility."
   ]
  },
  {
   "cell_type": "markdown",
   "id": "b943b8c2-22e5-49fd-aa43-aaa37159b559",
   "metadata": {},
   "source": [
    "#### 3. 'Item_MRP'\n",
    "\n",
    "##### - skew = 0.12 (slightly right/positively skewed) as between (0-0.5).\n",
    "##### - kurt = -0.89 (platykurtic/negative kurtosis) as below 3.\n",
    "\n",
    "##### - missing values = 0 = 0.0 %\n",
    "\n",
    "##### - outliers = 0 = 0+0 (lb+ub) = 0.0 %\n",
    "\n",
    "##### - more data points are available around (140-200) of Item_MRP."
   ]
  },
  {
   "cell_type": "markdown",
   "id": "46cc879c-eeb0-4ea4-bede-09dcf5652056",
   "metadata": {},
   "source": [
    "#### 4. 'Item_Outlet_Sales' (target feature)\n",
    "\n",
    "##### - skew = 1.17 (extremely right/positively skewed) as above 1.\n",
    "##### - kurt = 1.61 (platykurtic/negative kurtosis) as below 3.\n",
    "\n",
    "##### - missing values = 0 = 0.0 %\n",
    "\n",
    "##### - outliers = 182 = 0+182 (lb+ub) = 2.18 %\n",
    "\n",
    "##### - more data points are available around (0-1000, 1000-2000) value of Item_Outlet_Sales."
   ]
  },
  {
   "cell_type": "markdown",
   "id": "070beeef-b7ed-4fdf-9f6b-3cbc5dbbd5a1",
   "metadata": {
    "toc-hr-collapsed": true
   },
   "source": [
    "### b. 'object' type features"
   ]
  },
  {
   "cell_type": "markdown",
   "id": "1edd1dce-543e-45fd-b493-dfee046e6052",
   "metadata": {},
   "source": [
    "#### 1. 'Item_Identifier' \n",
    "\n",
    "##### - total categories = 1559 \n",
    "##### - categories = ('FD___', 'DR___', 'NC___')   {five letter names for each item}\n",
    "##### - mode (FDG33, FDW13) = (10)\n",
    "\n",
    "##### - missing values = 0 = 0.0 %"
   ]
  },
  {
   "cell_type": "markdown",
   "id": "785edfc0-78d5-4221-8d3c-8d8064aa82d9",
   "metadata": {},
   "source": [
    "#### 2. 'Item_Category'\n",
    "\n",
    "##### - total categories = 3\n",
    "##### - categories = ('Foods', 'Drinks', 'Non Consumables')\n",
    "##### - mode (Foods) = (5991)\n",
    "\n",
    "##### - missing values = 0 = 0.0 %"
   ]
  },
  {
   "cell_type": "markdown",
   "id": "6766ac6f-1365-43d4-a3f0-5b8b0e3d1cf0",
   "metadata": {},
   "source": [
    "#### 3. 'Item_Fat_Content'\n",
    "\n",
    "##### - total categories = 3\n",
    "##### - categories = ('Low Fat', 'Regular', 'Non Edible')\n",
    "##### - mode (Low Fat) = (3817)\n",
    "\n",
    "##### - missing values = 0 = 0.0 %"
   ]
  },
  {
   "cell_type": "markdown",
   "id": "07e64a6f-1722-41d4-aeec-ee66bb5f7713",
   "metadata": {},
   "source": [
    "#### 4. 'Item_Type'\n",
    "\n",
    "##### - total categories = 17\n",
    "##### - categories = ('Fruits and Vegetables', 'Snack Foods', 'Household', 'Frozen Foods','Canned', 'Baking Goods', 'Dairy Foods',                       'Health and Hygiene', 'Soft Drinks', 'Meat', 'Breads', 'Hard Drinks', 'Others', 'Starchy Foods', 'Dairy                              Drinks', 'Breakfast', 'Seafood')\n",
    "##### - mode (Fruits and Vegetables) = (1207)\n",
    "\n",
    "##### - missing values = 0 = 0.0 %"
   ]
  },
  {
   "cell_type": "markdown",
   "id": "d63859bd-ac97-4718-b021-1e0024ad9cb6",
   "metadata": {},
   "source": [
    "#### 5. 'Outlet_Identifier'\n",
    "\n",
    "##### - total  categories = 10\n",
    "##### - categories = ('OUT035', 'OUT046', 'OUT027', 'OUT045', 'OUT017', 'OUT049', 'OUT018', 'OUT013', 'OUT010', 'OUT019')\n",
    "##### - mode (OUT035) = (915)\n",
    "\n",
    "##### - missing values = 0 = 0.0 %"
   ]
  },
  {
   "cell_type": "markdown",
   "id": "79c469e9-c0f4-439b-8ef8-231b06ab16ca",
   "metadata": {},
   "source": [
    "#### 6. 'Outlet_Size'\n",
    "\n",
    "##### - total  categories = 3\n",
    "##### - categories = ('Small', 'Medium', 'High')\n",
    "##### - mode (Small) = (4701)\n",
    "\n",
    "##### - missing values = 0 = 0.0 %"
   ]
  },
  {
   "cell_type": "markdown",
   "id": "e4f495c6-fb55-4746-a7d0-c4352c68e2d4",
   "metadata": {},
   "source": [
    "#### 7. 'Outlet_Location_Type'\n",
    "\n",
    "##### - total  categories = 3\n",
    "##### - categories = ('Tier 1', 'Tier 2', 'Tier 3')\n",
    "##### - mode (Tier 3) = (3253)\n",
    "\n",
    "##### - missing values = 0 = 0.0 %"
   ]
  },
  {
   "cell_type": "markdown",
   "id": "f31f2f91-e8da-42f9-9083-f2ca8abb5fc0",
   "metadata": {},
   "source": [
    "#### 8. 'Outlet_Type'\n",
    "\n",
    "##### - total  categories = 4\n",
    "##### - categories = ('Grocery Store', 'Supermarket Type1', 'Supermarket Type2','Supermarket Type3')\n",
    "##### - mode (Supermarket Type1) = (5457)\n",
    "\n",
    "##### - missing values = 0 = 0.0 %"
   ]
  },
  {
   "cell_type": "markdown",
   "id": "615a5c32-9f5f-4b11-965f-6b06e8a7adec",
   "metadata": {},
   "source": [
    "#### 9. 'Outlet_Establishment_Year'\n",
    "\n",
    "##### - total  categories = 9\n",
    "##### - categories = (1985, 1987, 1997, 1998, 1999, 2002, 2004, 2007, 2009)\n",
    "##### - mode (1985) = (1427)\n",
    "\n",
    "##### - missing values = 0 = 0.0 %"
   ]
  },
  {
   "cell_type": "markdown",
   "id": "d6877d02-9b4c-483a-b947-9ca2a26479a0",
   "metadata": {},
   "source": [
    "#### 10. 'Outlet_Age'\n",
    "\n",
    "##### - total  categories = 9\n",
    "##### - categories = (4,  6,  9, 11, 14, 15, 16, 26, 28)\n",
    "##### - mode (28) = (1427)\n",
    "\n",
    "##### - missing values = 0 = 0.0 %"
   ]
  },
  {
   "cell_type": "markdown",
   "id": "de2f6c41-cad5-4c8c-a1ea-6e9e79705f70",
   "metadata": {
    "toc-hr-collapsed": true
   },
   "source": [
    "## B. BI / MULTI-VARIATE EDA"
   ]
  },
  {
   "cell_type": "markdown",
   "id": "f29ac073-5e4f-4be0-ac15-478f634cdde1",
   "metadata": {
    "tags": [],
    "toc-hr-collapsed": true
   },
   "source": [
    "### a. Numerical-Numerical\n",
    "#### Correlation Range Interpretation:\n",
    "##### - (0.0-0.10) - very low/weak correlation\n",
    "##### - (0.11-0.40) - low/weak correlation\n",
    "##### - (0.41-0.80) - moderate correlation\n",
    "##### - (0.81-1.0) - high correlation"
   ]
  },
  {
   "cell_type": "markdown",
   "id": "538d7695-d6db-4582-a7c7-9c4a209cafdc",
   "metadata": {
    "toc-hr-collapsed": true
   },
   "source": [
    "#### Correlation of other numerical columns w.r.t. target feature ('Item_Outlet_Sales').\n",
    "\n",
    "##### y {Item_Weight} - x {Item_Outlet_Sales} : very low positive correlation with a value of 0.0136. With increase in Item_Weight, Item_Outlet_Sales increases.\n",
    "\n",
    "##### y {Item_Visibility} - x {Item_Outlet_Sales} : low negative correlation with a value of -0.1357. With decrease in Item_Visibility, Item_Outlet_Sales increases.\n",
    "\n",
    "##### y {Item_MRP} - x {Item_Outlet_Sales} : moderate positive correlation with a value of 0.5674. With increase in Item_MRP, Item_Outlet_Sales increases.\n",
    "\n",
    "##### y {Outlet_Age} - x {Item_Outlet_Sales} : very low positive correlation with a value of 0.0478. With increase in Outlet_Age, Item_Outlet_Sales increases."
   ]
  },
  {
   "cell_type": "markdown",
   "id": "dafc0fd6-1280-43b6-9455-977598b1bf8b",
   "metadata": {
    "tags": [],
    "toc-hr-collapsed": true
   },
   "source": [
    "### b. Categorical-Numerical\n",
    "#### - Considering 'Outlet_Age' as categorical type.\n",
    "#### - Exploration of categorical features w.r.t. target feature ('Item_Outlet_Sales')."
   ]
  },
  {
   "cell_type": "markdown",
   "id": "48b4cd07-1596-4a9b-82dd-d9738ea8dad3",
   "metadata": {
    "tags": []
   },
   "source": [
    "#### 1. y {Item_Category} - x {Item_Outlet_Sales}\n",
    "##### a) Oultiers for all the Item_Category above upper bound.\n",
    "##### b) 'Foods' Item are contributing more towards sales, followed by 'Non Consumables' and 'Drinks'.\n",
    "##### c) More number of items in 'Foods' in comparison to 'Non Consumables' and 'Drinks'.\n",
    "\n",
    "#### 2.  y {Item_Fat_Content} - x {Item_Outlet_Sales}\n",
    "##### a) Oultiers for all the Item_Fat_Content above upper bound.\n",
    "##### b) 'Regular' Items are contributing more towards sales, followed by 'Low Fat' and 'Non Edible'.\n",
    "##### c) More number of items in 'Low Fat' in comparison to 'Regular' and 'Non Edible'.\n",
    "##### d) Item_MRP of 'Low Fat' items is less in avergae to 'Regular' Fat Content items.\n",
    "\n",
    "#### 3.  y {Item_Type} - x {Item_Outlet_Sales}\n",
    "##### a) Oultiers for all the Item_Type above upper bound.\n",
    "##### b) Top 3 Item types contributing highest towards sale are 'Seafood','Starchy Foods', and 'Dairy Foods'.\n",
    "##### c) Top 3 Items sold in quantity are 'Fruits and Vegetables','Snack Foods', and 'Household'.\n",
    "\n",
    "#### 4.  y {Outlet_Identifier} - x {Item_Outlet_Sales}\n",
    "##### a) Oultiers for all the Outlet_Identifier above upper bound.\n",
    "##### b) Outlet 'OUT027' is contributing more towards sales. Others are nearly same, except 'OUT010' and 'OUT019'.\n",
    "##### c) All outlets have sold nearly same number of items, except 'OUT010' and 'OUT019'.\n",
    "\n",
    "#### 5.  y {Outlet_Size} - x {Item_Outlet_Sales}\n",
    "##### a) Oultiers for all the Outlet_Size above upper bound.\n",
    "##### b) 'Medium' size outlets are contributing more towards sales, followed by 'High','Small'.\n",
    "##### c) More number of items are sold in 'Small' size outlets, followed by 'Medium', 'High'. \n",
    "\n",
    "#### 6.  y {Outlet_Location_Type} - x {Item_Outlet_Sales}\n",
    "##### a) Oultiers for all the Outlet_Location_Type above upper bound.\n",
    "##### b) 'Tier 2' location type outlets are contributing more towards sales, followed by 'Tier 3' and 'Tier 1'.\n",
    "##### c) More number of items are sold in 'Tier 3' in comparison to 'Tier 2' and 'Tier 1'.\n",
    "\n",
    "\n",
    "#### 7.  y {Outlet_Type} - x {Item_Outlet_Sales}\n",
    "##### a) Oultiers for all the Outlet_Type above upper bound.\n",
    "##### b) 'Supermarket Type3' type outlets are contributing more towards sales, followed by 'Supermarket Type1', 'Supermarket Type2', and 'Grocery Store'.\n",
    "##### c) More number of items are sold in 'Supermarket Type1' in comparison to other types.\n",
    "\n",
    "\n",
    "#### 8.  y {Outlet_Age} - x {Item_Outlet_Sales}\n",
    "##### a) Oultiers for all the Outlet_Age above upper bound.\n",
    "##### b) Items sold on oldest store (28  Yrs) are contributing more towards sales. Others are nearly same, except for outlet with age 15 yrs.\n",
    "##### c) Total Sale till 2013 is highest for the oldest store. Others are nearly same, except for outlet (lowest) with age 15 yrs."
   ]
  },
  {
   "cell_type": "markdown",
   "id": "15316a5a-308b-470c-8877-064089646694",
   "metadata": {},
   "source": [
    "### c. Categorical-Categorical , Numerical('Item_Outlet_Sales')"
   ]
  },
  {
   "cell_type": "markdown",
   "id": "0dcb17e0-76ad-4333-a873-848c730bef28",
   "metadata": {},
   "source": [
    "#### 1. Item_Category\n",
    "\n",
    "##### a. y {Item_Fat_Content} - x {Item_Category} \n",
    "###### - 'Foods' item with 'Regular' fat content are giving more sales than 'Low Fat'.\n",
    "###### - 'Drinks' item with 'Low Fat' content are contributing more towards sales.\n",
    "###### - Sales of 'Non Consumables' is in the middle of above two.\n",
    "\n",
    "##### b. y {Item_Type} - x {Item_Category} \n",
    "###### - 'Foods' item with type 'Seafood' are giving more sales than other following types 'Starchy Foods', 'Dairy Foods', and so on.\n",
    "###### - 'Drinks' item with type 'Hard Drinks' are contributing more towards sales, followed by 'Soft Drinks', and 'Dairy Drinks'.\n",
    "###### - 'Non Consumables' items with type 'Households' have given more sales than 'Health & Hygiene', 'Others'.\n",
    "\n",
    "##### c. y {Outlet_Size} - x {Item_Category} \n",
    "###### - Sale of all Item Category is highest in 'Medium' size outlets followed by 'High','Small'.\n",
    "\n",
    "##### d. y {Outlet_Location_Type} - x {Item_Category} \n",
    "###### - Sale of all Item Category is highest in 'Tier 2' location type outlets followed by 'Tier 3','Tier 1'.\n",
    "\n",
    "##### e. y {Outlet_Type} - x {Item_Category} \n",
    "###### - Sale of all Item Category is highest in 'Supermarket Type3' type outlets followed by 'Supermarket Type1','Supermarket Type2', 'Grocery Store'."
   ]
  },
  {
   "cell_type": "markdown",
   "id": "53108b7a-f01e-4c27-8dfa-01c0830c89fd",
   "metadata": {},
   "source": [
    "#### 2. Item_Fat_Content\n",
    "\n",
    "##### a. y {Item_Type} - x {Item_Fat_Content} \n",
    "###### - Low Fat items with type 'Starchy Foods', 'Breakfast', 'Snack Foods', and 'Soft Drinks' are giving more sales than Regular Fat items. Else Regular Fat items are giving more sales.\n",
    "###### - 'Non Edible' items with type 'Households' have given more sales than 'Health & Hygiene', 'Others'.\n",
    "\n",
    "##### b. y {Outlet_Size} - x {Item_Fat_Content} \n",
    "###### - Regular Fat items sales is higher in 'Medium' and 'Small' size outlets than 'High'.\n",
    "###### - Non Edible Items have higher sales in 'Medium' size outlet, followed by 'High', and 'Small'.\n",
    "\n",
    "##### c. y {Outlet_Location_Type} - x {Item_Fat_Content} \n",
    "###### - Sale of Regular Fat items is higher in 'Tier 2' and 'Tier 1' location type outlets followed by 'Tier 3'. Else 'Tier 3' giving more sales for Low Fat items.\n",
    "###### - Sale of Non Edible items is higher in 'Tier 2' followed by 'Tier 3' and 'Tier 1'.\n",
    "\n",
    "##### d. y {Outlet_Type} - x {Item_Fat_Content} \n",
    "###### - Regular Fat items are giving more sales than Low Fat on outlet types 'Supermaket Type 3', 'Supermarket Type 1', 'Grocery Store', except 'Supermarket Type 2'.\n",
    "###### - Non Edible items are higher in sales on 'Supermarket Type 3' followed by 'Supermarket Type 1', 'Supermarket Type 2' ,'Grocery Store'."
   ]
  },
  {
   "cell_type": "markdown",
   "id": "b1061b34-5ad5-4ddb-a508-8f16e8aad828",
   "metadata": {},
   "source": [
    "#### 3. Outlet_Size\n",
    "\n",
    "##### a. y {Outlet_Location_Type} - x {Outlet_Size} \n",
    "###### - Sale is higher in Medium size outlets of Tier 3 followed by Tier 1.\n",
    "###### - Sale is higher in Small size outlets for Tier 2 followed by Tier 1, Tier 3.\n",
    "\n",
    "##### b. y {Outlet_Type} - x {Outlet_Size} \n",
    "###### - Medium size outlets have more sales for Supermarket Type 3, followed by 'Supermarket Type 1', 'Supermarket Type 2'.\n",
    "###### - Higher sale for Supermarket Type 1 with Medium size outlet followed by 'High', 'Small'."
   ]
  },
  {
   "cell_type": "markdown",
   "id": "bdc97df7-f604-45fe-a0f2-58f36c7331c1",
   "metadata": {},
   "source": [
    "#### 4. Outlet_Location_Type\n",
    "\n",
    "##### a. y {Outlet_Type} - x {Outlet_Location_Type} \n",
    "###### - Sales of Tier 3 location for Supermarket Type 3, followed by 'Supermarket Type 1', 'Supermarket Type 2'.\n",
    "###### - Sale for Grocery Store is lower in all location types."
   ]
  },
  {
   "cell_type": "markdown",
   "id": "f7ca72fe-9b7c-4030-afde-9653abd558b7",
   "metadata": {},
   "source": [
    "## C. EDA Conclusions"
   ]
  },
  {
   "cell_type": "markdown",
   "id": "3846012d-1eb7-4839-b634-42e3af4caacd",
   "metadata": {
    "toc-hr-collapsed": true
   },
   "source": [
    "### a. Uni-Variate EDA conclusions\n",
    "\n",
    "#### . Numerical Features\n",
    "##### - There are no missing values in any of the features.\n",
    "##### - Some features have highly skewed distribution i.e., features are not Normally Distributed.\n",
    "##### - Outliers vary in the range of (0-2.18) % for the features.\n",
    "\n",
    "#### . Categorical Features \n",
    "##### - 'Item_Identifier' feature uniquely identifies each product and has lot of categories, can be dropped for model buidling.\n",
    "##### - 'Outlet_Identifier' feature uniquely indentifies each store, can be dropped for model building.\n",
    "##### - 'Item_Type' has lot of unique categorical values, needs to be handled.\n",
    "##### - 'Outlet_Establishment_Year' feature is used to create new feature 'Outlet_Age'. So, can be dropped for model building. "
   ]
  },
  {
   "cell_type": "markdown",
   "id": "a864a2f1-6cce-423b-a559-3f95ffeedd8d",
   "metadata": {
    "tags": [],
    "toc-hr-collapsed": true
   },
   "source": [
    "### b. Bi Variate EDA conclusions\n",
    "\n",
    "#### . Numerical-Numerical ('Item_Outlet_Sales' vs others)\n",
    "##### - High : positive(), negative()\n",
    "##### - Moderate : positive(Item_MRP), negative()\n",
    "##### - Low : positive(), negative(Item_Visibility)\n",
    "##### - Very Low : positive(Item_Weight, Outlet_Age), negative()\n",
    "\n",
    "\n",
    "#### . Categorical-Numerical ('Item_Outlet_Sales' vs others)\n",
    "##### - Outliers for different labels of Categorical Features.\n",
    "##### - Foods Item are contributing more for sales than Drinks and Non Consumables.\n",
    "##### - Regular Fat items are giving more sales than Low Fat and Non Edible. But more units are sold for Low Fat items.\n",
    "##### - Maximum units sold for 'Fruits and Vegetables','Snack Foods', and 'Household'. Highest sale is 'Seafood','Starchy Foods', and 'Dairy Foods'.\n",
    "##### - Outlets with ID OUT027 has highest sale and ID OUT010, and OUT019 have lowest sales.\n",
    "##### - Medium size outlets have more sales, but more items are sold in Small size outlets.\n",
    "##### - Highest sale is in Tier 2 location outlets, but more units are sold in Tier 3 location types.\n",
    "##### - Supermarket Type 3 are giving more sales, but more items are sold in Supermarket Type 1.\n",
    "##### - Oldest (28 Yrs) outlet has given more sales in comparison to others, but outlet aged 15 Yrs is lowest in terms of sales. \n",
    "\n",
    "\n",
    "#### . Categorical-Categorical ('Item_Outlet_Sales' as Value across categorical features)\n",
    "##### - Foods and Drinks with Regular and Low Fat respectively are giving more sales.\n",
    "##### - Foods, Drinks, Non Consumables with Seafood, Hard Drinks, and Households are contributing more for sales.\n",
    "##### - Items in each category have highest sales in Medium size, Tier 2, Supermarket Type 3 outlets.\n",
    "\n",
    "##### - Regular Fat items are contributing more for sales, except for few Low Fat Items.\n",
    "##### - Regular Fat have higher sales in Medium size, Tier 2 and Tier 1 type, and Supermarket Type 3 outlets.\n",
    "##### - Non Edible items are giving more sales in Medium size, Tier 2 type, and Supermarket Type 3 outlets.\n",
    "\n",
    "##### - Higher sales for Medium size, Tier 3, and Supermarket Type 3 outlets.\n",
    "##### - Higher sales for Small size, Tier 2 outlets.\n",
    "##### - Supermarket Type 1 has higher sales for Medium than High \n",
    "\n",
    "##### - Sale of Grocery Store is lower in all location types."
   ]
  },
  {
   "cell_type": "code",
   "execution_count": null,
   "id": "49968bcf-e2f8-4862-bfaa-49373ac29a32",
   "metadata": {},
   "outputs": [],
   "source": []
  }
 ],
 "metadata": {
  "kernelspec": {
   "display_name": "Python 3 (ipykernel)",
   "language": "python",
   "name": "python3"
  },
  "language_info": {
   "codemirror_mode": {
    "name": "ipython",
    "version": 3
   },
   "file_extension": ".py",
   "mimetype": "text/x-python",
   "name": "python",
   "nbconvert_exporter": "python",
   "pygments_lexer": "ipython3",
   "version": "3.10.10"
  }
 },
 "nbformat": 4,
 "nbformat_minor": 5
}
